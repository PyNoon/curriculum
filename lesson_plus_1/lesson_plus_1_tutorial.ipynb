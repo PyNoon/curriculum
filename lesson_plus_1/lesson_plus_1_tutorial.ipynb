{
 "cells": [
  {
   "cell_type": "markdown",
   "metadata": {},
   "source": [
    "This tutorial will cover use of AI models, loading data from text files,\n",
    "and constructing DataFrames.\n",
    "\n",
    "## Setup\n",
    "\n",
    "1.  Make a new notebook for this lesson\n",
    "2.  What’s the first thing to do? RENAME IT!\n",
    "3.  Name it `pynoon_plus_1.ipynb`\n",
    "\n",
    "## Using AI models from Python\n",
    "\n",
    "-   [huggingface.co](https://huggingface.co/) has LOTS of AI *models*\n",
    "    available for different tasks that we can download and use.\n",
    "    -   Many are free to use, even for commercial purposes.\n",
    "-   Let’s use an AI model to assign a label to a string of text!\n",
    "-   Specifically, we’ll use a zero-shot classification model that picks\n",
    "    which of a provided list of labels best fits a text snippet we\n",
    "    provide.\n",
    "    -   Zero-shot means we don’t need to provide examples of text\n",
    "        snippets for our labels\n",
    "\n",
    "> Normally we’d have to install `transformers` and its dependency\n",
    "> `torch` using `pip`, but Colab already has these installed.\n",
    "\n",
    "-   Downloading and preparing the classifier is very straightforward.\n",
    "-   The model will be downloaded to the Colab instance running on\n",
    "    Google’s servers - not your computer."
   ]
  },
  {
   "cell_type": "code",
   "execution_count": null,
   "metadata": {},
   "outputs": [],
   "source": [
    "from transformers import pipeline\n",
    "\n",
    "classifier = pipeline('zero-shot-classification', model='facebook/bart-large-mnli')"
   ]
  },
  {
   "cell_type": "markdown",
   "metadata": {},
   "source": [
    "-   Applying the classifier to a snippet of text is similarly easy:"
   ]
  },
  {
   "cell_type": "code",
   "execution_count": null,
   "metadata": {},
   "outputs": [],
   "source": [
    "classifier(\n",
    "    'one day I will see the world',\n",
    "    candidate_labels=['travel', 'cooking', 'technology'],\n",
    ")"
   ]
  },
  {
   "cell_type": "markdown",
   "metadata": {},
   "source": [
    "-   The output is given as a dictionary, containing a list of labels\n",
    "    ordered from most likely to least likely, as well as a list of\n",
    "    *scores* for those labels, indicating the model’s confidence in\n",
    "    assigning each label to the text.\n",
    "-   We can see that the model thinks that `travel` is the best fit,\n",
    "    which seems reasonable.\n",
    "    -   Though AI models won’t always give reasonable responses!\n",
    "-   Let’s create a function that we can use to call the classifier with\n",
    "    a single argument - the text to classify:"
   ]
  },
  {
   "cell_type": "code",
   "execution_count": null,
   "metadata": {},
   "outputs": [],
   "source": [
    "def classify_text(text_to_classify):\n",
    "    result = classifier(\n",
    "        text_to_classify,\n",
    "        candidate_labels=['travel', 'cooking', 'dancing'],\n",
    "    )\n",
    "    return result['labels'][0]\n",
    "\n",
    "classify_text('one day I will see the world')"
   ]
  },
  {
   "cell_type": "markdown",
   "metadata": {},
   "source": [
    "## Processing a text file to produce a DataFrame\n",
    "\n",
    "-   Now let’s classify a text file of blog post titles to produce a\n",
    "    DataFrame of rows containing each title and label\n",
    "-   Download `titles.txt` from:\n",
    "    [pynoon.github.io/curriculum/lesson_plus_1/titles.txt](https://pynoon.github.io/curriculum/lesson_plus_1/titles.txt)\n",
    "-   Click the folder icon on the left side of the Colab interface, then\n",
    "    use the upload button to upload `titles.txt`\n",
    "-   **ALTERNATIVELY:**\n",
    "    -   Click the folder icon on the left side of the Colab interface,\n",
    "        then right-click and select `New file`\n",
    "\n",
    "    -   Right-click and select `Rename file` to name it `titles.txt`\n",
    "\n",
    "    -   Double-click the file to open it, and enter the following\n",
    "        content:\n",
    "\n",
    "            My weekend in Queenstown\n",
    "            When to plant tomatoes\n",
    "            Recommendations for 2024's best TVs\n",
    "            The fastest ever cookie recipe\n",
    "\n",
    "    -   `Ctrl-s` to save the file.\n",
    "-   Now, we can use `open()` to load the file\n",
    "-   `open()` should be used with a `with` statement so that the file is\n",
    "    automatically closed when we’re finished with it:"
   ]
  },
  {
   "cell_type": "code",
   "execution_count": null,
   "metadata": {},
   "outputs": [],
   "source": [
    "with open('titles.txt') as titles_file:\n",
    "    titles = titles_file.readlines()"
   ]
  },
  {
   "cell_type": "markdown",
   "metadata": {},
   "source": [
    "`.readlines()` has provided us with a list of strings representing each\n",
    "line in the file:"
   ]
  },
  {
   "cell_type": "code",
   "execution_count": null,
   "metadata": {},
   "outputs": [],
   "source": [
    "titles"
   ]
  },
  {
   "cell_type": "markdown",
   "metadata": {},
   "source": [
    "We can use a list comprehension to transform each value in a list:"
   ]
  },
  {
   "cell_type": "code",
   "execution_count": null,
   "metadata": {},
   "outputs": [],
   "source": [
    "[classify_text(title) for title in titles]"
   ]
  },
  {
   "cell_type": "markdown",
   "metadata": {},
   "source": [
    "We can use a list comprehension to construct a list of dictionaries,\n",
    "where each dictionary contains the title and its label:"
   ]
  },
  {
   "cell_type": "code",
   "execution_count": null,
   "metadata": {},
   "outputs": [],
   "source": [
    "title_details = [\n",
    "    {\n",
    "        'title': title,\n",
    "        'label': classify_text(title),\n",
    "    }\n",
    "    for title in titles\n",
    "]\n",
    "title_details"
   ]
  },
  {
   "cell_type": "markdown",
   "metadata": {},
   "source": [
    "-   `pd.DataFrame` can be used to construct a DataFrame from a list of\n",
    "    dictionaries like `title_details`.\n",
    "-   Each dictionary should represent the values for each column in a\n",
    "    given row."
   ]
  },
  {
   "cell_type": "code",
   "execution_count": null,
   "metadata": {},
   "outputs": [],
   "source": [
    "import pandas as pd\n",
    "\n",
    "title_df = pd.DataFrame(title_details)\n",
    "title_df"
   ]
  },
  {
   "cell_type": "markdown",
   "metadata": {},
   "source": [
    "-   Processing a text file line-by-line to construct a DataFrame like\n",
    "    this is a common pattern that is useful in many situations."
   ]
  }
 ],
 "metadata": {
  "kernelspec": {
   "display_name": "Python (Pyodide)",
   "language": "python",
   "name": "python3"
  },
  "language_info": {
   "codemirror_mode": {
    "name": "python",
    "version": "3"
   },
   "file_extension": ".py",
   "mimetype": "text/x-python",
   "name": "python",
   "nbconvert_exporter": "python",
   "pygments_lexer": "ipython3",
   "version": "3.8"
  }
 },
 "nbformat": 4,
 "nbformat_minor": 4
}
