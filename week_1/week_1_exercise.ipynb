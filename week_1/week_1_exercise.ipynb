{
 "cells": [
  {
   "cell_type": "markdown",
   "metadata": {},
   "source": [
    "# PyNoon Week 1 - Exercise\n",
    "\n",
    "## 1. Futurecoder Lessons\n",
    "\n",
    "Complete the following lessons on\n",
    "[futurecoder.io](https://futurecoder.io):\n",
    "\n",
    "1.  The Shell\n",
    "2.  String Basics\n",
    "3.  Variables\n",
    "\n",
    "> You can check which lesson you are up to on Futurecoder from the\n",
    "> `Table of Contents` link at the top of the Futurecoder webpage.\n",
    "\n",
    "## 2. Back-of-the-envelope Calculation\n",
    "\n",
    "A common use case for Python programming is performing\n",
    "“back-of-the-envelope” calculations, where need to produce a rough\n",
    "estimate of some numerical value based on a number of input values, some\n",
    "of which may themselves be estimates. For example, we might like to\n",
    "estimate the annual revenue for a company based on known product prices\n",
    "and rough estimates of daily sales.\n",
    "\n",
    "Python is great for performing back-of-the-envelope calculations\n",
    "because:\n",
    "\n",
    "-   We can use it to perform many different mathematical operations\n",
    "    -   In the tutorial, you have seen basic operations like `+`, `-`,\n",
    "        `*`, `/` and grouping operation with parentheses `()`.\n",
    "-   The lines of Python code that perform the calculation show how the\n",
    "    calculation is performed step-by-step\n",
    "-   We can add notes and use meaningful variable names so that others\n",
    "    (or our future selves) can easily understand the steps in the\n",
    "    calculation.\n",
    "\n",
    "Your assignment is to write a Python notebook that performs a\n",
    "back-of-the-envelope calculation for some problem that is of interest to\n",
    "you. You will need to use what you have learned in the tutorial and\n",
    "futurecoder lessons about maths and variables.\n",
    "\n",
    "### 2a. Pick something to calculate\n",
    "\n",
    "-   Pick some value that you would like to calculate, you may like to\n",
    "    pick a use case from your own work domain, or something that\n",
    "    interests you.\n",
    "-   You do not need to have exact values for all of the inputs needed to\n",
    "    perform your calculation - the inexact inputs are what makes this a\n",
    "    “back-of-the-envelope” calculation.\n",
    "-   Here are a few ideas of possible calculations to inspire you:\n",
    "    -   Calculate the revenue or profit for a business based on some\n",
    "        approximate product prices and counts of customers.\n",
    "    -   Calculate the floor area of your home or office based on the\n",
    "        dimensions of each room.\n",
    "    -   Calculate the number of Weetbix the whole of New Zealand eats in\n",
    "        a year.\n",
    "\n",
    "### 2b. Create a notebook for your calculation\n",
    "\n",
    "-   Create a new notebook in JupyterLite for your calculation.\n",
    "-   Give the notebook a meaningful name that describes your calculation.\n",
    "    -   The name should contain only lowercase letters, numbers, and\n",
    "        underscores.\n",
    "\n",
    "### 2c. Identify the inputs\n",
    "\n",
    "-   Make a list of the different values that will serve as inputs to\n",
    "    your calculation.\n",
    "-   In a new notebook cell, define a variable for each input, assigning\n",
    "    your best estimate for its value.\n",
    "-   Make sure you given your variables meaningful names made of\n",
    "    lowercase letters, numbers, and underscores. Include any relevant\n",
    "    units in the variable name.\n",
    "-   For example, here are what the variable assignments may look like to\n",
    "    calculate the revenue of a cinema:"
   ]
  },
  {
   "cell_type": "code",
   "execution_count": null,
   "metadata": {},
   "outputs": [],
   "source": [
    "adult_ticket_price = 15.5\n",
    "child_ticket_price = 10.5\n",
    "\n",
    "average_movie_hours = 1.75\n",
    "opening_hours_per_day = 8\n",
    "\n",
    "cinemas = 5\n",
    "average_adult_tickets_per_movie = 80\n",
    "average_child_tickets_per_movie = 40"
   ]
  },
  {
   "cell_type": "markdown",
   "metadata": {},
   "source": [
    "-   Run your notebook cell (with `shift+enter`) to make sure that it\n",
    "    runs without errors.\n",
    "\n",
    "### 2d. Add calculation steps\n",
    "\n",
    "-   Add more lines to the end of your notebook cell to perform each step\n",
    "    of your calculation\n",
    "-   Each step should perform a mathematical operation with on one or\n",
    "    more variables and assign the result to a new variable\n",
    "-   The number of calculation steps needed will depend on the\n",
    "    calculation you have chosen\n",
    "-   For example, here are what the calculation steps may look like to\n",
    "    calculate the revenue of a cinema:"
   ]
  },
  {
   "cell_type": "code",
   "execution_count": null,
   "metadata": {},
   "outputs": [],
   "source": [
    "revenue_per_movie = (adult_ticket_price * average_adult_tickets_per_movie) + (child_ticket_price * average_child_tickets_per_movie)\n",
    "average_movies_per_day = opening_hours_per_day / average_movie_hours\n",
    "average_revenue_per_day = average_movies_per_day * revenue_per_movie\n",
    "annual_revenue_forecast = average_revenue_per_day * 365"
   ]
  },
  {
   "cell_type": "markdown",
   "metadata": {},
   "source": [
    "-   Run your notebook cell (with `shift+enter`) to make sure that it\n",
    "    runs without errors.\n",
    "\n",
    "### 2e. Print the calculation result\n",
    "\n",
    "-   Add more lines to the end of your notebook cell to print the result\n",
    "    of your calculation.\n",
    "-   You may like to print the values of intermediate calculation\n",
    "    variables in addition to the final calculation result.\n",
    "-   You should print text values (wrapped in single quotes `'`) to\n",
    "    describe what each value is (including any applicable units).\n",
    "-   You can print multiple text, number, or variable values from one\n",
    "    print function call as follows:"
   ]
  },
  {
   "cell_type": "code",
   "execution_count": null,
   "metadata": {},
   "outputs": [],
   "source": [
    "name = 'Guido'\n",
    "print('My name is:', name)"
   ]
  },
  {
   "cell_type": "markdown",
   "metadata": {},
   "source": [
    "-   For example, here are the lines that could be used to print the\n",
    "    results of the revenue calculation example:"
   ]
  },
  {
   "cell_type": "code",
   "execution_count": null,
   "metadata": {},
   "outputs": [],
   "source": [
    "print(f'Revenue per movie:', revenue_per_movie)\n",
    "print('Average movies per day:', average_movies_per_day)\n",
    "print('Average daily revenue:', average_revenue_per_day)\n",
    "print('Annual revenue forecast:', annual_revenue_forecast)"
   ]
  },
  {
   "cell_type": "markdown",
   "metadata": {},
   "source": [
    "-   Run your notebook cell (with `shift+enter`) to make sure that it\n",
    "    runs without errors.\n",
    "\n",
    "### 2f. Experiment!\n",
    "\n",
    "-   Try changing the values you assigned to your input variables and\n",
    "    re-running the calculation.\n",
    "-   How do changes in the input variables affect the final result?\n",
    "-   What happens if you change input variables to have unexpected\n",
    "    values, like zero or negative numbers?\n",
    "\n",
    "### 2g. Document!\n",
    "\n",
    "-   Add one or more `Markdown` cells to your notebook to explain its\n",
    "    purpose and how it works.\n",
    "-   You should include comments on what you observed from your\n",
    "    experiments in the previous step.\n",
    "-   For example, I might add the following Markdown to the top of my\n",
    "    notebook to calculate cinema revenue:\n",
    "\n",
    "<!-- -->\n",
    "\n",
    "    # Cinema Sales Forecast\n",
    "\n",
    "    Forecasts the annual revenue from ticket sales at my cinema complex."
   ]
  }
 ],
 "metadata": {
  "kernelspec": {
   "display_name": "Python (Pyodide)",
   "language": "python",
   "name": "python"
  },
  "language_info": {
   "codemirror_mode": {
    "name": "python",
    "version": "3"
   },
   "file_extension": ".py",
   "mimetype": "text/x-python",
   "name": "python",
   "nbconvert_exporter": "python",
   "pygments_lexer": "ipython3",
   "version": "3.8"
  }
 },
 "nbformat": 4,
 "nbformat_minor": 4
}
