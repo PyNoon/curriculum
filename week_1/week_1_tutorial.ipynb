{
 "cells": [
  {
   "cell_type": "markdown",
   "metadata": {},
   "source": [
    "# Intro to JupyterLite\n",
    "\n",
    "The following tutorial is an introduction to writing and running Python\n",
    "code in the JupyterLite environment, loosely based on\n",
    "[swcarpentry.github.io/python-novice-gapminder/01-run-quit.html](https://swcarpentry.github.io/python-novice-gapminder/01-run-quit.html),\n",
    "(but more streamlined - not covering topics like shortcut keys).\n",
    "\n",
    "**To get started open the PyNoon JupyterLite environment at:\n",
    "[pynoon.github.io/jupyterlite](https://pynoon.github.io/jupyterlite)**\n",
    "\n",
    "-   You may have heard of Jupyter notebooks\n",
    "-   JupyterLite is very similar to a piece of software called JupyterLab\n",
    "    that is used to run Jupyter’s Python notebooks - a popular format\n",
    "    for writing Python code that we will be using in this course.\n",
    "-   The benefit of JupyterLite is that it runs entirely inside your web\n",
    "    browser, meaning you don’t need to install Python, JupyterLab, or\n",
    "    any other software on your computer.\n",
    "\n",
    "In this tutorial, we will look at three ways of running Python code\n",
    "inside JupyterLite:\n",
    "\n",
    "-   The Python console\n",
    "-   Python scripts\n",
    "-   Python notebooks\n",
    "\n",
    "## The Python Console\n",
    "\n",
    "-   The Python console is great for running short snippets of Python\n",
    "    code\n",
    "-   Use it to experiment and play with Python to learn more about how it\n",
    "    works\n",
    "-   It’s also useful as a general purpose calculator\n",
    "\n",
    "**Open a Python Console**: From the JupyterLite Home/Launcher page,\n",
    "under `Console`, select `Python`\n",
    "\n",
    "In the prompt at the bottom of the Console screen, enter the following\n",
    "code, then hold the `shift` key and press the `enter` key to run it:"
   ]
  },
  {
   "cell_type": "code",
   "execution_count": null,
   "metadata": {},
   "outputs": [],
   "source": [
    "print('Hello world')"
   ]
  },
  {
   "cell_type": "markdown",
   "metadata": {},
   "source": [
    "Congratulations! You’ve just run your first Python program!\n",
    "\n",
    "> Note: Casing is important in Python, so make sure you write `print` in\n",
    "> lower-case.\n",
    "\n",
    "We can also use Python to perform maths; try running the following:"
   ]
  },
  {
   "cell_type": "code",
   "execution_count": null,
   "metadata": {},
   "outputs": [],
   "source": [
    "1 + 1"
   ]
  },
  {
   "cell_type": "code",
   "execution_count": null,
   "metadata": {},
   "outputs": [],
   "source": [
    "5 - 3"
   ]
  },
  {
   "cell_type": "markdown",
   "metadata": {},
   "source": [
    "> Note: The spaces around mathematical operators are optional, but they\n",
    "> are important to make the code more readable!\n",
    "\n",
    "**It is important to remember that any work you do in the console is\n",
    "lost when you close the console.**\n",
    "\n",
    "## Python scripts\n",
    "\n",
    "Python scripts are ideal for creating re-usable programs.\n",
    "\n",
    "**To create a new script in JupyterLite:**\n",
    "\n",
    "-   Click the `+` button next to the current tab to open a new\n",
    "    Tab/Launcher\n",
    "-   Under `Other` select `Python file`\n",
    "-   Right click on the tab of your new file, and rename it to `hello.py`\n",
    "    -   **It is very important to give your files useful names so that\n",
    "        you know what they contain when you or others come back later.**\n",
    "    -   The `.py` extension says that this is a plain-text file (like\n",
    "        one you could edit with notepad) containing Python code.\n",
    "\n",
    "Write the following code to your script:"
   ]
  },
  {
   "cell_type": "code",
   "execution_count": null,
   "metadata": {},
   "outputs": [],
   "source": [
    "print('Hello world')"
   ]
  },
  {
   "cell_type": "markdown",
   "metadata": {},
   "source": [
    "**Remember to save the file: Hold the `Ctrl` key and press the `s` key**\n",
    "\n",
    "-   If you don’t save your changes, the old version of your code will be\n",
    "    used when you run the script.\n",
    "-   You can always tell the file isn’t saved yet by the black dot over\n",
    "    the “close tab” button\n",
    "\n",
    "Go back to your Console tab (or open a new one), and run:"
   ]
  },
  {
   "cell_type": "code",
   "execution_count": null,
   "metadata": {},
   "outputs": [],
   "source": [
    "%run hello.py"
   ]
  },
  {
   "cell_type": "markdown",
   "metadata": {},
   "source": [
    "You should see `Hello world` printed again in the console.\n",
    "\n",
    "> Note: You can view the script and Console at the same time by clicking\n",
    "> and dragging the Console tab to the right-hand side of the screen.\n",
    "\n",
    "Now try adding a new line to your script with the following code:"
   ]
  },
  {
   "cell_type": "code",
   "execution_count": null,
   "metadata": {},
   "outputs": [],
   "source": [
    "1 + 1"
   ]
  },
  {
   "cell_type": "markdown",
   "metadata": {},
   "source": [
    "Save the script and run it again at the console\n",
    "\n",
    "> Tip: You can press the “up arrow” key in the Console to bring up lines\n",
    "> you’ve previously run (saving you from typing them again).\n",
    "\n",
    "When you run your script, you won’t see the result of `1 + 1`.\n",
    "\n",
    "This is because **Python scripts only output what we explicitly tell\n",
    "Python to print!**\n",
    "\n",
    "To print the result of `1 + 1`, change the line in your script to be:"
   ]
  },
  {
   "cell_type": "code",
   "execution_count": null,
   "metadata": {},
   "outputs": [],
   "source": [
    "print(1 + 1)"
   ]
  },
  {
   "cell_type": "markdown",
   "metadata": {},
   "source": [
    "Save the script and run it again at the console, and you should see the\n",
    "following output:\n",
    "\n",
    "    Hello world\n",
    "    2\n",
    "\n",
    "## Python Notebooks\n",
    "\n",
    "Python notebooks are:\n",
    "\n",
    "-   Interactive like the Console\n",
    "-   Re-usable like scripts\n",
    "-   Support rich formatting of notes and outputs\n",
    "\n",
    "**To create a new notebook in JupyterLite:**\n",
    "\n",
    "-   Click the `+` button next to the current tab to open a new\n",
    "    Tab/Launcher\n",
    "-   Under `Notebook` select `Python`\n",
    "-   Right click on the tab of your new file, and rename it to\n",
    "    `week1.ipynb`\n",
    "\n",
    "In the “cell” prompt at the at the top of your notebook, enter the\n",
    "following code, and run it with `shift + enter` (like at the Console):"
   ]
  },
  {
   "cell_type": "code",
   "execution_count": null,
   "metadata": {},
   "outputs": [],
   "source": [
    "print('Hello world')"
   ]
  },
  {
   "cell_type": "markdown",
   "metadata": {},
   "source": [
    "The result is printed and a new “cell” appears below.\n",
    "\n",
    "Run this code in the new cell:"
   ]
  },
  {
   "cell_type": "code",
   "execution_count": null,
   "metadata": {},
   "outputs": [],
   "source": [
    "1.5 + 10"
   ]
  },
  {
   "cell_type": "markdown",
   "metadata": {},
   "source": [
    "Each time you press `shift+enter`, a new cell is created\n",
    "\n",
    "**You can edit and re-run cells;** update your previous cell to have the\n",
    "following content, then re-run it:"
   ]
  },
  {
   "cell_type": "code",
   "execution_count": null,
   "metadata": {},
   "outputs": [],
   "source": [
    "(1.5 * 10) / (5 - 2)"
   ]
  },
  {
   "cell_type": "markdown",
   "metadata": {},
   "source": [
    "> Note that we can use `*` for multiplication, `/` for\n",
    "> division`, and group operations with parentheses`()\\`.\n",
    "\n",
    "**You can add non-code cells for formatted notes:**\n",
    "\n",
    "-   Click into the empty cell at the end of the notebook\n",
    "-   Change the dropdown at the top of the page from `Code` to `Markdown`\n",
    "-   Add the following content:\n",
    "\n",
    "<!-- -->\n",
    "\n",
    "    My First Notebook\n",
    "\n",
    "-   Press `shift+enter`, and see the text displayed.\n",
    "\n",
    "**You can add formatting in Markdown cells:**\n",
    "\n",
    "-   Double-click `My First Notebook` to edit the cell\n",
    "-   Add a `#` at the beginning of the line:\n",
    "\n",
    "<!-- -->\n",
    "\n",
    "    # My First Notebook\n",
    "\n",
    "-   Press shift-enter and see it formatted as a heading\n",
    "\n",
    "**Markdown code is similar to shortcuts supported by software like Slack\n",
    "and Teams**\n",
    "\n",
    "For example, add a bullet list with:\n",
    "\n",
    "    * item 1\n",
    "    * item 2\n",
    "    * item 3\n",
    "\n",
    "-   To see what else is possible with Markdown, see:\n",
    "    [www.markdownguide.org/](https://www.markdownguide.org/)\n",
    "\n",
    "**You can re-order notebook cells**\n",
    "\n",
    "-   Hover your mouse to the left of your Markdown cell until you see a\n",
    "    four-way arrow\n",
    "-   Click and drag your cell to the top of the notebook to act as a\n",
    "    title\n",
    "\n",
    "**Notebooks also support rich output from Python code**\n",
    "\n",
    "-   Run a cell with the following code (you don’t need to understand the\n",
    "    code yet):"
   ]
  },
  {
   "cell_type": "code",
   "execution_count": null,
   "metadata": {},
   "outputs": [],
   "source": [
    "%pip install plotly nbformat pandas\n",
    "import plotly.express as px\n",
    "px.bar(x=['a', 'b', 'c'], y=[1, 2, 3])"
   ]
  },
  {
   "cell_type": "markdown",
   "metadata": {},
   "source": [
    "**You should see an interactive plot**\n",
    "\n",
    "-   Scroll to zoom\n",
    "-   Click and drag to zoom to a selection\n",
    "-   Double click to reset zoom\n",
    "-   Find the camera button in the plot header to download the plot as an\n",
    "    image\n",
    "\n",
    "Try changing `y=[1, 2, 3]` in your cell to use different numbers, then\n",
    "re-execute the cell.\n",
    "\n",
    "-   Notebooks are really good for presenting the results of your code -\n",
    "    they very popular in data science and just for data exploration\n",
    "-   We’ll primarily use notebooks in this course so that you can save\n",
    "    the commands you run and add notes\n",
    "\n",
    "> Tip: You should right-click and download your notebooks and Python\n",
    "> files from the left-hand sidebar to avoid data loss when your\n",
    "> browser’s data is cleared"
   ]
  }
 ],
 "metadata": {
  "kernelspec": {
   "display_name": "Python (Pyodide)",
   "language": "python",
   "name": "python"
  },
  "language_info": {
   "codemirror_mode": {
    "name": "python",
    "version": "3"
   },
   "file_extension": ".py",
   "mimetype": "text/x-python",
   "name": "python",
   "nbconvert_exporter": "python",
   "pygments_lexer": "ipython3",
   "version": "3.8"
  }
 },
 "nbformat": 4,
 "nbformat_minor": 4
}
