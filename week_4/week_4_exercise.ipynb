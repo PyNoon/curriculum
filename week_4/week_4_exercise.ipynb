{
 "cells": [
  {
   "cell_type": "markdown",
   "metadata": {},
   "source": [
    "# PyNoon Week 4 - Exercise\n",
    "\n",
    "## 1. Answering questions from data\n",
    "\n",
    "Use the `listings_df` dataset from the tutorial to answer the following\n",
    "questions.\n",
    "\n",
    "-   You should create a notebook that answers these questions one by one\n",
    "    and uses Markdown/Text cells to explain how you arrived at the\n",
    "    answer - as if you were reporting these results to a colleague.\n",
    "-   You may want to refer to the [Week 3\n",
    "    Tutorial](https://colab.research.google.com/github/pynoon/curriculum/blob/main/week_3/week_3_tutorial.ipynb)\n",
    "    and [Week 3\n",
    "    Exercise](https://colab.research.google.com/github/pynoon/curriculum/blob/main/week_3/week_3_exercise.ipynb)\n",
    "    for some Pandas functions/methods to help answer these questions.\n",
    "-   You may find it helpful to plot the data using Plotly Express to\n",
    "    answer some questions.\n",
    "\n",
    "## 1a. Which host has the most listings?\n",
    "\n",
    "Hint: You may find it helpful to use Pandas’ `.value_counts()` or an\n",
    "appropriate plot as part of your answer.\n",
    "\n",
    "## 1b. In which region is the most expensive listing?\n",
    "\n",
    "Hint: You may find it helpful to use Pandas’ `.max()` as part of your\n",
    "answer.\n",
    "\n",
    "## 1c. What is the lowest cost booking I could make?\n",
    "\n",
    "Hint: Remember that each listing has a minimum number of nights you must\n",
    "book for, and that the given `price_nzd` is the price per night. You may\n",
    "find it helpful to use Pandas’ `.min()` as part of your answer.\n",
    "\n",
    "## 1d. Which parent region has more affordable listings on average, Auckland or Christchurch City?\n",
    "\n",
    "Hint: You may find it helpful to use Pandas’ `.mean()` as part of your\n",
    "answer.\n",
    "\n",
    "You may think of different wants to interpret what “affordable” means,\n",
    "does you answer change depending on your interpretation?\n",
    "\n",
    "## 1e. Would you say that more expensive listings tend to get better or worse reviews than cheaper listings?\n",
    "\n",
    "Hint: You may find a plot useful to examine the relationship between\n",
    "`price_nzd` or `price_per_person` and `review_scores_rating`.\n",
    "\n",
    "## 2. Futurecoder\n",
    "\n",
    "Complete the following lesson on\n",
    "[futurecoder.io](https://futurecoder.io):\n",
    "\n",
    "1.  Lists (it’s a longer one to work on over the break)\n",
    "\n",
    "> You can check which lesson you are up to on Futurecoder from the\n",
    "> `Table of Contents` link at the top of the Futurecoder webpage."
   ]
  }
 ],
 "metadata": {
  "kernelspec": {
   "display_name": "Python (Pyodide)",
   "language": "python",
   "name": "python"
  },
  "language_info": {
   "codemirror_mode": {
    "name": "python",
    "version": "3"
   },
   "file_extension": ".py",
   "mimetype": "text/x-python",
   "name": "python",
   "nbconvert_exporter": "python",
   "pygments_lexer": "ipython3",
   "version": "3.8"
  }
 },
 "nbformat": 4,
 "nbformat_minor": 4
}
