{
 "cells": [
  {
   "cell_type": "markdown",
   "metadata": {},
   "source": [
    "# PyNoon Week 4 - Exercise\n",
    "\n",
    "## 1. Answering questions from data\n",
    "\n",
    "Use the `listings_df` dataset from the tutorial to answer the following\n",
    "questions:\n",
    "\n",
    "1.  TODO\n",
    "\n",
    "## 2. Futurecoder\n",
    "\n",
    "Complete the following lesson on\n",
    "[futurecoder.io](https://futurecoder.io):\n",
    "\n",
    "1.  Lists (it’s a longer one to work on over the break)\n",
    "\n",
    "> You can check which lesson you are up to on Futurecoder from the\n",
    "> `Table of Contents` link at the top of the Futurecoder webpage."
   ]
  }
 ],
 "metadata": {
  "kernelspec": {
   "display_name": "Python (Pyodide)",
   "language": "python",
   "name": "python"
  },
  "language_info": {
   "codemirror_mode": {
    "name": "python",
    "version": "3"
   },
   "file_extension": ".py",
   "mimetype": "text/x-python",
   "name": "python",
   "nbconvert_exporter": "python",
   "pygments_lexer": "ipython3",
   "version": "3.8"
  }
 },
 "nbformat": 4,
 "nbformat_minor": 4
}
