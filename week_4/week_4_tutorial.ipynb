{
 "cells": [
  {
   "cell_type": "markdown",
   "metadata": {},
   "source": [
    "This week’s tutorial will cover Boolean comparisons and more Pandas for\n",
    "analysing and manipulating tabular data.\n",
    "\n",
    "It is based on:\n",
    "\n",
    "-   [swcarpentry.github.io/python-novice-gapminder/07-reading-tabular.html](https://swcarpentry.github.io/python-novice-gapminder/07-reading-tabular.html)\n",
    "-   [swcarpentry.github.io/python-novice-gapminder/08-data-frames.html](https://swcarpentry.github.io/python-novice-gapminder/08-data-frames.html)\n",
    "\n",
    "> DEMO-ONLY TUTORIAL BEGINS HERE\n",
    "\n",
    "## Boolean Comparisons\n",
    "\n",
    "*Comparison operators* can be used to compare two values:"
   ]
  },
  {
   "cell_type": "code",
   "execution_count": null,
   "metadata": {},
   "outputs": [],
   "source": [
    "1 < 2"
   ]
  },
  {
   "cell_type": "markdown",
   "metadata": {},
   "source": [
    "In the code above, we are effectively asking “is 1 less than 2?”.\n",
    "\n",
    "Let’s try the “greater than or equal to” operator next:"
   ]
  },
  {
   "cell_type": "code",
   "execution_count": null,
   "metadata": {},
   "outputs": [],
   "source": [
    "1 >= 2"
   ]
  },
  {
   "cell_type": "markdown",
   "metadata": {},
   "source": [
    "The value returned is either `True` or `False`, a **Boolean** value:"
   ]
  },
  {
   "cell_type": "code",
   "execution_count": null,
   "metadata": {},
   "outputs": [],
   "source": [
    "type(1 < 2)"
   ]
  },
  {
   "cell_type": "markdown",
   "metadata": {},
   "source": [
    "To check if two values are equal, use two equal signs (as a single equal\n",
    "sign is used by Python for assignment):"
   ]
  },
  {
   "cell_type": "code",
   "execution_count": null,
   "metadata": {},
   "outputs": [],
   "source": [
    "'pynoon' == 'pynoon'"
   ]
  },
  {
   "cell_type": "code",
   "execution_count": null,
   "metadata": {},
   "outputs": [],
   "source": [
    "'pynoon' == 'PYNOON'"
   ]
  },
  {
   "cell_type": "markdown",
   "metadata": {},
   "source": [
    "We can directly state a Boolean value by name - but remember to start\n",
    "with a capital letter!"
   ]
  },
  {
   "cell_type": "code",
   "execution_count": null,
   "metadata": {},
   "outputs": [],
   "source": [
    "True"
   ]
  },
  {
   "cell_type": "markdown",
   "metadata": {},
   "source": [
    "Boolean values can be inverted with `not`:"
   ]
  },
  {
   "cell_type": "code",
   "execution_count": null,
   "metadata": {},
   "outputs": [],
   "source": [
    "not True"
   ]
  },
  {
   "cell_type": "markdown",
   "metadata": {},
   "source": [
    "Multiple Boolean values can be combined with `and` and `or`, or inverted\n",
    "with `not`:"
   ]
  },
  {
   "cell_type": "code",
   "execution_count": null,
   "metadata": {},
   "outputs": [],
   "source": [
    "True and False"
   ]
  },
  {
   "cell_type": "code",
   "execution_count": null,
   "metadata": {},
   "outputs": [],
   "source": [
    "True or False"
   ]
  },
  {
   "cell_type": "markdown",
   "metadata": {},
   "source": [
    "As usual, parentheses can be used to group operations:"
   ]
  },
  {
   "cell_type": "code",
   "execution_count": null,
   "metadata": {},
   "outputs": [],
   "source": [
    "True and (True or False)"
   ]
  },
  {
   "cell_type": "markdown",
   "metadata": {},
   "source": [
    "Comparisons are commonly used to conditionally run different lines of\n",
    "code using `if` statements (as seen in more detail in the Futurecoder\n",
    "lessons):"
   ]
  },
  {
   "cell_type": "code",
   "execution_count": null,
   "metadata": {},
   "outputs": [],
   "source": [
    "bag_kg = 3\n",
    "if bag_kg < 7:\n",
    "    print('Bag allowed as carry-on')\n",
    "    print('Please proceed to board the plane')\n",
    "else:\n",
    "    print('Please check your bag')"
   ]
  },
  {
   "cell_type": "markdown",
   "metadata": {},
   "source": [
    "> Note: The `else:` clause is optional\n",
    "\n",
    "> FOLLOW-ALONG TUTORIAL BEGINS HERE\n",
    "\n",
    "## Setup\n",
    "\n",
    "1.  Make a new notebook for this week\n",
    "2.  What’s the first thing to do? RENAME IT!\n",
    "3.  Name it `week4.ipynb`\n",
    "\n",
    "## Loading Data into Pandas\n",
    "\n",
    "As we did last week, let’s load our AirBnB listings data into Pandas:"
   ]
  },
  {
   "cell_type": "code",
   "execution_count": null,
   "metadata": {},
   "outputs": [],
   "source": [
    "import pandas as pd"
   ]
  },
  {
   "cell_type": "code",
   "execution_count": null,
   "metadata": {},
   "outputs": [],
   "source": [
    "listings_df = pd.read_csv('https://pynoon.github.io/data/inside_airbnb_listings_nz_2023_09.csv')"
   ]
  },
  {
   "cell_type": "markdown",
   "metadata": {},
   "source": [
    "> We can load data from local files or, in this case, directly from a\n",
    "> URL."
   ]
  },
  {
   "cell_type": "code",
   "execution_count": null,
   "metadata": {},
   "outputs": [],
   "source": [
    "listings_df"
   ]
  },
  {
   "cell_type": "markdown",
   "metadata": {},
   "source": [
    "## Use comparisons to select data based on value.\n",
    "\n",
    "Recall that we can refer to a single column from a DataFrame, returning\n",
    "a value with a type of Pandas’ `Series`:"
   ]
  },
  {
   "cell_type": "code",
   "execution_count": null,
   "metadata": {},
   "outputs": [],
   "source": [
    "listings_df['region_parent_name']"
   ]
  },
  {
   "cell_type": "code",
   "execution_count": null,
   "metadata": {},
   "outputs": [],
   "source": [
    "type(listings_df['region_parent_name'])"
   ]
  },
  {
   "cell_type": "markdown",
   "metadata": {},
   "source": [
    "Using a comparison operator on a Series performs the comparison to each\n",
    "value in the Series, and returns a new Series full of Boolean values:"
   ]
  },
  {
   "cell_type": "code",
   "execution_count": null,
   "metadata": {},
   "outputs": [],
   "source": [
    "listings_df['region_parent_name'] == 'Auckland'"
   ]
  },
  {
   "cell_type": "markdown",
   "metadata": {},
   "source": [
    "> Remember: the type of the value determines what an operation will do\n",
    "> with it.\n",
    "\n",
    "We can use the Boolean Series, commonly called a **mask**, to return a\n",
    "*new* DataFrame that is filtered to contain only the rows where the mask\n",
    "is `True`:"
   ]
  },
  {
   "cell_type": "code",
   "execution_count": null,
   "metadata": {},
   "outputs": [],
   "source": [
    "auckland_mask = listings_df['region_parent_name'] == 'Auckland'\n",
    "listings_df[auckland_mask]"
   ]
  },
  {
   "cell_type": "markdown",
   "metadata": {},
   "source": [
    "### Plotting filtered DataFrames\n",
    "\n",
    "Let’s use filtering to plot the ratings of highly reviewed listings.\n",
    "\n",
    "First, import Plotly and plot the ratings:"
   ]
  },
  {
   "cell_type": "code",
   "execution_count": null,
   "metadata": {},
   "outputs": [],
   "source": [
    "%pip install plotly nbformat\n",
    "import plotly.express as px\n",
    "\n",
    "px.histogram(listings_df, x='review_scores_rating')"
   ]
  },
  {
   "cell_type": "markdown",
   "metadata": {},
   "source": [
    "Now, filter the DataFrame to only contain listings with more than 100\n",
    "reviews:"
   ]
  },
  {
   "cell_type": "code",
   "execution_count": null,
   "metadata": {},
   "outputs": [],
   "source": [
    "px.histogram(listings_df[listings_df['number_of_reviews'] > 100], x='review_scores_rating')"
   ]
  },
  {
   "cell_type": "markdown",
   "metadata": {},
   "source": [
    "### Combining filters\n",
    "\n",
    "Just as we could use `not`, `and`, and `or` to combine Boolean values,\n",
    "we can also combine Boolean Series.\n",
    "\n",
    "Let’s remind ourselves of the value of `auckland_mask`:"
   ]
  },
  {
   "cell_type": "code",
   "execution_count": null,
   "metadata": {},
   "outputs": [],
   "source": [
    "auckland_mask"
   ]
  },
  {
   "cell_type": "markdown",
   "metadata": {},
   "source": [
    "Just like how we can use `not` to invert a Boolean value, we can use `~`\n",
    "to invert a mask:"
   ]
  },
  {
   "cell_type": "code",
   "execution_count": null,
   "metadata": {},
   "outputs": [],
   "source": [
    "~auckland_mask"
   ]
  },
  {
   "cell_type": "markdown",
   "metadata": {},
   "source": [
    "We can also use `|` to perform an `or` operation between two masks, and\n",
    "`&` to perform an `and` operation:"
   ]
  },
  {
   "cell_type": "code",
   "execution_count": null,
   "metadata": {},
   "outputs": [],
   "source": [
    "good_mask = listings_df['review_scores_rating'] > 4.9"
   ]
  },
  {
   "cell_type": "code",
   "execution_count": null,
   "metadata": {},
   "outputs": [],
   "source": [
    "good_mask"
   ]
  },
  {
   "cell_type": "code",
   "execution_count": null,
   "metadata": {},
   "outputs": [],
   "source": [
    "auckland_mask | good_mask"
   ]
  },
  {
   "cell_type": "code",
   "execution_count": null,
   "metadata": {},
   "outputs": [],
   "source": [
    "auckland_mask & good_mask"
   ]
  },
  {
   "cell_type": "markdown",
   "metadata": {},
   "source": [
    "One final note: Conditions on NaN values always return False.\n",
    "\n",
    "## Computing new columns\n",
    "\n",
    "Performing maths on a Series applies the operation to each value in the\n",
    "Series, returning a new Series:"
   ]
  },
  {
   "cell_type": "code",
   "execution_count": null,
   "metadata": {},
   "outputs": [],
   "source": [
    "nzd_to_aud = 0.93\n",
    "listings_df['price_nzd'] * nzd_to_aud"
   ]
  },
  {
   "cell_type": "markdown",
   "metadata": {},
   "source": [
    "Performing maths with two Series applies the operation element-wise to\n",
    "each pair of values from the two Series:"
   ]
  },
  {
   "cell_type": "code",
   "execution_count": null,
   "metadata": {},
   "outputs": [],
   "source": [
    "listings_df['price_nzd'] / listings_df['accommodates']"
   ]
  },
  {
   "cell_type": "markdown",
   "metadata": {},
   "source": [
    "We can add a new column to an existing DataFrame by assigning to a new\n",
    "column name that doesn’t exist in the DataFrame yet:"
   ]
  },
  {
   "cell_type": "code",
   "execution_count": null,
   "metadata": {},
   "outputs": [],
   "source": [
    "listings_df['price_per_person'] = listings_df['price_nzd'] / listings_df['accommodates']"
   ]
  },
  {
   "cell_type": "code",
   "execution_count": null,
   "metadata": {},
   "outputs": [],
   "source": [
    "listings_df"
   ]
  },
  {
   "cell_type": "code",
   "execution_count": null,
   "metadata": {},
   "outputs": [],
   "source": [
    "listings_df['price_per_person'].describe()"
   ]
  },
  {
   "cell_type": "markdown",
   "metadata": {},
   "source": [
    "## Pandas and Plotly Documentation\n",
    "\n",
    "Find out what other functions (methods) and variables (attributes) are\n",
    "attached to DataFrames and Series from their reference documentation:\n",
    "\n",
    "-   https://pandas.pydata.org/pandas-docs/stable/reference/frame.html\n",
    "-   https://pandas.pydata.org/pandas-docs/stable/reference/series.html\n",
    "\n",
    "Similarly, look at the user guide and reference documentation for Plotly\n",
    "express to see what other plot types are available and what arguments\n",
    "they will accept to configure them:\n",
    "\n",
    "-   https://plotly.com/python/plotly-express/\n",
    "-   https://plotly.com/python-api-reference/\n",
    "\n",
    "## Column Types and Data Preparation\n",
    "\n",
    "Every column has a type of value stored in it:"
   ]
  },
  {
   "cell_type": "code",
   "execution_count": null,
   "metadata": {},
   "outputs": [],
   "source": [
    "listings_df.info()"
   ]
  },
  {
   "cell_type": "markdown",
   "metadata": {},
   "source": [
    "-   Numeric types have been automatically inferred by Pandas\n",
    "-   Non-numeric types like strings are listed as `object` (we only have\n",
    "    strings here)\n",
    "-   Some types aren’t what we want\n",
    "\n",
    "We can convert date columns from strings to dates:"
   ]
  },
  {
   "cell_type": "code",
   "execution_count": null,
   "metadata": {},
   "outputs": [],
   "source": [
    "pd.to_datetime(listings_df['host_since'])"
   ]
  },
  {
   "cell_type": "markdown",
   "metadata": {},
   "source": [
    "We must assign the transformed columns to replace the original columns:"
   ]
  },
  {
   "cell_type": "code",
   "execution_count": null,
   "metadata": {},
   "outputs": [],
   "source": [
    "listings_df['host_since'] = pd.to_datetime(listings_df['host_since'])\n",
    "listings_df['last_review'] = pd.to_datetime(listings_df['last_review'])"
   ]
  },
  {
   "cell_type": "code",
   "execution_count": null,
   "metadata": {},
   "outputs": [],
   "source": [
    "listings_df.info()"
   ]
  },
  {
   "cell_type": "code",
   "execution_count": null,
   "metadata": {},
   "outputs": [],
   "source": [
    "listings_df"
   ]
  },
  {
   "cell_type": "markdown",
   "metadata": {},
   "source": [
    "We can also remove the dollar sign from each price:"
   ]
  },
  {
   "cell_type": "code",
   "execution_count": null,
   "metadata": {},
   "outputs": [],
   "source": [
    "listings_df['price'].str.replace('$', '', regex=False)"
   ]
  },
  {
   "cell_type": "markdown",
   "metadata": {},
   "source": [
    "We can “chain” additional method calls on the results of previous method\n",
    "calls to replace commas and convert the column data type from string to\n",
    "float:"
   ]
  },
  {
   "cell_type": "code",
   "execution_count": null,
   "metadata": {},
   "outputs": [],
   "source": [
    "listings_df['price'].str.replace('$', '', regex=False).str.replace(',', '', regex=False).astype(float)"
   ]
  },
  {
   "cell_type": "code",
   "execution_count": null,
   "metadata": {},
   "outputs": [],
   "source": [
    "listings_df['price'] = listings_df['price'].str.replace('$', '', regex=False).str.replace(',', '', regex=False).astype(float)"
   ]
  },
  {
   "cell_type": "code",
   "execution_count": null,
   "metadata": {},
   "outputs": [],
   "source": [
    "listings_df.info()"
   ]
  },
  {
   "cell_type": "code",
   "execution_count": null,
   "metadata": {},
   "outputs": [],
   "source": [
    "listings_df"
   ]
  }
 ],
 "metadata": {
  "kernelspec": {
   "display_name": "Python (Pyodide)",
   "language": "python",
   "name": "python"
  },
  "language_info": {
   "codemirror_mode": {
    "name": "python",
    "version": "3"
   },
   "file_extension": ".py",
   "mimetype": "text/x-python",
   "name": "python",
   "nbconvert_exporter": "python",
   "pygments_lexer": "ipython3",
   "version": "3.8"
  }
 },
 "nbformat": 4,
 "nbformat_minor": 4
}
