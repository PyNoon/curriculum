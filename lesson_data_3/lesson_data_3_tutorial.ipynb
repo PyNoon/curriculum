{
 "cells": [
  {
   "cell_type": "markdown",
   "metadata": {},
   "source": [
    "This tutorial will cover grouping and summarising data with Pandas and\n",
    "Plotly, and handling missing data with Pandas.\n",
    "\n",
    "It is based on:\n",
    "\n",
    "-   [swcarpentry.github.io/python-novice-gapminder/08-data-frames.html](https://swcarpentry.github.io/python-novice-gapminder/08-data-frames.html)\n",
    "-   [swcarpentry.github.io/python-novice-gapminder/09-plotting.html](https://swcarpentry.github.io/python-novice-gapminder/09-plotting.html)\n",
    "\n",
    "## Setup\n",
    "\n",
    "1.  Make a new notebook for this lesson\n",
    "2.  What’s the first thing to do? RENAME IT!\n",
    "3.  Name it `pynoon_data_3.ipynb`\n",
    "\n",
    "## Load Data into Pandas\n",
    "\n",
    "As we did last lesson, let’s load the Pandas and Plotly libraries, and\n",
    "load our AirBnB listings data into Pandas:"
   ]
  },
  {
   "cell_type": "code",
   "execution_count": null,
   "metadata": {},
   "outputs": [],
   "source": [
    "import pandas as pd\n",
    "import plotly.express as px"
   ]
  },
  {
   "cell_type": "code",
   "execution_count": null,
   "metadata": {},
   "outputs": [],
   "source": [
    "listings_df = pd.read_csv('https://pynoon.github.io/data/inside_airbnb_listings_nz_2023_09.csv')\n",
    "listings_df"
   ]
  },
  {
   "cell_type": "markdown",
   "metadata": {},
   "source": [
    "## Grouping Data in Plotly\n",
    "\n",
    "When analysing data, we often want to compare different groups or\n",
    "subsets.\n",
    "\n",
    "Plotly makes a lot of group comparisons easy if we have a *tidy*\n",
    "DataFrame - with a **row for each data point** and a **column for each\n",
    "attribute** - including *categorical* attributes we want to group by.\n",
    "\n",
    "For example, we can specify a categorical column to colour data points\n",
    "by:"
   ]
  },
  {
   "cell_type": "code",
   "execution_count": null,
   "metadata": {},
   "outputs": [],
   "source": [
    "px.scatter_geo(listings_df, lon='longitude', lat='latitude', color='room_type')"
   ]
  },
  {
   "cell_type": "markdown",
   "metadata": {},
   "source": [
    "> Note: You can select/deselect colours in the legend.\n",
    "\n",
    "We can also specify a numerical column to determine the colour:"
   ]
  },
  {
   "cell_type": "code",
   "execution_count": null,
   "metadata": {},
   "outputs": [],
   "source": [
    "px.scatter_geo(listings_df, lon='longitude', lat='latitude', color='price_nzd')"
   ]
  },
  {
   "cell_type": "markdown",
   "metadata": {},
   "source": [
    "We can go further and create a separate subplot for the data points\n",
    "belonging to each group by specifying a categorical column as a\n",
    "`facet_row` or `facet_col`.\n",
    "\n",
    "In the plot below, note that we:\n",
    "\n",
    "-   Sort the data by the `accommodates` column, so that the facet plots\n",
    "    are sorted by value.\n",
    "-   Increase the height of the output to better view the large number of\n",
    "    plots.\n",
    "-   Set `histnorm='percent'` so that groups with few data points still\n",
    "    have a “full size” plot."
   ]
  },
  {
   "cell_type": "code",
   "execution_count": null,
   "metadata": {},
   "outputs": [],
   "source": [
    "px.histogram(\n",
    "    listings_df.sort_values(by='accommodates'),\n",
    "    x='price_nzd',\n",
    "    facet_row='accommodates',\n",
    "    height=2000,\n",
    "    histnorm='percent',\n",
    ")"
   ]
  },
  {
   "cell_type": "markdown",
   "metadata": {},
   "source": [
    "Sometimes we’d like to treat a numeric column like a categorical column\n",
    "in our visualisation.\n",
    "\n",
    "We can do this by using `pd.qcut()` to create a categorical column by\n",
    "dividing a numeric column into *bins*.\n",
    "\n",
    "-   Using `pd.qcut()` makes each bin **have the same number of data\n",
    "    points**, while `pd.cut()` makes each bin **cover an equal-length\n",
    "    interval of the numeric column**.\n",
    "-   We need to convert each “bin” value to a string in order to display\n",
    "    it with Plotly.\n",
    "\n",
    "For example, we can plot the distribution of review counts for different\n",
    "tiers of pricing:"
   ]
  },
  {
   "cell_type": "code",
   "execution_count": null,
   "metadata": {},
   "outputs": [],
   "source": [
    "listings_df['price_bin'] = pd.qcut(listings_df['price_nzd'], q=10).astype(str)\n",
    "\n",
    "px.box(\n",
    "    # Ensure lower price bins are shown first.\n",
    "    listings_df.sort_values(by='price_nzd'),\n",
    "    x='price_bin',\n",
    "    y='number_of_reviews',\n",
    ")"
   ]
  },
  {
   "cell_type": "markdown",
   "metadata": {},
   "source": [
    "## Grouping Data in Pandas\n",
    "\n",
    "We can also use Pandas’ `groupby()` to split up a DataFrame according to\n",
    "a categorical attribute.\n",
    "\n",
    "If you’re familiar with SQL, you’ll see similarities to the `GROUP BY`\n",
    "clause.\n",
    "\n",
    "-   We can loop over the “groups”, getting the attribute value and a\n",
    "    DataFrame of rows having that attribute value\n",
    "-   `.shape` returns the number of rows and number of columns as a pair\n",
    "    (tuple)"
   ]
  },
  {
   "cell_type": "code",
   "execution_count": null,
   "metadata": {},
   "outputs": [],
   "source": [
    "for room_type, room_type_group_df in listings_df.groupby('room_type'):\n",
    "    print('Room type', room_type)\n",
    "    print(room_type_group_df.shape[0])"
   ]
  },
  {
   "cell_type": "markdown",
   "metadata": {},
   "source": [
    "`groupby()` can also be used to produce a DataFrame of aggregate\n",
    "statistics for each group. In the following, see how we:\n",
    "\n",
    "-   Specify the columns from which to create a group for each\n",
    "    combinations of values (`['accommodates', 'room_type']`)\n",
    "-   Use indexing to select a list of columns to calculate the statistic\n",
    "    for (`['price_nzd', 'review_scores_rating']`)\n",
    "-   Choose a statistic to calculate: `mean()`\n",
    "    -   You can also compute `sum()`, `std()`, and more."
   ]
  },
  {
   "cell_type": "code",
   "execution_count": null,
   "metadata": {},
   "outputs": [],
   "source": [
    "listings_df.groupby(['accommodates', 'room_type'])[['price_nzd', 'review_scores_rating']].mean()"
   ]
  },
  {
   "cell_type": "markdown",
   "metadata": {},
   "source": [
    "Note that `groupby()` turns the group columns into an *index*. We can\n",
    "turn it back into a regular column with `reset_index()`:"
   ]
  },
  {
   "cell_type": "code",
   "execution_count": null,
   "metadata": {},
   "outputs": [],
   "source": [
    "stats_df = listings_df.groupby(['accommodates', 'room_type'])[['price_nzd', 'review_scores_rating']].mean().reset_index()\n",
    "stats_df"
   ]
  },
  {
   "cell_type": "markdown",
   "metadata": {},
   "source": [
    "`.groupby()` is a very powerful tool for reshaping data into the right\n",
    "*tidy* format that will support the plot you want.\n",
    "\n",
    "Such DataFrames produced with `groupby()` can be very useful for\n",
    "producing plots of statistics, like bar charts:"
   ]
  },
  {
   "cell_type": "code",
   "execution_count": null,
   "metadata": {},
   "outputs": [],
   "source": [
    "px.bar(\n",
    "    stats_df.sort_values(by='accommodates'),\n",
    "    x='accommodates',\n",
    "    y='price_nzd',\n",
    "    color='room_type',\n",
    "    barmode='group',\n",
    "    title='Mean Price',\n",
    ")"
   ]
  },
  {
   "cell_type": "markdown",
   "metadata": {},
   "source": [
    "We can also export our new DataFrame to a CSV file:"
   ]
  },
  {
   "cell_type": "code",
   "execution_count": null,
   "metadata": {},
   "outputs": [],
   "source": [
    "listing_groups_df.to_csv('listing_groups.csv')"
   ]
  },
  {
   "cell_type": "markdown",
   "metadata": {},
   "source": [
    "## Handling Missing Data in Pandas\n",
    "\n",
    "We can use `isna()` to get a mask of rows where a value is missing:"
   ]
  },
  {
   "cell_type": "code",
   "execution_count": null,
   "metadata": {},
   "outputs": [],
   "source": [
    "listings_df[listings_df['review_scores_rating'].isna()]"
   ]
  },
  {
   "cell_type": "markdown",
   "metadata": {},
   "source": [
    "We can invert the mask with `~` and filter out rows with missing values:"
   ]
  },
  {
   "cell_type": "code",
   "execution_count": null,
   "metadata": {},
   "outputs": [],
   "source": [
    "listings_df[~listings_df['review_scores_rating'].isna()]"
   ]
  },
  {
   "cell_type": "markdown",
   "metadata": {},
   "source": [
    "Alternatively, we can use `fillna()` to replace missing values with a\n",
    "fixed value. For example, we make want to consider un-reviewed listings\n",
    "with a mid-point rating:"
   ]
  },
  {
   "cell_type": "code",
   "execution_count": null,
   "metadata": {},
   "outputs": [],
   "source": [
    "listings_df['review_scores_rating_filled'] = listings_df['review_scores_rating'].fillna(2.5)\n",
    "listings_df"
   ]
  },
  {
   "cell_type": "markdown",
   "metadata": {},
   "source": [
    "Finally, `dropna()` on a DataFrame can be used to simply remove any rows\n",
    "where any column contains a missing value:"
   ]
  },
  {
   "cell_type": "code",
   "execution_count": null,
   "metadata": {},
   "outputs": [],
   "source": [
    "listings_df.dropna()"
   ]
  }
 ],
 "metadata": {
  "kernelspec": {
   "display_name": "Python (Pyodide)",
   "language": "python",
   "name": "python3"
  },
  "language_info": {
   "codemirror_mode": {
    "name": "python",
    "version": "3"
   },
   "file_extension": ".py",
   "mimetype": "text/x-python",
   "name": "python",
   "nbconvert_exporter": "python",
   "pygments_lexer": "ipython3",
   "version": "3.8"
  }
 },
 "nbformat": 4,
 "nbformat_minor": 4
}
