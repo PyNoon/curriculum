{
 "cells": [
  {
   "cell_type": "markdown",
   "metadata": {},
   "source": [
    "# PyNoon Data: Lesson 3 - Exercise\n",
    "\n",
    "## 1. Grouping and summarising exercises\n",
    "\n",
    "Use the `listings_df` dataset from the tutorial to answer the following\n",
    "questions.\n",
    "\n",
    "You should create a notebook that answers these questions one by one and\n",
    "uses Markdown/Text cells to explain how you arrived at the answer - as\n",
    "if you were reporting these results to a colleague.\n",
    "\n",
    "### 1a. Which parent region has the highest average listing price?\n",
    "\n",
    "Hint: Use a `groupby()` with an appropriate average statistic like\n",
    "`mean()` or `median()`.\n",
    "\n",
    "Bonus: The answer changes depending on whether you use `mean()` or\n",
    "`median()`, what does that indicate?\n",
    "\n",
    "### 1b. Create a bar chart to show how many listings of each room type there are in each parent region.\n",
    "\n",
    "Hint: Use a `groupby()` with the `count()` statistic.\n",
    "\n",
    "### 1c. Do “home” listings cost more? Are they better reviewed? Do they accommodate more people?\n",
    "\n",
    "Hint: Use `.str.lower()` and `.str.contains()` to find listings with the\n",
    "keyword “home”, then use appropriate `groupby()`s and/or plotting.\n",
    "\n",
    "### 1d. Of hosts with at least 10 reviewed listings, who has the highest average rating?\n",
    "\n",
    "Hint: Use a `groupby('host_name')` on `review_scores_rating` with\n",
    "`.agg(['count', 'mean'])` to get both the count and mean of the ratings\n",
    "(see:\n",
    "https://pandas.pydata.org/docs/reference/api/pandas.DataFrame.agg.html).\n",
    "Then filter hosts based on the count of listings.\n",
    "\n",
    "### 1e. Which parent region has the most listings that have no rating? Which has the highest proportion of listings with no rating?\n",
    "\n",
    "Hint: Use `.isna()` to filter to listings with a missing rating. Then\n",
    "use `groupby()` or `value_counts()` to count the number of listings for\n",
    "each parent region.\n",
    "\n",
    "### 1f. Do listings with higher prices typically have higher ratings?\n",
    "\n",
    "Hint: Use `cut()`\n",
    "(https://pandas.pydata.org/docs/reference/api/pandas.cut.html) to create\n",
    "a categorical column containing small number of price bands. Then use\n",
    "use appropriate `groupby()`s and/or plotting.\n",
    "\n",
    "## 2. Futurecoder\n",
    "\n",
    "Complete the following lessons on\n",
    "[futurecoder.io](https://futurecoder.io):\n",
    "\n",
    "1.  Functions (we’ll also be covering functions in the next lesson)\n",
    "\n",
    "> You can check which lesson you are up to on Futurecoder from the\n",
    "> `Table of Contents` link at the top of the Futurecoder webpage."
   ]
  }
 ],
 "metadata": {
  "kernelspec": {
   "display_name": "Python (Pyodide)",
   "language": "python",
   "name": "python3"
  },
  "language_info": {
   "codemirror_mode": {
    "name": "python",
    "version": "3"
   },
   "file_extension": ".py",
   "mimetype": "text/x-python",
   "name": "python",
   "nbconvert_exporter": "python",
   "pygments_lexer": "ipython3",
   "version": "3.8"
  }
 },
 "nbformat": 4,
 "nbformat_minor": 4
}
