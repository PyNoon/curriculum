{
 "cells": [
  {
   "cell_type": "markdown",
   "metadata": {},
   "source": [
    "This tutorial will cover:\n",
    "\n",
    "-   Working with built-in and third party libraries\n",
    "-   Loading and exploring tabular data with Pandas\n",
    "\n",
    "It is based on:\n",
    "\n",
    "-   [swcarpentry.github.io/python-novice-gapminder/04-built-in.html](https://swcarpentry.github.io/python-novice-gapminder/04-built-in.html)\n",
    "-   [swcarpentry.github.io/python-novice-gapminder/06-libraries.html](https://swcarpentry.github.io/python-novice-gapminder/06-libraries.html)\n",
    "-   [swcarpentry.github.io/python-novice-gapminder/07-reading-tabular.html](https://swcarpentry.github.io/python-novice-gapminder/07-reading-tabular.html)\n",
    "-   [swcarpentry.github.io/python-novice-gapminder/08-data-frames.html](https://swcarpentry.github.io/python-novice-gapminder/08-data-frames.html)\n",
    "\n",
    "> DEMO-ONLY TUTORIAL BEGINS HERE\n",
    "\n",
    "## Modules and Libraries\n",
    "\n",
    "To get more functions (and other things) to use in Python, you can\n",
    "import **modules**, which are just files of Python code.\n",
    "\n",
    "To use the contents of a module, we must import it once (usually at the\n",
    "top of our notebook or script):"
   ]
  },
  {
   "cell_type": "code",
   "execution_count": null,
   "metadata": {},
   "outputs": [],
   "source": [
    "import math"
   ]
  },
  {
   "cell_type": "markdown",
   "metadata": {},
   "source": [
    "Then we can use functions and variables from the module:"
   ]
  },
  {
   "cell_type": "code",
   "execution_count": null,
   "metadata": {},
   "outputs": [],
   "source": [
    "math.pi"
   ]
  },
  {
   "cell_type": "code",
   "execution_count": null,
   "metadata": {},
   "outputs": [],
   "source": [
    "math.sqrt(4)"
   ]
  },
  {
   "cell_type": "markdown",
   "metadata": {},
   "source": [
    "We can use the `help()` function to find out what is available in a\n",
    "module:"
   ]
  },
  {
   "cell_type": "code",
   "execution_count": null,
   "metadata": {},
   "outputs": [],
   "source": [
    "help(math)"
   ]
  },
  {
   "cell_type": "markdown",
   "metadata": {},
   "source": [
    "Sometimes we want to import only certain functions or variables from a\n",
    "module…"
   ]
  },
  {
   "cell_type": "code",
   "execution_count": null,
   "metadata": {},
   "outputs": [],
   "source": [
    "from math import pi, e"
   ]
  },
  {
   "cell_type": "markdown",
   "metadata": {},
   "source": [
    "Or import the module under an aliased name…"
   ]
  },
  {
   "cell_type": "code",
   "execution_count": null,
   "metadata": {},
   "outputs": [],
   "source": [
    "import pandas as pd"
   ]
  },
  {
   "cell_type": "markdown",
   "metadata": {},
   "source": [
    "-   `math` is one of the many modules in Python’s **standard library**,\n",
    "    which is well known for its extensive functionality.\n",
    "    -   You can find out more about the modules available at:\n",
    "        [docs.python.org/3/library](https://docs.python.org/3/library/index.html)\n",
    "-   Python is also well known for its many **3rd party libraries** that\n",
    "    provide more modules, but before they can be imported they must be\n",
    "    downloaded to your computer.\n",
    "    -   You can search for available Python libraries at:\n",
    "        [pypi.org](https://pypi.org/)\n",
    "\n",
    "3rd party Python libraries can be downloaded with `pip`, which can be\n",
    "run as follows in a notebook:"
   ]
  },
  {
   "cell_type": "code",
   "execution_count": null,
   "metadata": {},
   "outputs": [],
   "source": [
    "%pip install pandas"
   ]
  },
  {
   "cell_type": "markdown",
   "metadata": {},
   "source": [
    "> **Anyone** can publish a 3rd party library, so it’s prudent to ask the\n",
    "> following questions before installing a library:\n",
    ">\n",
    "> -   Has someone you trust recommended this library?\n",
    "> -   Is there concrete evidence of an active user base for this\n",
    ">     library?\n",
    "> -   Am I sure I am spelling the library’s name correctly? (malicious\n",
    ">     users have been known to publish “typo-squatting” libraries with\n",
    ">     similar names to popular libraries)\n",
    "\n",
    "The webpage for a library on `pypi.org` will often have links to:\n",
    "\n",
    "-   A **GitHub (or similar) page** where you can read the library’s\n",
    "    code, report issues, and contribute improvements.\n",
    "-   A **quick start** to briefly demonstrate you how to use the library\n",
    "-   More extensive **documentation** or an **API reference** that\n",
    "    documents all the functions and capabilities of the library.\n",
    "\n",
    "For example, check out:\n",
    "[pypi.org/project/pandas](https://pypi.org/project/pandas/)\n",
    "\n",
    "> FOLLOW-ALONG TUTORIAL BEGINS HERE\n",
    "\n",
    "## Setup\n",
    "\n",
    "1.  Make a new notebook for this lesson\n",
    "2.  What’s the first thing to do? RENAME IT!\n",
    "3.  Name it `pynoon_data_1.ipynb`\n",
    "\n",
    "Let’s look at the data we’re going to analyse:\n",
    "\n",
    "Use the link\n",
    "on[pynoon.github.io/schedule](https://pynoon.github.io/schedule/) to\n",
    "open `inside_airbnb_listings_nz_2023_09.csv`\n",
    "\n",
    "-   Look at the data dictionary linked to from that page to learn what\n",
    "    each column means.\n",
    "\n",
    "## Pandas DataFrames\n",
    "\n",
    "We can use the `pandas` library to work with tabular data in Python.\n",
    "\n",
    "-   Pandas is based on a lower-level maths library called `numpy`\n",
    "-   Pandas DataFrames are similar to R’s DataFrames"
   ]
  },
  {
   "cell_type": "code",
   "execution_count": null,
   "metadata": {},
   "outputs": [],
   "source": [
    "import pandas as pd"
   ]
  },
  {
   "cell_type": "markdown",
   "metadata": {},
   "source": [
    "> Importing Pandas as the alias `pd` is conventional, and saves us\n",
    "> typing out `pandas` everytime we want to use it.\n",
    "\n",
    "To load the CSV into a DataFrame:"
   ]
  },
  {
   "cell_type": "code",
   "execution_count": null,
   "metadata": {},
   "outputs": [],
   "source": [
    "listings_df = pd.read_csv('https://pynoon.github.io/data/inside_airbnb_listings_nz_2023_09.csv')"
   ]
  },
  {
   "cell_type": "markdown",
   "metadata": {},
   "source": [
    "-   `df` is a *conventional* variable suffix for a DataFrame.\n",
    "-   Pandas has many different `read_*` functions for reading from\n",
    "    different types of files (e.g. `read_excel()`, `read_parquet()`)."
   ]
  },
  {
   "cell_type": "code",
   "execution_count": null,
   "metadata": {},
   "outputs": [],
   "source": [
    "type(listings_df)"
   ]
  },
  {
   "cell_type": "markdown",
   "metadata": {},
   "source": [
    "Let’s look at the DataFrame:"
   ]
  },
  {
   "cell_type": "code",
   "execution_count": null,
   "metadata": {},
   "outputs": [],
   "source": [
    "listings_df"
   ]
  },
  {
   "cell_type": "markdown",
   "metadata": {},
   "source": [
    "> Only a few rows from the top and bottom of the DataFrame are shown\n",
    "\n",
    "We can sort the DataFrame by a column:"
   ]
  },
  {
   "cell_type": "code",
   "execution_count": null,
   "metadata": {},
   "outputs": [],
   "source": [
    "listings_df.sort_values('review_scores_rating')"
   ]
  },
  {
   "cell_type": "markdown",
   "metadata": {},
   "source": [
    "> Note: This doesn’t change the original DataFrame, it produced a new\n",
    "> DataFrame that is sorted\n",
    "\n",
    "We can extract a single column from the DataFrame:"
   ]
  },
  {
   "cell_type": "code",
   "execution_count": null,
   "metadata": {},
   "outputs": [],
   "source": [
    "listings_df['name']"
   ]
  },
  {
   "cell_type": "markdown",
   "metadata": {},
   "source": [
    "The type of a single column or row from a Pandas `DataFrame` is a\n",
    "`Series`:"
   ]
  },
  {
   "cell_type": "code",
   "execution_count": null,
   "metadata": {},
   "outputs": [],
   "source": [
    "type(listings_df['name'])"
   ]
  },
  {
   "cell_type": "markdown",
   "metadata": {},
   "source": [
    "Also handy to get a new DataFrame that only contains a subset of\n",
    "columns:"
   ]
  },
  {
   "cell_type": "code",
   "execution_count": null,
   "metadata": {},
   "outputs": [],
   "source": [
    "listings_df[['latitude', 'longitude']]"
   ]
  },
  {
   "cell_type": "markdown",
   "metadata": {},
   "source": [
    "### Summary Statistics\n",
    "\n",
    "We can get summary statistics for all numeric columns:"
   ]
  },
  {
   "cell_type": "code",
   "execution_count": null,
   "metadata": {},
   "outputs": [],
   "source": [
    "listings_df.describe()"
   ]
  },
  {
   "cell_type": "markdown",
   "metadata": {},
   "source": [
    "And we can get specific summary statistics for column’s individually:"
   ]
  },
  {
   "cell_type": "code",
   "execution_count": null,
   "metadata": {},
   "outputs": [],
   "source": [
    "listings_df['last_review'].max()"
   ]
  },
  {
   "cell_type": "code",
   "execution_count": null,
   "metadata": {},
   "outputs": [],
   "source": [
    "listings_df['review_scores_rating'].mean()"
   ]
  },
  {
   "cell_type": "markdown",
   "metadata": {},
   "source": [
    "### Plotting Demo\n",
    "\n",
    "As a quick demo of the power of DataFrames, we can install and use the\n",
    "Plotly library to create plots from DataFrame columns:"
   ]
  },
  {
   "cell_type": "code",
   "execution_count": null,
   "metadata": {},
   "outputs": [],
   "source": [
    "%pip install plotly nbformat"
   ]
  },
  {
   "cell_type": "code",
   "execution_count": null,
   "metadata": {},
   "outputs": [],
   "source": [
    "import plotly.express as px"
   ]
  },
  {
   "cell_type": "code",
   "execution_count": null,
   "metadata": {},
   "outputs": [],
   "source": [
    "px.scatter(listings_df, x='longitude', y='latitude')"
   ]
  },
  {
   "cell_type": "code",
   "execution_count": null,
   "metadata": {},
   "outputs": [],
   "source": [
    "px.histogram(listings_df, x='review_scores_rating')"
   ]
  }
 ],
 "metadata": {
  "kernelspec": {
   "display_name": "Python (Pyodide)",
   "language": "python",
   "name": "python3"
  },
  "language_info": {
   "codemirror_mode": {
    "name": "python",
    "version": "3"
   },
   "file_extension": ".py",
   "mimetype": "text/x-python",
   "name": "python",
   "nbconvert_exporter": "python",
   "pygments_lexer": "ipython3",
   "version": "3.8"
  }
 },
 "nbformat": 4,
 "nbformat_minor": 4
}
