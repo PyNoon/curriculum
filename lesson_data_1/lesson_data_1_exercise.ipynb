{
 "cells": [
  {
   "cell_type": "markdown",
   "metadata": {},
   "source": [
    "# PyNoon Data: Lesson 1 - Exercise\n",
    "\n",
    "## 1. Software Carpentry Exercises\n",
    "\n",
    "## 1a. When is help available?\n",
    "\n",
    "When a colleague of yours types help(math), Python reports an error:\n",
    "\n",
    "    NameError: name 'math' is not defined\n",
    "\n",
    "What has your colleague forgotten to do?\n",
    "\n",
    "<details>\n",
    "<summary>\n",
    "Answer:\n",
    "</summary>\n",
    "They have forgotten to Import the math module (`import math`)\n",
    "</details>\n",
    "\n",
    "## 1b. Importing With Aliases\n",
    "\n",
    "1.  Fill in the blanks so that the program below prints `90.0`.\n",
    "2.  Rewrite the program so that it uses `import` without `as`.\n",
    "3.  Which form do you find easier to read?"
   ]
  },
  {
   "cell_type": "code",
   "execution_count": null,
   "metadata": {},
   "outputs": [],
   "source": [
    "import math as m\n",
    "angle = ____.degrees(____.pi / 2)\n",
    "print(____)"
   ]
  },
  {
   "cell_type": "markdown",
   "metadata": {},
   "source": [
    "## 1c. Writing Data\n",
    "\n",
    "As well as the `read_csv` function for reading data from a file, Pandas\n",
    "provides a `to_csv` function to write DataFrames to files. Applying what\n",
    "you’ve learned about reading from files, write `listing_df` from the\n",
    "tutorial to a file called `processed.csv`. You can use\n",
    "`help(listing_df.to_csv)` or Pandas documentation to get information on\n",
    "how to use `to_csv`.\n",
    "\n",
    "## 2. Exploratory Data Analysis Notebook\n",
    "\n",
    "In this assignment, your task is to extend your notebook from this\n",
    "lesson’s tutorial into a shareable notebook that performs Exploratory\n",
    "Data Analysis to identify interesting details of the AirBnB listings\n",
    "dataset.\n",
    "\n",
    "-   In future lessons, we’ll cover even more features of Python and\n",
    "    Pandas to help you extend your exploratory data analysis.\n",
    "-   If you have another CSV you’d like to perform Exploratory Data\n",
    "    Analysis instead of the AirBnB listings, feel free!\n",
    "\n",
    "### 2a. Calculate Descriptive Statistics\n",
    "\n",
    "Add additional cells to your notebook to understand more about the\n",
    "AirBnB listings.\n",
    "\n",
    "**Calculate additional descriptive statistics of DataFrame columns.**\n",
    "\n",
    "For example, the mean of the `latitude` column can be computed with:"
   ]
  },
  {
   "cell_type": "code",
   "execution_count": null,
   "metadata": {},
   "outputs": [],
   "source": [
    "listings_df['latitude'].mean()"
   ]
  },
  {
   "cell_type": "markdown",
   "metadata": {},
   "source": [
    "Have a look at the other methods that are available to compute\n",
    "descriptive statistics of DataFrame columns (remember, the data type of\n",
    "a single column is a `Series`):\n",
    "[pandas.pydata.org/pandas-docs/stable/reference/series.html#computations-descriptive-stats](https://pandas.pydata.org/pandas-docs/stable/reference/series.html#computations-descriptive-stats)\n",
    "\n",
    "### 2c. Find Frequent and Rare Values\n",
    "\n",
    "Learn more about the `.value_counts()` method of Series from the Pandas’\n",
    "documentation or by using `help()`:"
   ]
  },
  {
   "cell_type": "code",
   "execution_count": null,
   "metadata": {},
   "outputs": [],
   "source": [
    "help(listings_df.value_counts)"
   ]
  },
  {
   "cell_type": "markdown",
   "metadata": {},
   "source": [
    "Use this method to find the most frequent and least frequent values for\n",
    "columns of your choosing. What columns would it be interesting to find\n",
    "out the frequent and rare values for?\n",
    "\n",
    "### 2d. Missing Values\n",
    "\n",
    "Learn more about the `.isna()` and `.dropna()` methods of Series from\n",
    "the Pandas’ documentation or by using `help()`.\n",
    "\n",
    "Use these methods to find which columns have “missing” (aka `na`)\n",
    "values, and how many values are missing in those columns. Hint: as part\n",
    "of calculating the number of missing values in a column Series, you may\n",
    "find it helpful to apply the `len()` function on one or more Series.\n",
    "\n",
    "### 2d. Plotting\n",
    "\n",
    "Have a look at the different kinds of plotting functions available from\n",
    "[Plotly Express](https://plotly.com/python/plotly-express/), and create\n",
    "some interesting plots of column values.\n",
    "\n",
    "### 2e. Document your Notebook\n",
    "\n",
    "1.  Ensure your notebook has a meaningful name that makes it clear that\n",
    "    it performs exploratory analysis of the listings dataset.\n",
    "2.  Add Markdown cells with\n",
    "    [headings](https://www.markdownguide.org/basic-syntax/#headings) to:\n",
    "    1.  Provide a title at the beginning of the notebook\n",
    "    2.  Mark the beginning of the code that loads the dataset\n",
    "        <!-- 3. Mark the beginning of the code that pre-processes the dataset -->\n",
    "        <!--    (i.e. setting the index and changing column data types) -->\n",
    "    3.  Mark the beginning of the code that analyses the dataset\n",
    "3.  Extend or add more Markdown cells to document:\n",
    "    <!-- 1. What each data pre-processing step is for -->\n",
    "    1.  What each analysis of the dataset tells you about the data -\n",
    "        provide commentary you think would be useful to a colleague who\n",
    "        will also be working with this data\n",
    "\n",
    "## 3. Futurecoder\n",
    "\n",
    "Complete the following lesson on\n",
    "[futurecoder.io](https://futurecoder.io):\n",
    "\n",
    "1.  Lists\n",
    "\n",
    "> You can check which lesson you are up to on Futurecoder from the\n",
    "> `Table of Contents` link at the top of the Futurecoder webpage."
   ]
  }
 ],
 "metadata": {
  "kernelspec": {
   "display_name": "Python (Pyodide)",
   "language": "python",
   "name": "python"
  },
  "language_info": {
   "codemirror_mode": {
    "name": "python",
    "version": "3"
   },
   "file_extension": ".py",
   "mimetype": "text/x-python",
   "name": "python",
   "nbconvert_exporter": "python",
   "pygments_lexer": "ipython3",
   "version": "3.8"
  }
 },
 "nbformat": 4,
 "nbformat_minor": 4
}
