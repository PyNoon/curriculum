{
 "cells": [
  {
   "cell_type": "markdown",
   "metadata": {},
   "source": [
    "This week’s tutorial is based on:\n",
    "\n",
    "-   [swcarpentry.github.io/python-novice-gapminder/02-variables.html](https://swcarpentry.github.io/python-novice-gapminder/02-variables.html)\n",
    "-   [swcarpentry.github.io/python-novice-gapminder/03-types-conversion.html](https://swcarpentry.github.io/python-novice-gapminder/03-types-conversion.html).\n",
    "\n",
    "## Types\n",
    "\n",
    "**In Python, every value has a type**\n",
    "\n",
    "**The type of a value determines what operations we can perform with\n",
    "it**\n",
    "\n",
    "### Checking the type of a value\n",
    "\n",
    "We can use the `type()` function to find out what it is:"
   ]
  },
  {
   "cell_type": "code",
   "execution_count": null,
   "metadata": {},
   "outputs": [],
   "source": [
    "type(42)"
   ]
  },
  {
   "cell_type": "markdown",
   "metadata": {},
   "source": [
    "An `int` or “integer” is a number without a decimal part."
   ]
  },
  {
   "cell_type": "code",
   "execution_count": null,
   "metadata": {},
   "outputs": [],
   "source": [
    "type(42.0)"
   ]
  },
  {
   "cell_type": "markdown",
   "metadata": {},
   "source": [
    "`float` is the name Python and other programming languages use for\n",
    "numbers with decimal parts (aka floating point numbers)."
   ]
  },
  {
   "cell_type": "code",
   "execution_count": null,
   "metadata": {},
   "outputs": [],
   "source": [
    "type('hello')"
   ]
  },
  {
   "cell_type": "markdown",
   "metadata": {},
   "source": [
    "A `str` or “string” is a string of characters - a piece of text.\n",
    "\n",
    "### Operations vary by type\n",
    "\n",
    "The type of a value determines what operations we can perform with it:"
   ]
  },
  {
   "cell_type": "code",
   "execution_count": null,
   "metadata": {},
   "outputs": [],
   "source": [
    "'hello' + 'world'"
   ]
  },
  {
   "cell_type": "markdown",
   "metadata": {},
   "source": [
    "Note that “adding” strings joins them together, while we’ve seen that\n",
    "adding numbers performs arithmetic addition.\n",
    "\n",
    "What if we try to subtract strings?"
   ]
  },
  {
   "cell_type": "code",
   "execution_count": null,
   "metadata": {},
   "outputs": [],
   "source": [
    "'hello' - 'h'"
   ]
  },
  {
   "cell_type": "markdown",
   "metadata": {},
   "source": [
    "Python complains with a `TypeError`, telling us that the `-` operation\n",
    "is not supported for strings.\n",
    "\n",
    "We can get the length of a string with the `len()` function:"
   ]
  },
  {
   "cell_type": "code",
   "execution_count": null,
   "metadata": {},
   "outputs": [],
   "source": [
    "len('hello')"
   ]
  },
  {
   "cell_type": "markdown",
   "metadata": {},
   "source": [
    "But the length of an integer is not defined:"
   ]
  },
  {
   "cell_type": "code",
   "execution_count": null,
   "metadata": {},
   "outputs": [],
   "source": [
    "len(10)"
   ]
  },
  {
   "cell_type": "markdown",
   "metadata": {},
   "source": [
    "Different types also support different variables and functions attached\n",
    "to the value itself:"
   ]
  },
  {
   "cell_type": "code",
   "execution_count": null,
   "metadata": {},
   "outputs": [],
   "source": [
    "'hello'.upper()"
   ]
  },
  {
   "cell_type": "markdown",
   "metadata": {},
   "source": [
    "`upper()` is a function like `print`, `type`, and `len`, but it doesn’t\n",
    "take any arguments, and it is attached to string values (referred to as\n",
    "a special kind of function called a *method*).\n",
    "\n",
    "### Operations with mixed types\n",
    "\n",
    "Some operations do not work with mixed types:"
   ]
  },
  {
   "cell_type": "code",
   "execution_count": null,
   "metadata": {},
   "outputs": [],
   "source": [
    "1 + '1'"
   ]
  },
  {
   "cell_type": "markdown",
   "metadata": {},
   "source": [
    "Functions are available to convert values from one type to another, like\n",
    "`str()` to convert values to strings:"
   ]
  },
  {
   "cell_type": "code",
   "execution_count": null,
   "metadata": {},
   "outputs": [],
   "source": [
    "str(1) + '1'"
   ]
  },
  {
   "cell_type": "markdown",
   "metadata": {},
   "source": [
    "Some operations do work with mixed types"
   ]
  },
  {
   "cell_type": "code",
   "execution_count": null,
   "metadata": {},
   "outputs": [],
   "source": [
    "'<>' * 10"
   ]
  },
  {
   "cell_type": "markdown",
   "metadata": {},
   "source": [
    "What do you think the result of this will be?"
   ]
  },
  {
   "cell_type": "code",
   "execution_count": null,
   "metadata": {},
   "outputs": [],
   "source": [
    "type(42 + 42.0)"
   ]
  },
  {
   "cell_type": "markdown",
   "metadata": {},
   "source": [
    "Maths with both integers and floats results in a `float`. Note the\n",
    "decimal part after the resulting number:"
   ]
  },
  {
   "cell_type": "code",
   "execution_count": null,
   "metadata": {},
   "outputs": [],
   "source": [
    "42 + 42.0"
   ]
  },
  {
   "cell_type": "markdown",
   "metadata": {},
   "source": [
    "> FOLLOW-ALONG TUTORIAL BEGINS HERE\n",
    "\n",
    "## Setup\n",
    "\n",
    "-   Make a new notebook for this week\n",
    "-   What’s the first thing to do? RENAME IT!\n",
    "-   Name it `week2.ipynb`\n",
    "\n",
    "## Variables\n",
    "\n",
    "A quick recap on variables for those who haven’t reached that part of\n",
    "futurecoder yet. Run the following:"
   ]
  },
  {
   "cell_type": "code",
   "execution_count": null,
   "metadata": {},
   "outputs": [],
   "source": [
    "height_cm = 180"
   ]
  },
  {
   "cell_type": "markdown",
   "metadata": {},
   "source": [
    "The `=` symbol assigns the name on the left to refer to the value on the\n",
    "right.\n",
    "\n",
    "Now we can use the variable anywhere we would have used the value:"
   ]
  },
  {
   "cell_type": "code",
   "execution_count": null,
   "metadata": {},
   "outputs": [],
   "source": [
    "height_cm"
   ]
  },
  {
   "cell_type": "code",
   "execution_count": null,
   "metadata": {},
   "outputs": [],
   "source": [
    "height_cm + 10"
   ]
  },
  {
   "cell_type": "markdown",
   "metadata": {},
   "source": [
    "> Note: The Python convention for naming variables is to use “snake\n",
    "> case” (lowercase letters separated with words/parts separated by\n",
    "> underscores).\n",
    "\n",
    "> Note: Variables are case-sensitive.\n",
    "\n",
    "**Variables are useful for giving meaningful names to values:**\n",
    "\n",
    "This is bad:"
   ]
  },
  {
   "cell_type": "code",
   "execution_count": null,
   "metadata": {},
   "outputs": [],
   "source": [
    "height_cm / 2.54"
   ]
  },
  {
   "cell_type": "markdown",
   "metadata": {},
   "source": [
    "This is better:"
   ]
  },
  {
   "cell_type": "code",
   "execution_count": null,
   "metadata": {},
   "outputs": [],
   "source": [
    "cm_per_inch = 2.54\n",
    "height_cm / cm_per_inch"
   ]
  },
  {
   "cell_type": "markdown",
   "metadata": {},
   "source": [
    "Also note how helpful it is to include the units in the name of the\n",
    "variable.\n",
    "\n",
    "**Variables are also useful for strong the result of an operation for\n",
    "later use:**"
   ]
  },
  {
   "cell_type": "code",
   "execution_count": null,
   "metadata": {},
   "outputs": [],
   "source": [
    "cm_per_inch = 2.54\n",
    "height_inch = height_cm / cm_per_inch"
   ]
  },
  {
   "cell_type": "markdown",
   "metadata": {},
   "source": [
    "<!-- * Be careful of cell order: -->\n",
    "<!--   * Move `print(first_name)` above `first_name = 'Alice'` -->\n",
    "<!--   * The print cell still works for now... -->\n",
    "<!--   * `Restart and run all` -->\n",
    "<!-- * Be aware that the variable does not refer to a dynamic calculation, it refers -->\n",
    "<!--   to a value: -->\n",
    "<!--   ``` -->\n",
    "<!--   a = 2 -->\n",
    "<!--   b = 5 * a -->\n",
    "<!--   a = 3 -->\n",
    "<!--   print(a) -->\n",
    "<!--   print(b) -->\n",
    "<!--   ``` -->\n",
    "\n",
    "## Indexing and Slicing\n",
    "\n",
    "### Indexing\n",
    "\n",
    "We can use indexing to get particular characters from a string:"
   ]
  },
  {
   "cell_type": "code",
   "execution_count": null,
   "metadata": {},
   "outputs": [],
   "source": [
    "email = 'pynoon@example.com'\n",
    "email"
   ]
  },
  {
   "cell_type": "markdown",
   "metadata": {},
   "source": [
    "To get a new string containing only the first character of the `email`\n",
    "string:"
   ]
  },
  {
   "cell_type": "code",
   "execution_count": null,
   "metadata": {},
   "outputs": [],
   "source": [
    "email[0]"
   ]
  },
  {
   "cell_type": "markdown",
   "metadata": {},
   "source": [
    "Note that Python starts counting indexes at `0`, so index `1` is the\n",
    "second character:"
   ]
  },
  {
   "cell_type": "code",
   "execution_count": null,
   "metadata": {},
   "outputs": [],
   "source": [
    "email[1]"
   ]
  },
  {
   "cell_type": "markdown",
   "metadata": {},
   "source": [
    "You can also specify negative indexes to count from the end of the\n",
    "string:"
   ]
  },
  {
   "cell_type": "code",
   "execution_count": null,
   "metadata": {},
   "outputs": [],
   "source": [
    "email[-1]"
   ]
  },
  {
   "cell_type": "markdown",
   "metadata": {},
   "source": [
    "### Slicing\n",
    "\n",
    "We can use slicing to get a new string that is a subset of the target\n",
    "string:"
   ]
  },
  {
   "cell_type": "code",
   "execution_count": null,
   "metadata": {},
   "outputs": [],
   "source": [
    "email[0:2]"
   ]
  },
  {
   "cell_type": "markdown",
   "metadata": {},
   "source": [
    "-   The result of the slice **includes** the first index, and\n",
    "    **excludes** the last index.\n",
    "-   The length of the slice is the difference of the two indexes.\n",
    "\n",
    "Taking an index or slice does not change the contents of the original\n",
    "string, but returns a copy of part of the string:"
   ]
  },
  {
   "cell_type": "code",
   "execution_count": null,
   "metadata": {},
   "outputs": [],
   "source": [
    "email"
   ]
  },
  {
   "cell_type": "markdown",
   "metadata": {},
   "source": [
    "Here’s a more concrete example to split an email address around it’s `@`\n",
    "sign.\n",
    "\n",
    "We can use the `find()` method supported by strings to get the index of\n",
    "the first `@` sign:"
   ]
  },
  {
   "cell_type": "code",
   "execution_count": null,
   "metadata": {},
   "outputs": [],
   "source": [
    "at_index = email.find('@')"
   ]
  },
  {
   "cell_type": "code",
   "execution_count": null,
   "metadata": {},
   "outputs": [],
   "source": [
    "at_index"
   ]
  },
  {
   "cell_type": "markdown",
   "metadata": {},
   "source": [
    "We can then use that index to slice the string:"
   ]
  },
  {
   "cell_type": "code",
   "execution_count": null,
   "metadata": {},
   "outputs": [],
   "source": [
    "email[at_index]"
   ]
  },
  {
   "cell_type": "code",
   "execution_count": null,
   "metadata": {},
   "outputs": [],
   "source": [
    "email[0:at_index]"
   ]
  },
  {
   "cell_type": "code",
   "execution_count": null,
   "metadata": {},
   "outputs": [],
   "source": [
    "email[at_index:len(email)]"
   ]
  },
  {
   "cell_type": "code",
   "execution_count": null,
   "metadata": {},
   "outputs": [],
   "source": [
    "email[(at_index + 1):len(email)]"
   ]
  },
  {
   "cell_type": "markdown",
   "metadata": {},
   "source": [
    "### DataFrames\n",
    "\n",
    "More generally, indexing and slicing work on any type that is an ordered\n",
    "list of elements.\n",
    "\n",
    "Let’s try that out with the DataFrame type from the `pandas` library,\n",
    "which stores tabular data. We’ll look at DataFrames in more detail in\n",
    "coming weeks.\n",
    "\n",
    "To import the pandas library as the alias `pd`:"
   ]
  },
  {
   "cell_type": "code",
   "execution_count": null,
   "metadata": {},
   "outputs": [],
   "source": [
    "import pandas as pd"
   ]
  },
  {
   "cell_type": "markdown",
   "metadata": {},
   "source": [
    "To load a CSV file from the JupyterLite environment into a DataFrame:"
   ]
  },
  {
   "cell_type": "code",
   "execution_count": null,
   "metadata": {},
   "outputs": [],
   "source": [
    "df = pd.read_csv('examples/data/iris.csv')"
   ]
  },
  {
   "cell_type": "markdown",
   "metadata": {},
   "source": [
    "> Note: Your notebook must not be inside a subfolder for this command to\n",
    "> work.\n",
    "\n",
    "Look at the contents of the DataFrame:"
   ]
  },
  {
   "cell_type": "code",
   "execution_count": null,
   "metadata": {},
   "outputs": [],
   "source": [
    "df"
   ]
  },
  {
   "cell_type": "markdown",
   "metadata": {},
   "source": [
    "Check the type of the DataFrame:"
   ]
  },
  {
   "cell_type": "code",
   "execution_count": null,
   "metadata": {},
   "outputs": [],
   "source": [
    "type(df)"
   ]
  },
  {
   "cell_type": "markdown",
   "metadata": {},
   "source": [
    "Get the first row of the DataFrame by indexing:"
   ]
  },
  {
   "cell_type": "code",
   "execution_count": null,
   "metadata": {},
   "outputs": [],
   "source": [
    "df.iloc[0]"
   ]
  },
  {
   "cell_type": "markdown",
   "metadata": {},
   "source": [
    "Get the first three rows of the DataFrame by slicing:"
   ]
  },
  {
   "cell_type": "code",
   "execution_count": null,
   "metadata": {},
   "outputs": [],
   "source": [
    "df.iloc[0:3]"
   ]
  },
  {
   "cell_type": "markdown",
   "metadata": {},
   "source": [
    "Check the length of the DataFrame:"
   ]
  },
  {
   "cell_type": "code",
   "execution_count": null,
   "metadata": {},
   "outputs": [],
   "source": [
    "len(df)"
   ]
  },
  {
   "cell_type": "markdown",
   "metadata": {},
   "source": [
    "Remember, **the type of the value determines what operations behave**.\n",
    "Maths operations applied to a DataFrame are applied to every cell\n",
    "individually:"
   ]
  },
  {
   "cell_type": "code",
   "execution_count": null,
   "metadata": {},
   "outputs": [],
   "source": [
    "df * 5"
   ]
  }
 ],
 "metadata": {
  "kernelspec": {
   "display_name": "Python (Pyodide)",
   "language": "python",
   "name": "python"
  },
  "language_info": {
   "codemirror_mode": {
    "name": "python",
    "version": "3"
   },
   "file_extension": ".py",
   "mimetype": "text/x-python",
   "name": "python",
   "nbconvert_exporter": "python",
   "pygments_lexer": "ipython3",
   "version": "3.8"
  }
 },
 "nbformat": 4,
 "nbformat_minor": 4
}
