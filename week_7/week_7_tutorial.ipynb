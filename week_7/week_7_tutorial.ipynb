{
 "cells": [
  {
   "cell_type": "markdown",
   "metadata": {},
   "source": [
    "This week’s tutorial will cover building user interfaces in Jupyter\n",
    "notebooks, and using an off-the-shelf AI model.\n",
    "\n",
    "## Setup\n",
    "\n",
    "1.  Make a new notebook for this week\n",
    "2.  What’s the first thing to do? RENAME IT!\n",
    "3.  Name it `week7.ipynb`\n",
    "\n",
    "## UI Widget Basics\n",
    "\n",
    "To get started, let’s import:\n",
    "\n",
    "-   The `ipywidgets` module that provides widgets for building user\n",
    "    interfaces.\n",
    "-   A `display` function for displaying the widgets."
   ]
  },
  {
   "cell_type": "code",
   "execution_count": null,
   "metadata": {},
   "outputs": [],
   "source": [
    "from IPython.display import display\n",
    "import ipywidgets as widgets"
   ]
  },
  {
   "cell_type": "markdown",
   "metadata": {},
   "source": [
    "Now let’s make a text field:"
   ]
  },
  {
   "cell_type": "code",
   "execution_count": null,
   "metadata": {},
   "outputs": [],
   "source": [
    "text_field = widgets.Text()"
   ]
  },
  {
   "cell_type": "markdown",
   "metadata": {},
   "source": [
    "We can use `display` to display it:"
   ]
  },
  {
   "cell_type": "code",
   "execution_count": null,
   "metadata": {},
   "outputs": [],
   "source": [
    "display(text_field)"
   ]
  },
  {
   "cell_type": "markdown",
   "metadata": {},
   "source": [
    "And we can get the current contents of the field:"
   ]
  },
  {
   "cell_type": "code",
   "execution_count": null,
   "metadata": {},
   "outputs": [],
   "source": [
    "text_field.value"
   ]
  },
  {
   "cell_type": "markdown",
   "metadata": {},
   "source": [
    "-   Try entering some text, then re-run `text_field.value`.\n",
    "-   See that the value has changed.\n",
    "\n",
    "## Buttons\n",
    "\n",
    "Now let’s make a button:"
   ]
  },
  {
   "cell_type": "code",
   "execution_count": null,
   "metadata": {},
   "outputs": [],
   "source": [
    "submit_button = widgets.Button(description='Submit')\n",
    "display(submit_button)"
   ]
  },
  {
   "cell_type": "markdown",
   "metadata": {},
   "source": [
    "-   We can use `on_click()` to assign a function that should be called\n",
    "    whenever the button is clicked.\n",
    "-   Note that the function we provide must accept a single argument that\n",
    "    will contain details of the button click “event”.\n",
    "    -   We generally won’t need to use the `event`, but the function\n",
    "        must still accept it."
   ]
  },
  {
   "cell_type": "code",
   "execution_count": null,
   "metadata": {},
   "outputs": [],
   "source": [
    "submit_button = widgets.Button(description='Submit')\n",
    "\n",
    "def on_submit(event):\n",
    "    print('hello')\n",
    "\n",
    "submit_button.on_click(on_submit)\n",
    "\n",
    "display(submit_button)"
   ]
  },
  {
   "cell_type": "markdown",
   "metadata": {},
   "source": [
    "-   Each time you click the button, `hello` is printed again.\n",
    "-   But what if we want to replace the printed text each time the button\n",
    "    is clicked?\n",
    "-   We can print to our own `Output()` widget:\n",
    "-   When the submit handler runs, we:\n",
    "    1.  Clear any current contents of the `output`.\n",
    "    2.  Use `with output:` to capture any printed or displayed content\n",
    "        and add it to the contents of `output`.\n",
    "-   We must make sure we display the `output` widget itself."
   ]
  },
  {
   "cell_type": "code",
   "execution_count": null,
   "metadata": {},
   "outputs": [],
   "source": [
    "submit_button = widgets.Button(description='Submit')\n",
    "output = widgets.Output()\n",
    "\n",
    "def on_submit(event):\n",
    "    output.clear_output()\n",
    "    with output:\n",
    "        print('hello')\n",
    "\n",
    "submit_button.on_click(on_submit)\n",
    "\n",
    "display(\n",
    "    submit_button,\n",
    "    output,\n",
    ")"
   ]
  },
  {
   "cell_type": "markdown",
   "metadata": {},
   "source": [
    "## Building a self-contained form\n",
    "\n",
    "-   Now let’s write a function to keep all of our interface code\n",
    "    together\n",
    "    -   Because all of the variables are defined inside the function,\n",
    "        they will not overwrite other variables outside the function.\n",
    "-   Use a consistent layout:\n",
    "    -   Start by defining widgets.\n",
    "    -   Then define and assign event handlers.\n",
    "    -   Then return a *layout* widget that wraps up all of the widgets\n",
    "        to be displayed.\n",
    "        -   Instead of displaying the interface, `ui_form()` will return\n",
    "            a widget that we can display as we please.\n",
    "        -   This is particularly useful for creating nested interface\n",
    "            functions."
   ]
  },
  {
   "cell_type": "code",
   "execution_count": null,
   "metadata": {},
   "outputs": [],
   "source": [
    "def user_interface():\n",
    "    text_field = widgets.Text()\n",
    "    submit_button = widgets.Button(description='Submit')\n",
    "    output = widgets.Output()\n",
    "\n",
    "    def on_submit(event):\n",
    "        output.clear_output()\n",
    "        with output:\n",
    "            print(text_field.value)\n",
    "\n",
    "    submit_button.on_click(on_submit)\n",
    "\n",
    "    return widgets.VBox([\n",
    "        text_field,\n",
    "        submit_button,\n",
    "        output,\n",
    "    ])\n",
    "\n",
    "display(user_interface())"
   ]
  },
  {
   "cell_type": "markdown",
   "metadata": {},
   "source": [
    "## Using\n",
    "\n",
    "-   Now we’d like to make our form do something.\n",
    "-   Let’s get it to use an AI model to assign a label to our text!\n",
    "-   [huggingface.co](https://huggingface.co/) has LOTS of AI models\n",
    "    available for different tasks that we can download and use.\n",
    "-   In this case, we’ll use a zero-shot classification model that picks\n",
    "    which of a provided list of labels best fits a text snippet we\n",
    "    provide.\n",
    "\n",
    "> Normally we’d have to install `transformers` and its dependency\n",
    "> `torch` using `pip`, but Colab already has these installed."
   ]
  },
  {
   "cell_type": "code",
   "execution_count": null,
   "metadata": {},
   "outputs": [],
   "source": [
    "from transformers import pipeline\n",
    "\n",
    "classifier = pipeline('zero-shot-classification', model='facebook/bart-large-mnli')\n",
    "\n",
    "text_to_classify = 'one day I will see the world'\n",
    "classifier(\n",
    "    text_to_classify,\n",
    "    candidate_labels=['travel', 'cooking', 'dancing'],\n",
    ")"
   ]
  },
  {
   "cell_type": "markdown",
   "metadata": {},
   "source": [
    "-   We can see that the model thinks that `travel` is the best fit,\n",
    "    which seems reasonable.\n",
    "    -   Though AI models won’t always give reasonable responses!\n",
    "-   The output is given as a dictionary, which you’ll learn more about\n",
    "    in this week’s Futurecoder lesson.\n",
    "-   Let’s create a function that we can use to call the classifier with\n",
    "    a single argument - the text to classify:"
   ]
  },
  {
   "cell_type": "code",
   "execution_count": null,
   "metadata": {},
   "outputs": [],
   "source": [
    "from transformers import pipeline\n",
    "\n",
    "classifier = pipeline('zero-shot-classification', model='facebook/bart-large-mnli')\n",
    "\n",
    "def classify_text(text_to_classify):\n",
    "    return classifier(\n",
    "        text_to_classify,\n",
    "        candidate_labels=['travel', 'cooking', 'dancing'],\n",
    "    )\n",
    "\n",
    "classify_text('one day I will see the world')"
   ]
  },
  {
   "cell_type": "markdown",
   "metadata": {},
   "source": [
    "## Separating Logic from Interface\n",
    "\n",
    "-   Now let’s make our interface classify the entered text whenever the\n",
    "    submit button is clicked.\n",
    "-   Instead of changing our interface to call the classifier, let’s make\n",
    "    the user interface accept *any* function that can transform the\n",
    "    entered text into some output.\n",
    "-   This will:\n",
    "    -   Logically separate our interface code from our business logic.\n",
    "    -   Make our form re-usable for different actions.\n",
    "    -   Make it easier to test both our interface and classifier.\n",
    "\n",
    "> For those interested, this is an example of the [**dependency\n",
    "> inversion**](https://en.wikipedia.org/wiki/Dependency_inversion_principle)\n",
    "> design principle."
   ]
  },
  {
   "cell_type": "code",
   "execution_count": null,
   "metadata": {},
   "outputs": [],
   "source": [
    "def user_interface(produce_output):\n",
    "    text_field = widgets.Text()\n",
    "    submit_button = widgets.Button(description='Submit')\n",
    "    output = widgets.Output()\n",
    "\n",
    "    def on_submit(event):\n",
    "        output.clear_output()\n",
    "        with output:\n",
    "            display(produce_output(text_field.value))\n",
    "\n",
    "    submit_button.on_click(on_submit)\n",
    "\n",
    "    return widgets.VBox([\n",
    "        text_field,\n",
    "        submit_button,\n",
    "        output,\n",
    "    ])\n",
    "\n",
    "display(user_interface(produce_output=classify_text))"
   ]
  },
  {
   "cell_type": "markdown",
   "metadata": {},
   "source": [
    "## Going further with user interfaces\n",
    "\n",
    "-   Look at the [available\n",
    "    ipywidgets](https://ipywidgets.readthedocs.io/en/stable/examples/Widget%20List.html)\n",
    "-   There are tools that can turn notebooks into web applications:\n",
    "    -   [Voila](https://voila.readthedocs.io/)\n",
    "    -   [Panel](https://panel.holoviz.org/index.html)\n",
    "-   Other user interface libraries exist for:\n",
    "    -   Web apps\n",
    "        -   [Streamlit](https://streamlit.io/)\n",
    "        -   [Plotly Dash](https://dash.plotly.com/)\n",
    "    -   Desktop apps (less popular these days)\n",
    "        -   [Tkinter](https://docs.python.org/3/library/tkinter.html)\n",
    "        -   [PyQt](https://wiki.python.org/moin/PyQt)"
   ]
  }
 ],
 "metadata": {
  "kernelspec": {
   "display_name": "Python (Pyodide)",
   "language": "python",
   "name": "python"
  },
  "language_info": {
   "codemirror_mode": {
    "name": "python",
    "version": "3"
   },
   "file_extension": ".py",
   "mimetype": "text/x-python",
   "name": "python",
   "nbconvert_exporter": "python",
   "pygments_lexer": "ipython3",
   "version": "3.8"
  }
 },
 "nbformat": 4,
 "nbformat_minor": 4
}
