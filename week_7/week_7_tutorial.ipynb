{
 "cells": [
  {
   "cell_type": "markdown",
   "metadata": {},
   "source": [
    "This week’s tutorial will cover building user interfaces in Jupyter\n",
    "notebooks.\n",
    "\n",
    "## Setup\n",
    "\n",
    "1.  Make a new notebook for this week\n",
    "2.  What’s the first thing to do? RENAME IT!\n",
    "3.  Name it `week7.ipynb`\n",
    "\n",
    "## UI Widget Basics\n",
    "\n",
    "To get started, let’s import the `panel` module that provides widgets\n",
    "for building user interfaces\n",
    "\n",
    "-   Usually installed with `%pip install panel`, but it’s pre-installed\n",
    "    in Colab.\n",
    "-   We also need to call `pn.extension()` to finish loading panel."
   ]
  },
  {
   "cell_type": "code",
   "execution_count": null,
   "metadata": {},
   "outputs": [],
   "source": [
    "import panel as pn\n",
    "\n",
    "pn.extension()"
   ]
  },
  {
   "cell_type": "markdown",
   "metadata": {},
   "source": [
    "Now let’s make a text field:"
   ]
  },
  {
   "cell_type": "code",
   "execution_count": null,
   "metadata": {},
   "outputs": [],
   "source": [
    "text_field = pn.widgets.TextInput()"
   ]
  },
  {
   "cell_type": "markdown",
   "metadata": {},
   "source": [
    "We can display it:"
   ]
  },
  {
   "cell_type": "code",
   "execution_count": null,
   "metadata": {},
   "outputs": [],
   "source": [
    "text_field"
   ]
  },
  {
   "cell_type": "markdown",
   "metadata": {},
   "source": [
    "And we can get the current contents of the field:"
   ]
  },
  {
   "cell_type": "code",
   "execution_count": null,
   "metadata": {},
   "outputs": [],
   "source": [
    "text_field.value"
   ]
  },
  {
   "cell_type": "markdown",
   "metadata": {},
   "source": [
    "-   Try entering some text, then re-run `text_field.value`.\n",
    "-   See that the value has changed.\n",
    "\n",
    "## Buttons\n",
    "\n",
    "Now let’s make a button:"
   ]
  },
  {
   "cell_type": "code",
   "execution_count": null,
   "metadata": {},
   "outputs": [],
   "source": [
    "submit_button = pn.widgets.Button(name='Submit')\n",
    "submit_button"
   ]
  },
  {
   "cell_type": "markdown",
   "metadata": {},
   "source": [
    "-   We can use `pn.bind()` to assign a “callback” function that should\n",
    "    be called whenever the button is clicked."
   ]
  },
  {
   "cell_type": "code",
   "execution_count": null,
   "metadata": {},
   "outputs": [],
   "source": [
    "submit_button = pn.widgets.Button(name='Submit')\n",
    "\n",
    "def on_submit(event):\n",
    "    if not event:\n",
    "        return\n",
    "\n",
    "    return text_field.value\n",
    "\n",
    "submit_output = pn.bind(on_submit, submit_button)\n",
    "\n",
    "pn.Column(\n",
    "    submit_button,\n",
    "    submit_output,\n",
    ")"
   ]
  },
  {
   "cell_type": "markdown",
   "metadata": {},
   "source": [
    "-   The value returned by `pn.bind()` will display outputs returned by\n",
    "    the callback.\n",
    "    -   We display the button and output together by wrapping them in a\n",
    "        `pn.Column`.\n",
    "    -   `pn.bind()` can also bind functions to any widget updates, like\n",
    "        text box changes.\n",
    "-   Note that the function we provide must accept a single argument that\n",
    "    will contain details of the button click “event”.\n",
    "    -   The callback will be called once initially, but the argument\n",
    "        passed to it will only contain a value when the button has been\n",
    "        clicked.\n",
    "\n",
    "Each time you click the button, the current value of the text input is\n",
    "displayed.\n",
    "\n",
    "## Bringing it all together a self-contained form\n",
    "\n",
    "-   Use a consistent structure:\n",
    "    -   Start by defining widgets.\n",
    "    -   Then define and bind event handlers.\n",
    "    -   Then define a layout that includes all of the widgets to be\n",
    "        displayed.\n",
    "-   If your interface gets too big, consider splitting it up into\n",
    "    functions"
   ]
  },
  {
   "cell_type": "code",
   "execution_count": null,
   "metadata": {},
   "outputs": [],
   "source": [
    "text_field = pn.widgets.TextInput()\n",
    "submit_button = pn.widgets.Button(name='Submit')\n",
    "\n",
    "def on_submit(event):\n",
    "    if not event:\n",
    "        return\n",
    "\n",
    "    return text_field.value\n",
    "\n",
    "submit_output = pn.bind(on_submit, submit_button)\n",
    "\n",
    "layout = pn.Column(\n",
    "    text_field,\n",
    "    submit_button,\n",
    "    submit_output,\n",
    ")\n",
    "layout"
   ]
  },
  {
   "cell_type": "markdown",
   "metadata": {},
   "source": [
    "## Deploying our app\n",
    "\n",
    "-   One way we can share a `panel` application with users is to convert\n",
    "    it to a shareable `.html` file.\n",
    "-   `html` is the language web pages are written in, so any user will be\n",
    "    able to open the file in their web browser.\n",
    "-   Recent developments in web and Python technologies allow us to\n",
    "    create `html` files that can run Python code.\n",
    "\n",
    "### Preparing the app notebook\n",
    "\n",
    "-   Make a new notebook, call it `week7_app.ipynb`\n",
    "-   Add from above:"
   ]
  },
  {
   "cell_type": "code",
   "execution_count": null,
   "metadata": {},
   "outputs": [],
   "source": [
    "import panel as pn\n",
    "\n",
    "pn.extension()\n",
    "\n",
    "...interface...\n",
    "\n",
    "layout.servable()"
   ]
  },
  {
   "cell_type": "markdown",
   "metadata": {},
   "source": [
    "-   Make sure your `layout` ends with `.servable()`\n",
    "    -   This tells panel what components make up the “app”\n",
    "-   Save the file\n",
    "\n",
    "### Converting the app notebook to html\n",
    "\n",
    "From your original notebook (important to avoid including the\n",
    "`!panel convert` line in your app notebook):\n",
    "\n",
    "-   Click on the file browser in the left-hand sidebar, and select the\n",
    "    button to `Mount Drive`\n",
    "-   Add a notebook cell to run:"
   ]
  },
  {
   "cell_type": "code",
   "execution_count": null,
   "metadata": {},
   "outputs": [],
   "source": [
    "!panel convert \"drive/MyDrive/Colab Notebooks/week7_app.ipynb\" --to pyscript --out app_output"
   ]
  },
  {
   "cell_type": "markdown",
   "metadata": {},
   "source": [
    "-   Refresh the file browser\n",
    "-   From the file browser, download `app_output/week7_app.html`\n",
    "-   Open `week7_app.html` in your web browser to use your app!\n",
    "\n",
    "## Going further with user interfaces\n",
    "\n",
    "-   Look at the [`panel`\n",
    "    documentation](https://panel.holoviz.org/index.html)\n",
    "    -   See what input widgets are available (under `Component Gallery`\n",
    "        -\\> `Widgets` in the documentation sidebar)\n",
    "    -   See what rich outputs are available (e.g. Plotly plots, under\n",
    "        `Component Gallery` -\\> `Panes` in the documentation sidebar)\n",
    "-   Other user interface libraries exist for:\n",
    "    -   Notebook and web apps\n",
    "        -   [ipywidgets](https://ipywidgets.readthedocs.io/en/stable/)\n",
    "        -   [Streamlit](https://streamlit.io/)\n",
    "        -   [Plotly Dash](https://dash.plotly.com/)\n",
    "    -   Desktop apps (less popular these days)\n",
    "        -   [Tkinter](https://docs.python.org/3/library/tkinter.html)\n",
    "        -   [PyQt](https://wiki.python.org/moin/PyQt)\n",
    "\n",
    "<!--\n",
    "\n",
    "## Separating Logic from Interface\n",
    "\n",
    "* Now let's make our interface classify the entered text whenever the\n",
    "  submit button is clicked.\n",
    "* Instead of changing our interface to call the classifier, let's make\n",
    "  the user interface accept *any* function that can transform the\n",
    "  entered text into some output.\n",
    "* This will:\n",
    "  * Logically separate our interface code from our \"business logic\".\n",
    "  * Make our form re-usable for different actions.\n",
    "  * Make it easier to test both our interface and classifier.\n",
    "\n",
    "> For those interested, this is an example of the [**dependency\n",
    "> inversion**](https://en.wikipedia.org/wiki/Dependency_inversion_principle)\n",
    "> design principle.\n",
    "\n",
    "```code\n",
    "def user_interface(produce_output):\n",
    "    text_field = widgets.Text()\n",
    "    submit_button = widgets.Button(description='Submit')\n",
    "    output = widgets.Output()\n",
    "\n",
    "    def on_submit(event):\n",
    "        output.clear_output()\n",
    "        with output:\n",
    "            display(produce_output(text_field.value))\n",
    "\n",
    "    submit_button.on_click(on_submit)\n",
    "\n",
    "    return widgets.VBox([\n",
    "        text_field,\n",
    "        submit_button,\n",
    "        output,\n",
    "    ])\n",
    "\n",
    "display(user_interface(produce_output=classify_text))\n",
    "```\n",
    "\n",
    "-->"
   ]
  }
 ],
 "metadata": {
  "kernelspec": {
   "display_name": "Python (Pyodide)",
   "language": "python",
   "name": "python"
  },
  "language_info": {
   "codemirror_mode": {
    "name": "python",
    "version": "3"
   },
   "file_extension": ".py",
   "mimetype": "text/x-python",
   "name": "python",
   "nbconvert_exporter": "python",
   "pygments_lexer": "ipython3",
   "version": "3.8"
  }
 },
 "nbformat": 4,
 "nbformat_minor": 4
}
