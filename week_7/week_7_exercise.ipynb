{
 "cells": [
  {
   "cell_type": "markdown",
   "metadata": {},
   "source": [
    "# PyNoon Week 7 - Exercise\n",
    "\n",
    "## 1. User Interface Practice\n",
    "\n",
    "-   Build your own user interface for some task\n",
    "-   For example:\n",
    "    -   To capture user input for your project\n",
    "    -   To provide a search box or category for filtering the AirBnB\n",
    "        listings data\n",
    "    -   To call some other AI model, such as a text summarisation model:\n",
    "        https://huggingface.co/facebook/bart-large-cnn\n",
    "-   Use the pattern from the tutorial of building the user interface as\n",
    "    a function.\n",
    "    -   Separate out any “business logic” into separate functions that\n",
    "        are passed as arguments to the form.\n",
    "    -   Add comments and a function docstring to make the purpose of\n",
    "        your user interface clear.\n",
    "\n",
    "## 2. Futurecoder\n",
    "\n",
    "Complete the following lesson on\n",
    "[futurecoder.io](https://futurecoder.io):\n",
    "\n",
    "1.  Dictionaries (note: this lesson is at the end of the Futurecoder\n",
    "    course, so you will need to skip ahead using the Table of Contents)\n",
    "\n",
    "> You can check which lesson you are up to on Futurecoder from the\n",
    "> `Table of Contents` link at the top of the Futurecoder webpage."
   ]
  }
 ],
 "metadata": {
  "kernelspec": {
   "display_name": "Python (Pyodide)",
   "language": "python",
   "name": "python"
  },
  "language_info": {
   "codemirror_mode": {
    "name": "python",
    "version": "3"
   },
   "file_extension": ".py",
   "mimetype": "text/x-python",
   "name": "python",
   "nbconvert_exporter": "python",
   "pygments_lexer": "ipython3",
   "version": "3.8"
  }
 },
 "nbformat": 4,
 "nbformat_minor": 4
}
