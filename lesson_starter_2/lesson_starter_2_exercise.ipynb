{
 "cells": [
  {
   "cell_type": "markdown",
   "metadata": {},
   "source": [
    "# PyNoon Starter: Lesson 2 - Exercise\n",
    "\n",
    "## 1. Software Carpentry Exercises\n",
    "\n",
    "(from [Variables and\n",
    "Assignment](https://swcarpentry.github.io/python-novice-gapminder/02-variables.html)\n",
    "and [Data Types and Type\n",
    "Conversion](https://swcarpentry.github.io/python-novice-gapminder/03-types-conversion.html))\n",
    "\n",
    "### 1a. Predicting Values\n",
    "\n",
    "What is the final value of `position` in the program below? (Try to\n",
    "predict the value without running the program, then check your\n",
    "prediction.)"
   ]
  },
  {
   "cell_type": "code",
   "execution_count": null,
   "metadata": {},
   "outputs": [],
   "source": [
    "initial = 'left'\n",
    "position = initial\n",
    "initial = 'right'"
   ]
  },
  {
   "cell_type": "markdown",
   "metadata": {},
   "source": [
    "### 1b. Challenge\n",
    "\n",
    "If you assign `a = 123`, what happens if you try to get the second digit\n",
    "of a via a\\[1\\]?\n",
    "\n",
    "### 1c. Automatic Type Conversion\n",
    "\n",
    "What type of value is `3.25 + 4`?\n",
    "\n",
    "### 1d. Strings to Numbers\n",
    "\n",
    "Where reasonable, float() will convert a string to a floating point\n",
    "number, and int() will convert a floating point number to an integer.\n",
    "Run the following to see:"
   ]
  },
  {
   "cell_type": "code",
   "execution_count": null,
   "metadata": {},
   "outputs": [],
   "source": [
    "print('string to float:', float('3.4'))\n",
    "print('float to int:', int(3.4))"
   ]
  },
  {
   "cell_type": "markdown",
   "metadata": {},
   "source": [
    "If the conversion doesn’t make sense, however, an error message will\n",
    "occur. Try running:"
   ]
  },
  {
   "cell_type": "code",
   "execution_count": null,
   "metadata": {},
   "outputs": [],
   "source": [
    "print('string to float:', float('Hello world!'))"
   ]
  },
  {
   "cell_type": "markdown",
   "metadata": {},
   "source": [
    "Given this information, what do you expect the following program to do?\n",
    "\n",
    "What does it actually do?\n",
    "\n",
    "Why do you think it does that?"
   ]
  },
  {
   "cell_type": "code",
   "execution_count": null,
   "metadata": {},
   "outputs": [],
   "source": [
    "print(\"fractional string to int:\", int('3.4'))"
   ]
  },
  {
   "cell_type": "markdown",
   "metadata": {},
   "source": [
    "### 1e. Arithmetic with Different Types\n",
    "\n",
    "Which of the following will return the floating point number `2.0`?\n",
    "Note: there may be more than one right answer."
   ]
  },
  {
   "cell_type": "code",
   "execution_count": null,
   "metadata": {},
   "outputs": [],
   "source": [
    "first = 1.0\n",
    "second = \"1\"\n",
    "third = \"1.1\""
   ]
  },
  {
   "cell_type": "markdown",
   "metadata": {},
   "source": [
    "1.  `first + float(second)`\n",
    "2.  `float(second) + float(third)`\n",
    "3.  `first + int(third)`\n",
    "4.  `first + int(float(third))`\n",
    "5.  `int(first) + int(float(third))`\n",
    "6.  `2.0 * second`\n",
    "\n",
    "### 1f. Slicing Practice\n",
    "\n",
    "What does the following program print? Try to predict the answer before\n",
    "running the code."
   ]
  },
  {
   "cell_type": "code",
   "execution_count": null,
   "metadata": {},
   "outputs": [],
   "source": [
    "atom_name = 'carbon'\n",
    "print('atom_name[1:3] is:', atom_name[1:3])"
   ]
  },
  {
   "cell_type": "markdown",
   "metadata": {},
   "source": [
    "### 1g. Slicing Concepts\n",
    "\n",
    "Given the following string:"
   ]
  },
  {
   "cell_type": "code",
   "execution_count": null,
   "metadata": {},
   "outputs": [],
   "source": [
    "species_name = 'Acacia buxifolia'"
   ]
  },
  {
   "cell_type": "markdown",
   "metadata": {},
   "source": [
    "What would these expressions return? Try running them, as we didn’t\n",
    "cover all of these variations in the tutorial.\n",
    "\n",
    "-   `species_name[2:8]`\n",
    "-   `species_name[11:]` (without a value after the colon)\n",
    "-   `species_name[:4]` (without a value before the colon)\n",
    "-   `species_name[:]` (just a colon)\n",
    "-   `species_name[11:-3]`\n",
    "-   `species_name[-5:-3]`\n",
    "-   What happens when you choose a stop value which is out of range?\n",
    "    (i.e., try `species_name[0:20]` or `species_name[:103]`)\n",
    "\n",
    "## 2. Write a random password generator\n",
    "\n",
    "Your next assignment is to write a random password generator. The\n",
    "instructions below are to give you a framework for generating a\n",
    "password, but feel free to get more creative!\n",
    "\n",
    "### 2a. Set up a notebook\n",
    "\n",
    "-   Create a new notebook (or a Python script if you prefer)\n",
    "-   Give it a meaningful name\n",
    "-   Add a markdown cell (or comments in a script) to the top explaining\n",
    "    that the purpose of this tool is to generate random passwords.\n",
    "\n",
    "### 2b. Generate random numbers\n",
    "\n",
    "-   Your password should include a random number, which we can do with\n",
    "    Python’s `secrets` module.\n",
    "-   To load the `randbelow` function from the `secrets` module, run this\n",
    "    code once in your notebook or script:"
   ]
  },
  {
   "cell_type": "code",
   "execution_count": null,
   "metadata": {},
   "outputs": [],
   "source": [
    "from secrets import randbelow"
   ]
  },
  {
   "cell_type": "markdown",
   "metadata": {},
   "source": [
    "-   Then, you can call the function as follows to generate a random\n",
    "    integer greater than or equal to `0` and below a specified limit\n",
    "    number (in this case, `10`):"
   ]
  },
  {
   "cell_type": "code",
   "execution_count": null,
   "metadata": {},
   "outputs": [],
   "source": [
    "randbelow(10)"
   ]
  },
  {
   "cell_type": "markdown",
   "metadata": {},
   "source": [
    "-   **Assign one or more random numbers to variables.**\n",
    "\n",
    "### 2c. Add a random symbol\n",
    "\n",
    "-   Your password should include one or more random symbols.\n",
    "-   Declare a variable to store a sequence of possible symbols as\n",
    "    follows:"
   ]
  },
  {
   "cell_type": "code",
   "execution_count": null,
   "metadata": {},
   "outputs": [],
   "source": [
    "symbols = '!@#$%^&*()_+-='"
   ]
  },
  {
   "cell_type": "markdown",
   "metadata": {},
   "source": [
    "-   Use `randbelow()` to generate a random number, then use indexing\n",
    "    with that number to pick a random symbol.\n",
    "-   Hint: Use the `len()` function on `symbols` as the limit number for\n",
    "    your call to `randbelow()`\n",
    "-   **Assign one or more random symbols to variables.**\n",
    "\n",
    "### 2d. Add a random sequence of letters\n",
    "\n",
    "-   Your password should include a random sequence of letters.\n",
    "-   Declare a variable to store a sequence of letters as follows:"
   ]
  },
  {
   "cell_type": "code",
   "execution_count": null,
   "metadata": {},
   "outputs": [],
   "source": [
    "letters = 'abcdefghijklmnopqrstuvwxyz'"
   ]
  },
  {
   "cell_type": "markdown",
   "metadata": {},
   "source": [
    "-   Use `randbelow()` to generate two random numbers, then use slicing\n",
    "    with those numbers to get a random slice from `letters`.\n",
    "-   Challenge: How can you ensure the first index is smaller than the\n",
    "    second? Could you perform some maths with the numbers?\n",
    "-   **Assign one or more random string sequences to variables.**\n",
    "\n",
    "### 2e. Combine the parts of your password\n",
    "\n",
    "-   Combine the random strings and numbers into a password, and store\n",
    "    the result in a final variable called `password`\n",
    "-   To join strings and numbers together, you will first need to convert\n",
    "    the numbers to strings with: `str(my_number_variable)`\n",
    "-   **Print the password to the screen for the user to save**\n",
    "\n",
    "## 3. Futurecoder\n",
    "\n",
    "Complete the following lesson on\n",
    "[futurecoder.io](https://futurecoder.io):\n",
    "\n",
    "1.  For Loops\n",
    "\n",
    "> You can check which lesson you are up to on Futurecoder from the\n",
    "> `Table of Contents` link at the top of the Futurecoder webpage."
   ]
  }
 ],
 "metadata": {
  "kernelspec": {
   "display_name": "Python (Pyodide)",
   "language": "python",
   "name": "python"
  },
  "language_info": {
   "codemirror_mode": {
    "name": "python",
    "version": "3"
   },
   "file_extension": ".py",
   "mimetype": "text/x-python",
   "name": "python",
   "nbconvert_exporter": "python",
   "pygments_lexer": "ipython3",
   "version": "3.8"
  }
 },
 "nbformat": 4,
 "nbformat_minor": 4
}
