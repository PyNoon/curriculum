{
 "cells": [
  {
   "cell_type": "markdown",
   "metadata": {},
   "source": [
    "This week’s tutorial will cover retrieving data from web APIs, loading\n",
    "data from text files, and constructing DataFrames.\n",
    "\n",
    "## Setup\n",
    "\n",
    "1.  Make a new notebook for this week\n",
    "2.  What’s the first thing to do? RENAME IT!\n",
    "3.  Name it `week8.ipynb`\n",
    "\n",
    "## Making web Requests\n",
    "\n",
    "Let’s import the `requests` library, which provides a simple set of\n",
    "functions for making web requests.\n",
    "\n",
    "> Normally we’d have to install `requests` using `pip`, but Colab\n",
    "> already has it installed."
   ]
  },
  {
   "cell_type": "code",
   "execution_count": null,
   "metadata": {},
   "outputs": [],
   "source": [
    "import requests"
   ]
  },
  {
   "cell_type": "markdown",
   "metadata": {},
   "source": [
    "-   Let’s use a geocoding web API to get standard address fields for a\n",
    "    given address query.\n",
    "-   We use `requests.get()` to make an HTTP `GET` request, which is the\n",
    "    standard method for requests to retrieve data.\n",
    "    -   Other methods include `POST` and `PUT`, which are commonly used\n",
    "        for submitting new data or data updates to an API.\n",
    "-   The URL to use and expected parameters for the API are documented\n",
    "    at:\n",
    "    [nominatim.org/release-docs/develop/api/Overview](https://nominatim.org/release-docs/develop/api/Overview/)"
   ]
  },
  {
   "cell_type": "code",
   "execution_count": null,
   "metadata": {},
   "outputs": [],
   "source": [
    "r = requests.get(\n",
    "    'https://nominatim.openstreetmap.org/search,\n",
    "    params={\n",
    "        'q': '221B Baker Street, London',\n",
    "        'format': 'jsonv2',\n",
    "        'addressdetails': 1,\n",
    "    },\n",
    ")"
   ]
  },
  {
   "cell_type": "markdown",
   "metadata": {},
   "source": [
    "We can check the status of the response (`200` means the request was\n",
    "successful):"
   ]
  },
  {
   "cell_type": "code",
   "execution_count": null,
   "metadata": {},
   "outputs": [],
   "source": [
    "r.status_code"
   ]
  },
  {
   "cell_type": "markdown",
   "metadata": {},
   "source": [
    "We can look at the text returned by the API:"
   ]
  },
  {
   "cell_type": "code",
   "execution_count": null,
   "metadata": {},
   "outputs": [],
   "source": [
    "r.text"
   ]
  },
  {
   "cell_type": "markdown",
   "metadata": {},
   "source": [
    "-   The response text is formatted as JSON, a common data format used by\n",
    "    APIs.\n",
    "-   `requests` can convert the JSON data to a structure of Python\n",
    "    strings, numbers, lists and dictionaries:"
   ]
  },
  {
   "cell_type": "code",
   "execution_count": null,
   "metadata": {},
   "outputs": [],
   "source": [
    "r.json()"
   ]
  },
  {
   "cell_type": "markdown",
   "metadata": {},
   "source": [
    "### Handling Errors\n",
    "\n",
    "What happens if we change our request to specify an invalid format?"
   ]
  },
  {
   "cell_type": "code",
   "execution_count": null,
   "metadata": {},
   "outputs": [],
   "source": [
    "r = requests.get(\n",
    "    'https://nominatim.openstreetmap.org/search,\n",
    "    params={\n",
    "        'q': '221B Baker Street, London',\n",
    "        'format': 'oops',\n",
    "        'addressdetails': 1,\n",
    "    },\n",
    ")"
   ]
  },
  {
   "cell_type": "markdown",
   "metadata": {},
   "source": [
    "The text is not the JSON we expect:"
   ]
  },
  {
   "cell_type": "code",
   "execution_count": null,
   "metadata": {},
   "outputs": [],
   "source": [
    "r.text"
   ]
  },
  {
   "cell_type": "markdown",
   "metadata": {},
   "source": [
    "And the status code of `400` indicates a failure - specifically a “Bad\n",
    "Request”:"
   ]
  },
  {
   "cell_type": "code",
   "execution_count": null,
   "metadata": {},
   "outputs": [],
   "source": [
    "r.status_code"
   ]
  },
  {
   "cell_type": "markdown",
   "metadata": {},
   "source": [
    "We can tell requests to raise an **exception** if the response has any\n",
    "non-successful status code:"
   ]
  },
  {
   "cell_type": "code",
   "execution_count": null,
   "metadata": {},
   "outputs": [],
   "source": [
    "r.raise_for_status()"
   ]
  },
  {
   "cell_type": "markdown",
   "metadata": {},
   "source": [
    "-   If we want our program to continue even when an exception is raised,\n",
    "    we can use a **try/except** statement to execute some code in the\n",
    "    case of an exception.\n",
    "-   If any line of code in the `try` clause raises an exception, Python\n",
    "    will stop executing the `try` block and execute the `except` block\n",
    "    instead.\n",
    "-   The `as ex` saves the exception itself in a variable called `ex` so\n",
    "    that we can get more details from it.\n",
    "    -   We can use any variable name we want, but `ex` is conventional."
   ]
  },
  {
   "cell_type": "code",
   "execution_count": null,
   "metadata": {},
   "outputs": [],
   "source": [
    "try:\n",
    "    r.raise_for_status()\n",
    "except requests.HTTPError as ex:\n",
    "    print(f'Failed request: {ex}')"
   ]
  },
  {
   "cell_type": "markdown",
   "metadata": {},
   "source": [
    "-   We only want to catch exceptions we expect might happen:\n",
    "    -   Wrap as few lines of code as possible.\n",
    "    -   Only catch the types of exception we are expecting.\n",
    "\n",
    "## Defining a request function\n",
    "\n",
    "-   Taking what we’ve learned, let’s define a function to provide a\n",
    "    simple interface for getting the details of an address.\n",
    "-   Note that:\n",
    "    -   We add a `sleep` for 1 second, as the API we are using has a\n",
    "        rate limit of 1 request per second.\n",
    "        -   We might get an error or be blocked if we make requests\n",
    "            faster than that.\n",
    "    -   In the case of an error, we return the special value `None`."
   ]
  },
  {
   "cell_type": "code",
   "execution_count": null,
   "metadata": {},
   "outputs": [],
   "source": [
    "from time import sleep\n",
    "\n",
    "def get_address_details(address):\n",
    "    \"\"\"Given a loosely-formatted address string,\n",
    "    return a dictionary of standard address details.\n",
    "\n",
    "    If the request fails, None is returned.\"\"\"\n",
    "    r = requests.get(\n",
    "        'https://nominatim.openstreetmap.org/search,\n",
    "        params={\n",
    "            'q': address,\n",
    "            'format': 'jsonv2',\n",
    "            'addressdetails': 1,\n",
    "        },\n",
    "    )\n",
    "    # Avoid hitting the API rate limit\n",
    "    sleep(1)\n",
    "\n",
    "    try:\n",
    "        r.raise_for_status()\n",
    "    except requests.HTTPError as ex:\n",
    "        print(f'Failed request: {ex}')\n",
    "        return None\n",
    "\n",
    "    data = r.json()\n",
    "    return data['address']\n",
    "\n",
    "get_address_details('221B Baker Street, London')"
   ]
  },
  {
   "cell_type": "markdown",
   "metadata": {},
   "source": [
    "## Converting a file of addresses to a DataFrame of address details\n",
    "\n",
    "-   Now let’s process a text file of addresses to produce a DataFrame of\n",
    "    address details\n",
    "\n",
    "-   Download `addresses.txt` from:\n",
    "    [pynoon.github.io/curriculum/week_8/addresses.txt](https://pynoon.github.io/curriculum/week_8/addresses.txt)\n",
    "\n",
    "-   Click the folder icon on the left side of the Colab interface, then\n",
    "    use the upload button to upload `addresses.txt`\n",
    "\n",
    "-   Now, we can use `open()` to load\n",
    "\n",
    "-   `open()` should be used with a `with` statement so that the file is\n",
    "    automatically closed when we’re finished with it:"
   ]
  },
  {
   "cell_type": "code",
   "execution_count": null,
   "metadata": {},
   "outputs": [],
   "source": [
    "with open('addresses.txt') as addresses_file:\n",
    "    addresses = addresses_file.readlines()"
   ]
  },
  {
   "cell_type": "markdown",
   "metadata": {},
   "source": [
    "`.readlines()` has provided us with a list of strings representing each\n",
    "line in the file:"
   ]
  },
  {
   "cell_type": "code",
   "execution_count": null,
   "metadata": {},
   "outputs": [],
   "source": [
    "addresses"
   ]
  },
  {
   "cell_type": "markdown",
   "metadata": {},
   "source": [
    "We can use a list comprehension to apply our function to each address,\n",
    "producing a list of corresponding address details:"
   ]
  },
  {
   "cell_type": "code",
   "execution_count": null,
   "metadata": {},
   "outputs": [],
   "source": [
    "address_details = [get_address_details(address) for address in addresses]"
   ]
  },
  {
   "cell_type": "markdown",
   "metadata": {},
   "source": [
    "Because of our exception handling in `get_address_details`, we should\n",
    "remove any `None` values from the list of details:"
   ]
  },
  {
   "cell_type": "code",
   "execution_count": null,
   "metadata": {},
   "outputs": [],
   "source": [
    "address_details = [\n",
    "    address_detail for address_detail in address_details\n",
    "    if address_detail is not None\n",
    "]\n",
    "address_details"
   ]
  },
  {
   "cell_type": "markdown",
   "metadata": {},
   "source": [
    "-   `pd.DataFrame` can be used to construct a DataFrame from a list of\n",
    "    dictionaries like `address_details`.\n",
    "-   Where each dictionary represents the values for each column in a\n",
    "    given row."
   ]
  },
  {
   "cell_type": "code",
   "execution_count": null,
   "metadata": {},
   "outputs": [],
   "source": [
    "import pandas as pd\n",
    "\n",
    "address_df = pd.DataFrame(address_details)\n",
    "address_df"
   ]
  },
  {
   "cell_type": "markdown",
   "metadata": {},
   "source": [
    "## Reflection\n",
    "\n",
    "-   In this tutorial, we:\n",
    "    -   Took a list of addresses in a simple text file.\n",
    "    -   Retrieved more details for each address from an API.\n",
    "    -   And reformatted those details into a DataFrame, which we could\n",
    "        export to a CSV file, or even an SQL database.\n",
    "-   This kind of data transformation is a common task that Python is\n",
    "    very helpful for."
   ]
  }
 ],
 "metadata": {
  "kernelspec": {
   "display_name": "Python (Pyodide)",
   "language": "python",
   "name": "python"
  },
  "language_info": {
   "codemirror_mode": {
    "name": "python",
    "version": "3"
   },
   "file_extension": ".py",
   "mimetype": "text/x-python",
   "name": "python",
   "nbconvert_exporter": "python",
   "pygments_lexer": "ipython3",
   "version": "3.8"
  }
 },
 "nbformat": 4,
 "nbformat_minor": 4
}
