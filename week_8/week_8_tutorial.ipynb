{
 "cells": [
  {
   "cell_type": "markdown",
   "metadata": {},
   "source": [
    "This week’s tutorial will cover retrieving data from web APIs, loading\n",
    "data from text files, and constructing DataFrames.\n",
    "\n",
    "## Setup\n",
    "\n",
    "1.  Make a new notebook for this week\n",
    "2.  What’s the first thing to do? RENAME IT!\n",
    "3.  Name it `week8.ipynb`\n",
    "\n",
    "## Making web Requests\n",
    "\n",
    "Let’s import the `requests` library, which provides a simple set of\n",
    "functions for making web requests.\n",
    "\n",
    "> Normally we’d have to install `requests` using `pip`, but Colab\n",
    "> already has it installed."
   ]
  },
  {
   "cell_type": "code",
   "execution_count": null,
   "metadata": {},
   "outputs": [],
   "source": [
    "import requests"
   ]
  },
  {
   "cell_type": "markdown",
   "metadata": {},
   "source": [
    "-   Let’s use a *geocoding* web API:\n",
    "    -   Given an address string, it will return structured address\n",
    "        fields\n",
    "-   We use `requests.get()` to make an HTTP `GET` request, which is the\n",
    "    standard method for requests to retrieve data.\n",
    "    -   Other methods include `POST` and `PUT`, which are commonly used\n",
    "        for submitting new data or data updates to an API.\n",
    "-   The URL to use and expected parameters for the API are documented\n",
    "    at:\n",
    "    [nominatim.org/release-docs/develop/api/Overview](https://nominatim.org/release-docs/develop/api/Overview/)"
   ]
  },
  {
   "cell_type": "code",
   "execution_count": null,
   "metadata": {},
   "outputs": [],
   "source": [
    "r = requests.get(\n",
    "    'https://nominatim.openstreetmap.org/search',\n",
    "    params={\n",
    "        'q': '221B Baker Street, London',\n",
    "        'format': 'jsonv2',\n",
    "        'addressdetails': 1,\n",
    "    },\n",
    ")"
   ]
  },
  {
   "cell_type": "markdown",
   "metadata": {},
   "source": [
    "Let’s look at the response:"
   ]
  },
  {
   "cell_type": "code",
   "execution_count": null,
   "metadata": {},
   "outputs": [],
   "source": [
    "r"
   ]
  },
  {
   "cell_type": "markdown",
   "metadata": {},
   "source": [
    "We can check the status of the response (`200` means the request was\n",
    "successful):"
   ]
  },
  {
   "cell_type": "code",
   "execution_count": null,
   "metadata": {},
   "outputs": [],
   "source": [
    "r.status_code"
   ]
  },
  {
   "cell_type": "markdown",
   "metadata": {},
   "source": [
    "We can look at the data returned by the API:"
   ]
  },
  {
   "cell_type": "code",
   "execution_count": null,
   "metadata": {},
   "outputs": [],
   "source": [
    "r.text"
   ]
  },
  {
   "cell_type": "markdown",
   "metadata": {},
   "source": [
    "-   The response text is formatted as JSON, a common data format used by\n",
    "    APIs.\n",
    "-   `requests` can convert the JSON data to a structure of Python\n",
    "    strings, numbers, lists and dictionaries:"
   ]
  },
  {
   "cell_type": "code",
   "execution_count": null,
   "metadata": {},
   "outputs": [],
   "source": [
    "data = r.json()"
   ]
  },
  {
   "cell_type": "code",
   "execution_count": null,
   "metadata": {},
   "outputs": [],
   "source": [
    "data"
   ]
  },
  {
   "cell_type": "markdown",
   "metadata": {},
   "source": [
    "-   We can check that the data is indeed made up of native Python data\n",
    "    structures like lists, dictionaries, numbers, and strings:"
   ]
  },
  {
   "cell_type": "code",
   "execution_count": null,
   "metadata": {},
   "outputs": [],
   "source": [
    "type(data)"
   ]
  },
  {
   "cell_type": "markdown",
   "metadata": {},
   "source": [
    "-   And we can access particular parts of the data using list and\n",
    "    dictionary indexing:"
   ]
  },
  {
   "cell_type": "code",
   "execution_count": null,
   "metadata": {},
   "outputs": [],
   "source": [
    "data[0]['address']"
   ]
  },
  {
   "cell_type": "markdown",
   "metadata": {},
   "source": [
    "### Handling Errors\n",
    "\n",
    "What happens if we change our request to specify an invalid format?"
   ]
  },
  {
   "cell_type": "code",
   "execution_count": null,
   "metadata": {},
   "outputs": [],
   "source": [
    "r = requests.get(\n",
    "    'https://nominatim.openstreetmap.org/search',\n",
    "    params={\n",
    "        'q': '221B Baker Street, London',\n",
    "        'format': 'oops',\n",
    "        'addressdetails': 1,\n",
    "    },\n",
    ")"
   ]
  },
  {
   "cell_type": "markdown",
   "metadata": {},
   "source": [
    "The text is not the JSON we expect:"
   ]
  },
  {
   "cell_type": "code",
   "execution_count": null,
   "metadata": {},
   "outputs": [],
   "source": [
    "r.text"
   ]
  },
  {
   "cell_type": "markdown",
   "metadata": {},
   "source": [
    "And the status code of `400` indicates a failure - specifically a “Bad\n",
    "Request”:"
   ]
  },
  {
   "cell_type": "code",
   "execution_count": null,
   "metadata": {},
   "outputs": [],
   "source": [
    "r.status_code"
   ]
  },
  {
   "cell_type": "markdown",
   "metadata": {},
   "source": [
    "We can tell requests to raise an **exception** if the response has any\n",
    "non-successful status code:"
   ]
  },
  {
   "cell_type": "code",
   "execution_count": null,
   "metadata": {},
   "outputs": [],
   "source": [
    "r.raise_for_status()"
   ]
  },
  {
   "cell_type": "markdown",
   "metadata": {},
   "source": [
    "-   `r.raise_for_status()` **only** raises an exception when the status\n",
    "    code indicates a failure - if the request succeeds, it effectively\n",
    "    does nothing.\n",
    "-   If we want our program to continue even when an exception is raised,\n",
    "    we can use a **try/except** statement to execute some code in the\n",
    "    case of an exception.\n",
    "-   If any line of code in the `try` clause raises an exception, Python\n",
    "    will stop executing the `try` block and execute the `except` block\n",
    "    instead.\n",
    "-   The `as ex` saves the exception itself in a variable called `ex` so\n",
    "    that we can get more details from it.\n",
    "    -   We can use any variable name we want, but `ex` is conventional."
   ]
  },
  {
   "cell_type": "code",
   "execution_count": null,
   "metadata": {},
   "outputs": [],
   "source": [
    "try:\n",
    "    r.raise_for_status()\n",
    "    print('Request succeeded!')\n",
    "except requests.HTTPError as ex:\n",
    "    print(f'Failed request: {ex}')"
   ]
  },
  {
   "cell_type": "markdown",
   "metadata": {},
   "source": [
    "-   We only want to catch exceptions we expect might happen:\n",
    "    -   Wrap as few lines of code as possible.\n",
    "    -   Only catch the types of exception we are expecting.\n",
    "\n",
    "## Defining a request function\n",
    "\n",
    "-   Taking what we’ve learned, let’s define a function to provide a\n",
    "    simple interface for getting the details of an address.\n",
    "-   Note that:\n",
    "    -   We add a `sleep` for 1 second, as the API we are using has a\n",
    "        rate limit of 1 request per second.\n",
    "        -   We might get an error or be blocked if we make requests\n",
    "            faster than that.\n",
    "    -   In the case of an error, we return the special value `None`."
   ]
  },
  {
   "cell_type": "code",
   "execution_count": null,
   "metadata": {},
   "outputs": [],
   "source": [
    "from time import sleep\n",
    "\n",
    "def get_address_details(address):\n",
    "    \"\"\"\n",
    "    Given a loosely-formatted address string, return a dictionary of standard address details.\n",
    "\n",
    "    If the request fails or no matching addresses are found, return None.\n",
    "    \"\"\"\n",
    "    r = requests.get(\n",
    "        'https://nominatim.openstreetmap.org/search',\n",
    "        params={\n",
    "            'q': address,\n",
    "            'format': 'jsonv2',\n",
    "            'addressdetails': 1,\n",
    "        },\n",
    "    )\n",
    "    # Avoid hitting the API rate limit\n",
    "    sleep(1)\n",
    "\n",
    "    try:\n",
    "        r.raise_for_status()\n",
    "    except requests.HTTPError as ex:\n",
    "        print(f'Failed request: {ex}')\n",
    "        return None\n",
    "\n",
    "    data = r.json()\n",
    "    # Check for at least one matching address.\n",
    "    if len(data) == 0:\n",
    "        return None\n",
    "    return data[0]['address']\n",
    "\n",
    "get_address_details('221B Baker Street, London')"
   ]
  }
 ],
 "metadata": {
  "kernelspec": {
   "display_name": "Python (Pyodide)",
   "language": "python",
   "name": "python"
  },
  "language_info": {
   "codemirror_mode": {
    "name": "python",
    "version": "3"
   },
   "file_extension": ".py",
   "mimetype": "text/x-python",
   "name": "python",
   "nbconvert_exporter": "python",
   "pygments_lexer": "ipython3",
   "version": "3.8"
  }
 },
 "nbformat": 4,
 "nbformat_minor": 4
}
