{
 "cells": [
  {
   "cell_type": "markdown",
   "metadata": {},
   "source": [
    "# PyNoon Week 8 - Exercise\n",
    "\n",
    "## 1. API Exercises\n",
    "\n",
    "### 1a. Get address latitude and longitude\n",
    "\n",
    "The geocoding API used in the tutorial also returns the latitude and\n",
    "longitude for an address:\n",
    "[nominatim.org/release-docs/develop/api/Search/#json-with-address-details](https://nominatim.org/release-docs/develop/api/Search/#json-with-address-details)\n",
    "\n",
    "Extend the code from the tutorial to add the latitude and longitude to\n",
    "the dictionary returned by `get_address_details`.\n",
    "\n",
    "### 1b. Reverse geo-coding\n",
    "\n",
    "There is a reverse geo-coding API that can be used to look up the\n",
    "address for a given latitude and longitude:\n",
    "[nominatim.org/release-docs/develop/api/Reverse](https://nominatim.org/release-docs/develop/api/Reverse/)\n",
    "\n",
    "The AirBnB listings DataFrame you have used in previous weeks provides\n",
    "the latitude and longitude for each listing.\n",
    "\n",
    "Your task is to use the reverse geo-coding API to fetch address data for\n",
    "a small number of listings.\n",
    "\n",
    "-   To avoid hitting rate limits, work with a small sample of listings,\n",
    "    e.g.: `listings_df = listings_df.sample(n=5)`\n",
    "-   Hint: Use the `.apply()` DataFrame method you used in week 6.\n",
    "\n",
    "### 1c. Try another API\n",
    "\n",
    "Have a go using a completely different API, such as:\n",
    "\n",
    "-   A weather API: https://open-meteo.com/\n",
    "-   The Google Books API: https://developers.google.com/books\n",
    "-   Auckland Transport’s API: https://dev-portal.at.govt.nz/\n",
    "\n",
    "> Note: Some APIs may require you to register for an API key that must\n",
    "> be provided with each request.\n",
    "\n",
    "## 2. Futurecoder\n",
    "\n",
    "Complete the following lesson on\n",
    "[futurecoder.io](https://futurecoder.io):\n",
    "\n",
    "1.  Boolean Operators\n",
    "\n",
    "> You can check which lesson you are up to on Futurecoder from the\n",
    "> `Table of Contents` link at the top of the Futurecoder webpage."
   ]
  }
 ],
 "metadata": {
  "kernelspec": {
   "display_name": "Python (Pyodide)",
   "language": "python",
   "name": "python"
  },
  "language_info": {
   "codemirror_mode": {
    "name": "python",
    "version": "3"
   },
   "file_extension": ".py",
   "mimetype": "text/x-python",
   "name": "python",
   "nbconvert_exporter": "python",
   "pygments_lexer": "ipython3",
   "version": "3.8"
  }
 },
 "nbformat": 4,
 "nbformat_minor": 4
}
