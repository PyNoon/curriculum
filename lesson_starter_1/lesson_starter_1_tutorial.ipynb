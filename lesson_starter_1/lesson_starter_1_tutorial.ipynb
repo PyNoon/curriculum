{
 "cells": [
  {
   "cell_type": "markdown",
   "metadata": {},
   "source": [
    "# Intro to Python Coding\n",
    "\n",
    "The following tutorial is an introduction to writing and running Python\n",
    "code in the [futurecoder.io](https://futurecoder.io/) and [Google\n",
    "Colab/Jupyter](https://colab.google) environments, loosely based on\n",
    "[swcarpentry.github.io/python-novice-gapminder/01-run-quit.html](https://swcarpentry.github.io/python-novice-gapminder/01-run-quit.html),\n",
    "(but more streamlined - not covering topics like shortcut keys).\n",
    "\n",
    "In this tutorial, we will look at three ways of running Python code\n",
    "inside JupyterLite:\n",
    "\n",
    "-   The Python console\n",
    "-   Python scripts\n",
    "-   Python notebooks\n",
    "\n",
    "## The Python Console\n",
    "\n",
    "-   The Python console is great for running short snippets of Python\n",
    "    code\n",
    "-   Use it to experiment and play with Python to learn more about how it\n",
    "    works\n",
    "-   It’s also useful as a general purpose calculator\n",
    "\n",
    "**Open a Python Console in Futurecoder**:\n",
    "\n",
    "-   Visit [futurecoder.io](https://futurecoder.io/)\n",
    "-   Click the link that says “Just code”\n",
    "-   You will see the Console on the right-side of the screen, indicated\n",
    "    by the `>>>` (three angle brackets) called the *prompt*.\n",
    "-   Click anywhere in the Console to be able to type into it.\n",
    "\n",
    "Enter the following code, then press the `enter` key to run it:"
   ]
  },
  {
   "cell_type": "code",
   "execution_count": null,
   "metadata": {},
   "outputs": [],
   "source": [
    "print('Hello world')"
   ]
  },
  {
   "cell_type": "markdown",
   "metadata": {},
   "source": [
    "Congratulations! You’ve just run your first Python program!\n",
    "\n",
    "> Note: Casing is important in Python, so make sure you write `print` in\n",
    "> lower-case.\n",
    "\n",
    "We can also use Python to perform maths; try running the following:"
   ]
  },
  {
   "cell_type": "code",
   "execution_count": null,
   "metadata": {},
   "outputs": [],
   "source": [
    "1 + 1"
   ]
  },
  {
   "cell_type": "code",
   "execution_count": null,
   "metadata": {},
   "outputs": [],
   "source": [
    "5 - 3"
   ]
  },
  {
   "cell_type": "markdown",
   "metadata": {},
   "source": [
    "> Note: The spaces around mathematical operators are optional, but they\n",
    "> are important to make the code more readable!\n",
    "\n",
    "**It is important to remember that any work you do in the console is\n",
    "lost when you close the console (or refresh the futurecoder webpage).**\n",
    "\n",
    "> Tip: You can press the “up arrow” key in the Console to bring up lines\n",
    "> you’ve previously run (saving you from typing them again).\n",
    "\n",
    "## Python scripts\n",
    "\n",
    "Python scripts are ideal for creating re-usable programs.\n",
    "\n",
    "-   You can write a Python script in the left-hand side of the screen of\n",
    "    the futurecoder interface.\n",
    "-   Click on the left-hand side of the screen to be able to type your\n",
    "    script into it.\n",
    "-   Write the following code in your script:"
   ]
  },
  {
   "cell_type": "code",
   "execution_count": null,
   "metadata": {},
   "outputs": [],
   "source": [
    "print('Hello world')"
   ]
  },
  {
   "cell_type": "markdown",
   "metadata": {},
   "source": [
    "-   Press the `Run` button to run your script\n",
    "-   You should see `Hello world` printed again in the console.\n",
    "-   Now try adding a new line to your script with the following code:"
   ]
  },
  {
   "cell_type": "code",
   "execution_count": null,
   "metadata": {},
   "outputs": [],
   "source": [
    "1 + 1"
   ]
  },
  {
   "cell_type": "markdown",
   "metadata": {},
   "source": [
    "-   Now run it again.\n",
    "-   When you run your script, you won’t see the result of `1 + 1`.\n",
    "-   This is because **Python scripts only output what we explicitly tell\n",
    "    Python to print!**\n",
    "-   To print the result of `1 + 1`, change the line in your script to\n",
    "    be:"
   ]
  },
  {
   "cell_type": "code",
   "execution_count": null,
   "metadata": {},
   "outputs": [],
   "source": [
    "print(1 + 1)"
   ]
  },
  {
   "cell_type": "markdown",
   "metadata": {},
   "source": [
    "-   Run the script again and you should see the following output:\n",
    "\n",
    "<!-- -->\n",
    "\n",
    "    Hello world\n",
    "    2\n",
    "\n",
    "-   If you refresh or close and re-open futurecoder, the last script you\n",
    "    wrote will be saved.\n",
    "-   To save your scripts for future use, copy and save them save them\n",
    "    somewhere else.\n",
    "\n",
    "> Running python scripts locally: You can use a *plain text editor*\n",
    "> (e.g. Notepad, Notepad++, Visual Studio Code) to create a Python\n",
    "> script file that ends in a `.py` extension. If you have Python\n",
    "> installed on your computer, you can run your script from the\n",
    "> Terminal/Command Prompt with `python my_script.py` (assuming you have\n",
    "> used `cd` commands to move your terminal session into the same folder\n",
    "> as `my_script.py`). It is is important to remember to save changes to\n",
    "> your script files before you re-run them!\n",
    "\n",
    "## Python Notebooks\n",
    "\n",
    "-   You may have heard of Jupyter notebooks, as they are a very popular\n",
    "    platform for Python coding, particularly for data analysis and\n",
    "    visualisation.\n",
    "-   We will create Jupyter notebooks in Google Colab, which is a service\n",
    "    that will allow us to run Jupyter notebooks without installing\n",
    "    Python or Jupyter on your own computer.\n",
    "-   Note: Because your notebooks will run on Google’s servers, you\n",
    "    shouldn’t upload any company data or code you are not authorised to\n",
    "    use outside of company-approved systems.\n",
    "-   Jupyter notebooks can also be run on your own desktop or server with\n",
    "    a piece of software called JupyterLab - a popular format for writing\n",
    "    Python code that we will be using in this course.\n",
    "-   Python notebooks are:\n",
    "    -   Interactive like the Console\n",
    "    -   Re-usable like scripts\n",
    "    -   Support rich formatting of notes and outputs\n",
    "\n",
    "**To create a new notebook in Google Colab:**\n",
    "\n",
    "-   Open [colab.google](https://colab.google) in your web browser\n",
    "-   Click the `New Notebook` link\n",
    "-   Click on the title at the top of the page, and rename it\n",
    "    `pynoon_starter_1.ipynb` - helpful names are important!\n",
    "\n",
    "In the “cell” prompt at the at the top of your notebook, enter the\n",
    "following code, and run it with `shift + enter` (like at the Console):"
   ]
  },
  {
   "cell_type": "code",
   "execution_count": null,
   "metadata": {},
   "outputs": [],
   "source": [
    "print('Hello world')"
   ]
  },
  {
   "cell_type": "markdown",
   "metadata": {},
   "source": [
    "The result is printed and a new “cell” appears below.\n",
    "\n",
    "Run this code in the new cell:"
   ]
  },
  {
   "cell_type": "code",
   "execution_count": null,
   "metadata": {},
   "outputs": [],
   "source": [
    "1.5 + 10"
   ]
  },
  {
   "cell_type": "markdown",
   "metadata": {},
   "source": [
    "Each time you press `shift+enter`, a new cell is created\n",
    "\n",
    "**You can edit and re-run cells;** update your previous cell to have the\n",
    "following content, then re-run it:"
   ]
  },
  {
   "cell_type": "code",
   "execution_count": null,
   "metadata": {},
   "outputs": [],
   "source": [
    "(1.5 * 10) / (5 - 2)"
   ]
  },
  {
   "cell_type": "markdown",
   "metadata": {},
   "source": [
    "> Note that we can use `*` for multiplication, `/` for\n",
    "> division`, and group operations with parentheses`()\\`.\n",
    "\n",
    "**You can add non-code cells for formatted notes:**\n",
    "\n",
    "-   Click the `+ Text` button at the top of the notebook\n",
    "-   Add the following content:\n",
    "\n",
    "<!-- -->\n",
    "\n",
    "    My First Notebook\n",
    "\n",
    "-   Press `shift+enter`, and see the text displayed.\n",
    "\n",
    "**You can add formatting in Markdown cells:**\n",
    "\n",
    "-   Double-click `My First Notebook` to edit the cell\n",
    "-   Add a `#` at the beginning of the line:\n",
    "\n",
    "<!-- -->\n",
    "\n",
    "    # My First Notebook\n",
    "\n",
    "-   Press shift-enter and see it formatted as a heading\n",
    "\n",
    "**Markdown code is similar to shortcuts supported by software like Slack\n",
    "and Teams**\n",
    "\n",
    "For example, add a bullet list with:\n",
    "\n",
    "    * item 1\n",
    "    * item 2\n",
    "    * item 3\n",
    "\n",
    "-   To see what else is possible with Markdown, see:\n",
    "    [www.markdownguide.org/](https://www.markdownguide.org/)\n",
    "\n",
    "**You can re-order notebook cells**\n",
    "\n",
    "-   Click on a cell you want to move up or down in the notebook\n",
    "-   Click on the up/down arrows that appear in the top-right of the\n",
    "    cell.\n",
    "\n",
    "**Notebooks also support rich output from Python code**\n",
    "\n",
    "-   Run a cell with the following code (you don’t need to understand the\n",
    "    code yet):"
   ]
  },
  {
   "cell_type": "code",
   "execution_count": null,
   "metadata": {},
   "outputs": [],
   "source": [
    "%pip install plotly nbformat pandas\n",
    "import plotly.express as px\n",
    "px.bar(x=['a', 'b', 'c'], y=[1, 2, 3])"
   ]
  },
  {
   "cell_type": "markdown",
   "metadata": {},
   "source": [
    "**You should see an interactive plot**\n",
    "\n",
    "-   Click and drag to zoom to a selection\n",
    "-   Double click to reset zoom\n",
    "-   Find the camera button in the plot header to download the plot as an\n",
    "    image\n",
    "\n",
    "Try changing `y=[1, 2, 3]` in your cell to use different numbers, then\n",
    "re-execute the cell.\n",
    "\n",
    "-   Notebooks are really good for presenting the results of your code -\n",
    "    they are very popular in data science and just for data exploration\n",
    "-   We’ll primarily use notebooks in this course so that you can save\n",
    "    the commands you run and add notes\n",
    "\n",
    "> Note: Your notebooks will all be saved to your Google Drive account,\n",
    "> you can find previous notebooks from the `File -> Open notebook` menu."
   ]
  }
 ],
 "metadata": {
  "kernelspec": {
   "display_name": "Python (Pyodide)",
   "language": "python",
   "name": "python3"
  },
  "language_info": {
   "codemirror_mode": {
    "name": "python",
    "version": "3"
   },
   "file_extension": ".py",
   "mimetype": "text/x-python",
   "name": "python",
   "nbconvert_exporter": "python",
   "pygments_lexer": "ipython3",
   "version": "3.8"
  }
 },
 "nbformat": 4,
 "nbformat_minor": 4
}
