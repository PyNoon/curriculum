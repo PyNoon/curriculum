{
 "cells": [
  {
   "cell_type": "markdown",
   "metadata": {},
   "source": [
    "# PyNoon Plus: Lesson 3 - Exercise\n",
    "\n",
    "## 1. User Interface Practice\n",
    "\n",
    "-   Build your own user interface for some task\n",
    "-   For example:\n",
    "    -   To capture user input for your project\n",
    "    -   To provide a search box or category for filtering the AirBnB\n",
    "        listings data\n",
    "    -   To call some other AI model, such as a text summarisation model:\n",
    "        https://huggingface.co/facebook/bart-large-cnn\n",
    "-   Use the pattern from the tutorial of building the user interface as\n",
    "    a function.\n",
    "    -   Separate out any “business logic” into separate functions that\n",
    "        are passed as arguments to the form.\n",
    "    -   Add comments and a function docstring to make the purpose of\n",
    "        your user interface clear.\n",
    "\n",
    "### Pandas + Plotly + Example\n",
    "\n",
    "To help you get started, look at the following example that allows the\n",
    "user to upload a CSV, and then uses Pandas and Plotly to create a plot\n",
    "from its contents.\n",
    "\n",
    "> Note: The file-upload widget won’t work correctly within Colab or\n",
    "> Jupyterlite, but it will work correctly from the exported html app.\n",
    "> You may find it useful to prototype your app in Colab using a file\n",
    "> loaded from the file browser, and then re-use functions from your\n",
    "> prototype to create the final html app interface."
   ]
  },
  {
   "cell_type": "code",
   "execution_count": null,
   "metadata": {},
   "outputs": [],
   "source": [
    "from io import BytesIO\n",
    "import pandas as pd\n",
    "import panel as pn\n",
    "import plotly.express as px\n",
    "\n",
    "# To use plotly with Panel, we must load the plotly extension\n",
    "pn.extension('plotly')\n",
    "\n",
    "# Create a file-upload field that accepts a csv file\n",
    "file_field = pn.widgets.FileInput(accept='.csv')\n",
    "\n",
    "def on_upload(file_value):\n",
    "    # If no file has been uploaded yet, do nothing\n",
    "    if not file_value:\n",
    "      return\n",
    "\n",
    "    # Load the file's contents into a Pandas DataFrame\n",
    "    df = pd.read_csv(BytesIO(file_value))\n",
    "    # Return a Plotly histogram of the first column in the DataFrame\n",
    "    # We must explicitly specify a width for the plot.\n",
    "    first_column = df.columns[0]\n",
    "    return px.histogram(df, x=first_column, width=500)\n",
    "\n",
    "# Call on_upload when a file is uploaded\n",
    "output = pn.bind(on_upload, file_field)\n",
    "\n",
    "layout = pn.Column(\n",
    "    file_field,\n",
    "    output,\n",
    ")\n",
    "layout.servable()"
   ]
  }
 ],
 "metadata": {
  "kernelspec": {
   "display_name": "Python (Pyodide)",
   "language": "python",
   "name": "python3"
  },
  "language_info": {
   "codemirror_mode": {
    "name": "python",
    "version": "3"
   },
   "file_extension": ".py",
   "mimetype": "text/x-python",
   "name": "python",
   "nbconvert_exporter": "python",
   "pygments_lexer": "ipython3",
   "version": "3.8"
  }
 },
 "nbformat": 4,
 "nbformat_minor": 4
}
