{
 "cells": [
  {
   "cell_type": "markdown",
   "metadata": {},
   "source": [
    "# PyNoon Starter: Lesson 3 - Exercise\n",
    "\n",
    "## 1. Software Carpentry Exercises\n",
    "\n",
    "(mostly from\n",
    "[Lists](https://swcarpentry.github.io/python-novice-gapminder/11-lists.html))\n",
    "\n",
    "## 1a. Spot the Difference\n",
    "\n",
    "Predict what each of the print statements in the program below will\n",
    "print."
   ]
  },
  {
   "cell_type": "code",
   "execution_count": null,
   "metadata": {},
   "outputs": [],
   "source": [
    "easy_string = \"abc\"\n",
    "print(max(easy_string))\n",
    "rich = \"gold\"\n",
    "poor = \"tin\"\n",
    "print(max(rich, poor))\n",
    "print(max(len(rich), len(poor)))"
   ]
  },
  {
   "cell_type": "markdown",
   "metadata": {},
   "source": [
    "## 1b. Indexing out of range\n",
    "\n",
    "What happens when you index into a list with an index that is outside of\n",
    "its range/length of elements? Try it and find out:"
   ]
  },
  {
   "cell_type": "code",
   "execution_count": null,
   "metadata": {},
   "outputs": [],
   "source": [
    "letters = ['a', 'b', 'c']\n",
    "letters[3]"
   ]
  },
  {
   "cell_type": "markdown",
   "metadata": {},
   "source": [
    "Now also try:\n",
    "\n",
    "-   Retrieving a key from a dictionary that is not present in the\n",
    "    dictionary.\n",
    "-   Making a slice from a list with bounds that are outside the range of\n",
    "    the list.\n",
    "\n",
    "### 1c. Dictionary Comprehensions\n",
    "\n",
    "In the tutorial, we looked at list comprehensions, but we can also\n",
    "construct dictionaries with dictionary comprehensions:"
   ]
  },
  {
   "cell_type": "code",
   "execution_count": null,
   "metadata": {},
   "outputs": [],
   "source": [
    "user = {\n",
    "    'first_name': 'Ben',\n",
    "    'last_name': 'Smith',\n",
    "    'city': 'Auckland',\n",
    "    'country': 'New Zealand',\n",
    "}\n",
    "\n",
    "lowercase_user = {key: value.lower() for key, value in user.items()}"
   ]
  },
  {
   "cell_type": "markdown",
   "metadata": {},
   "source": [
    "Rewrite the following code to use a dictionary comprehension to\n",
    "construct `passing_percent_subject_scores`:"
   ]
  },
  {
   "cell_type": "code",
   "execution_count": null,
   "metadata": {},
   "outputs": [],
   "source": [
    "subject_scores = {\n",
    "    'Maths': 90,\n",
    "    'Literature': 40,\n",
    "    'Art': 70,\n",
    "    'Science': 30,\n",
    "}\n",
    "\n",
    "passing_percent_subject_scores = {}\n",
    "for subject, score in subject_scores.items():\n",
    "    if score >= 50:\n",
    "        passing_percent_subject_scores[subject] = score / 100"
   ]
  },
  {
   "cell_type": "markdown",
   "metadata": {},
   "source": [
    "### 1d. Fill in the Blanks\n",
    "\n",
    "Fill in the blanks so that the program below produces the output shown."
   ]
  },
  {
   "cell_type": "code",
   "execution_count": null,
   "metadata": {},
   "outputs": [],
   "source": [
    "values = ____\n",
    "values.____(1)\n",
    "values.____(3)\n",
    "values.____(5)\n",
    "print('first time:', values)\n",
    "values = values[____]\n",
    "print('second time:', values)"
   ]
  },
  {
   "cell_type": "markdown",
   "metadata": {},
   "source": [
    "    first time: [1, 3, 5]\n",
    "    second time: [3, 5]\n",
    "\n",
    "### 1e. From Strings to Lists and Back\n",
    "\n",
    "Given this:"
   ]
  },
  {
   "cell_type": "code",
   "execution_count": null,
   "metadata": {},
   "outputs": [],
   "source": [
    "print('string to list:', list('tin'))\n",
    "print('list to string:', ''.join(['g', 'o', 'l', 'd']))"
   ]
  },
  {
   "cell_type": "markdown",
   "metadata": {},
   "source": [
    "    string to list: ['t', 'i', 'n']\n",
    "    list to string: gold\n",
    "\n",
    "1.  What does `list('some string')` do?\n",
    "2.  What does `'-'.join(['x', 'y', 'z'])` generate?\n",
    "\n",
    "### 1f. Sort and Sorted\n",
    "\n",
    "What do these two programs print? In simple terms, explain the\n",
    "difference between sorted(letters) and letters.sort()."
   ]
  },
  {
   "cell_type": "code",
   "execution_count": null,
   "metadata": {},
   "outputs": [],
   "source": [
    "# Program A\n",
    "letters = list('gold')\n",
    "result = sorted(letters)\n",
    "print('letters is', letters, 'and result is', result)"
   ]
  },
  {
   "cell_type": "code",
   "execution_count": null,
   "metadata": {},
   "outputs": [],
   "source": [
    "# Program B\n",
    "letters = list('gold')\n",
    "result = letters.sort()\n",
    "print('letters is', letters, 'and result is', result)"
   ]
  },
  {
   "cell_type": "markdown",
   "metadata": {},
   "source": [
    "### 1g. Copying (or not)\n",
    "\n",
    "What do these two programs print? In simple terms, explain the\n",
    "difference between new = old and new = old\\[:\\]."
   ]
  },
  {
   "cell_type": "code",
   "execution_count": null,
   "metadata": {},
   "outputs": [],
   "source": [
    "# Program A\n",
    "old = list('gold')\n",
    "new = old      # simple assignment\n",
    "new[0] = 'D'\n",
    "print('new is', new, 'and old is', old)"
   ]
  },
  {
   "cell_type": "code",
   "execution_count": null,
   "metadata": {},
   "outputs": [],
   "source": [
    "# Program B\n",
    "old = list('gold')\n",
    "new = old[:]   # assigning a slice\n",
    "new[0] = 'D'\n",
    "print('new is', new, 'and old is', old)"
   ]
  },
  {
   "cell_type": "markdown",
   "metadata": {},
   "source": [
    "## 3. Futurecoder\n",
    "\n",
    "Complete the following lesson on\n",
    "[futurecoder.io](https://futurecoder.io):\n",
    "\n",
    "1.  If statements\n",
    "\n",
    "> You can check which lesson you are up to on Futurecoder from the\n",
    "> `Table of Contents` link at the top of the Futurecoder webpage."
   ]
  }
 ],
 "metadata": {
  "kernelspec": {
   "display_name": "Python (Pyodide)",
   "language": "python",
   "name": "python"
  },
  "language_info": {
   "codemirror_mode": {
    "name": "python",
    "version": "3"
   },
   "file_extension": ".py",
   "mimetype": "text/x-python",
   "name": "python",
   "nbconvert_exporter": "python",
   "pygments_lexer": "ipython3",
   "version": "3.8"
  }
 },
 "nbformat": 4,
 "nbformat_minor": 4
}
