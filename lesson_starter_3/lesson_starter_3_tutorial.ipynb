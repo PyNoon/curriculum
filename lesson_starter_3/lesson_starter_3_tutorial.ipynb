{
 "cells": [
  {
   "cell_type": "markdown",
   "metadata": {},
   "source": [
    "This tutorial will cover:\n",
    "\n",
    "-   A review of functions\n",
    "-   Lists\n",
    "-   Dictionaries\n",
    "\n",
    "This tutorial is based on:\n",
    "\n",
    "-   [swcarpentry.github.io/python-novice-gapminder/11-lists.html](https://swcarpentry.github.io/python-novice-gapminder/11-lists.html)\n",
    "\n",
    "> DEMO-ONLY TUTORIAL BEGINS HERE\n",
    "\n",
    "## Functions\n",
    "\n",
    "We’re going to be using a lot of functions from Python data libraries,\n",
    "so lets summarise their key facts:\n",
    "\n",
    "**Functions are like small Python scripts that we can *call* to perform\n",
    "some operation or return some value.**\n",
    "\n",
    "**Functions are *called* using parentheses, with *arguments* inside the\n",
    "parentheses.**"
   ]
  },
  {
   "cell_type": "code",
   "execution_count": null,
   "metadata": {},
   "outputs": [],
   "source": [
    "print('hello')"
   ]
  },
  {
   "cell_type": "markdown",
   "metadata": {},
   "source": [
    "Using a function’s name without parentheses refers to the function\n",
    "itself *as* a value:"
   ]
  },
  {
   "cell_type": "code",
   "execution_count": null,
   "metadata": {},
   "outputs": [],
   "source": [
    "print"
   ]
  },
  {
   "cell_type": "markdown",
   "metadata": {},
   "source": [
    "**Functions attached to values are called *methods***"
   ]
  },
  {
   "cell_type": "code",
   "execution_count": null,
   "metadata": {},
   "outputs": [],
   "source": [
    "'hello'.upper()"
   ]
  },
  {
   "cell_type": "markdown",
   "metadata": {},
   "source": [
    "**Some functions take multiple arguments**"
   ]
  },
  {
   "cell_type": "code",
   "execution_count": null,
   "metadata": {},
   "outputs": [],
   "source": [
    "round(3.14159, 2)"
   ]
  },
  {
   "cell_type": "markdown",
   "metadata": {},
   "source": [
    "**Functions may have default values for some arguments**\n",
    "\n",
    "`round()` defaults to rounding a number to zero decimal places:"
   ]
  },
  {
   "cell_type": "code",
   "execution_count": null,
   "metadata": {},
   "outputs": [],
   "source": [
    "round(3.14159)"
   ]
  },
  {
   "cell_type": "markdown",
   "metadata": {},
   "source": [
    "**Every function returns a value**\n",
    "\n",
    "Even functions that don’t seem to return a value (like `print`) actually\n",
    "return a special value called `None` (similar to `null` in SQL or other\n",
    "languages):"
   ]
  },
  {
   "cell_type": "code",
   "execution_count": null,
   "metadata": {},
   "outputs": [],
   "source": [
    "returned_value = print('hello')"
   ]
  },
  {
   "cell_type": "code",
   "execution_count": null,
   "metadata": {},
   "outputs": [],
   "source": [
    "returned_value"
   ]
  },
  {
   "cell_type": "code",
   "execution_count": null,
   "metadata": {},
   "outputs": [],
   "source": [
    "type(returned_value)"
   ]
  },
  {
   "cell_type": "markdown",
   "metadata": {},
   "source": [
    "**Functions accept named arguments (and some require it):**"
   ]
  },
  {
   "cell_type": "code",
   "execution_count": null,
   "metadata": {},
   "outputs": [],
   "source": [
    "round(3.14159, ndigits=2)"
   ]
  },
  {
   "cell_type": "markdown",
   "metadata": {},
   "source": [
    "**Use the built-in function help to get help for a function**"
   ]
  },
  {
   "cell_type": "code",
   "execution_count": null,
   "metadata": {},
   "outputs": [],
   "source": [
    "help(round)"
   ]
  },
  {
   "cell_type": "code",
   "execution_count": null,
   "metadata": {},
   "outputs": [],
   "source": [
    "help('hello'.upper)"
   ]
  },
  {
   "cell_type": "markdown",
   "metadata": {},
   "source": [
    "**Use `dir()` and `dir(__builtins__)` to list available functions (and\n",
    "non-function variables)**"
   ]
  },
  {
   "cell_type": "code",
   "execution_count": null,
   "metadata": {},
   "outputs": [],
   "source": [
    "dir()"
   ]
  },
  {
   "cell_type": "code",
   "execution_count": null,
   "metadata": {},
   "outputs": [],
   "source": [
    "dir(__builtins__)"
   ]
  },
  {
   "cell_type": "markdown",
   "metadata": {},
   "source": [
    "> Don’t worry about the underscored names\n",
    "\n",
    "**Use `dir(some_value)` to list methods (and non-function variables\n",
    "called attributes) of a value**"
   ]
  },
  {
   "cell_type": "code",
   "execution_count": null,
   "metadata": {},
   "outputs": [],
   "source": [
    "dir('hello')"
   ]
  },
  {
   "cell_type": "markdown",
   "metadata": {},
   "source": [
    "-   See\n",
    "    [docs.python.org/3/library/functions.html](https://docs.python.org/3/library/functions.html)\n",
    "    for more about functions that are built-in and always available in\n",
    "    Python.\n",
    "-   A key power of Python is that you can define your own functions as\n",
    "    Python code to execute when the function is called.\n",
    "\n",
    "> FOLLOW-ALONG TUTORIAL BEGINS HERE\n",
    "\n",
    "-   Last lesson we looked at different types of values, primarily\n",
    "    numbers and strings\n",
    "-   This lesson we’ll look at *collection* types that can store multiple\n",
    "    values (even other collections)\n",
    "-   Specifically, we’ll look at *lists* and *dictionaries*, which when\n",
    "    used together are sufficient for managing data in many programming\n",
    "    domains.\n",
    "\n",
    "## Lists\n",
    "\n",
    "-   We can use a list to store an **ordered sequence** of multiple\n",
    "    values\n",
    "-   Lists are created using *square bracket* syntax:"
   ]
  },
  {
   "cell_type": "code",
   "execution_count": null,
   "metadata": {},
   "outputs": [],
   "source": [
    "scores = [95, 89, 64, 91]\n",
    "print(scores)"
   ]
  },
  {
   "cell_type": "markdown",
   "metadata": {},
   "source": [
    "Like strings, we can get the length of a list:"
   ]
  },
  {
   "cell_type": "code",
   "execution_count": null,
   "metadata": {},
   "outputs": [],
   "source": [
    "len(scores)"
   ]
  },
  {
   "cell_type": "markdown",
   "metadata": {},
   "source": [
    "Also similar to strings, we can use positional indexing and slicing to\n",
    "get specific elements out of a list:"
   ]
  },
  {
   "cell_type": "code",
   "execution_count": null,
   "metadata": {},
   "outputs": [],
   "source": [
    "print(scores[0])\n",
    "print(scores[-1])\n",
    "print(scores[1:2])"
   ]
  },
  {
   "cell_type": "markdown",
   "metadata": {},
   "source": [
    "Unlike strings, we can replace the value at a specific index:"
   ]
  },
  {
   "cell_type": "code",
   "execution_count": null,
   "metadata": {},
   "outputs": [],
   "source": [
    "scores[2] = 99\n",
    "print(scores)"
   ]
  },
  {
   "cell_type": "markdown",
   "metadata": {},
   "source": [
    "We can append an element to the end of a list with the `.append()`\n",
    "method:"
   ]
  },
  {
   "cell_type": "code",
   "execution_count": null,
   "metadata": {},
   "outputs": [],
   "source": [
    "scores.append(75)\n",
    "print(scores)"
   ]
  },
  {
   "cell_type": "markdown",
   "metadata": {},
   "source": [
    "One of the most useful things we can do with lists is to *loop* over a\n",
    "list and execute some code for each elment:"
   ]
  },
  {
   "cell_type": "code",
   "execution_count": null,
   "metadata": {},
   "outputs": [],
   "source": [
    "for score in scores:\n",
    "    print('Score:', score)\n",
    "    print('Score percent:', score / 100)"
   ]
  },
  {
   "cell_type": "markdown",
   "metadata": {},
   "source": [
    "Pay careful attention to the colon at the end of the first line, and the\n",
    "indented line(s) after\n",
    "\n",
    "## Dictionaries\n",
    "\n",
    "-   *Dictionaries* are another common type of collection in Python\n",
    "-   Dictionaries contain a number of *keys* that are each associated\n",
    "    with some other *value*.\n",
    "-   We create a dictionary using *curly brace* syntax:"
   ]
  },
  {
   "cell_type": "code",
   "execution_count": null,
   "metadata": {},
   "outputs": [],
   "source": [
    "user = {'first_name': 'Bob', 'last_name': 'Smith'}\n",
    "print(user)"
   ]
  },
  {
   "cell_type": "markdown",
   "metadata": {},
   "source": [
    "> Dictionary keys are most commonly strings, but many other data types\n",
    "> can also be used.\n",
    "\n",
    "Similar to strings and lists, we can use `len()` to count the number of\n",
    "key/value pairs in a dictionary:"
   ]
  },
  {
   "cell_type": "code",
   "execution_count": null,
   "metadata": {},
   "outputs": [],
   "source": [
    "len(user)"
   ]
  },
  {
   "cell_type": "markdown",
   "metadata": {},
   "source": [
    "Instead of indexing values within a dictionary by their positional\n",
    "index, we index them by their associated key:"
   ]
  },
  {
   "cell_type": "code",
   "execution_count": null,
   "metadata": {},
   "outputs": [],
   "source": [
    "user['first_name']"
   ]
  },
  {
   "cell_type": "markdown",
   "metadata": {},
   "source": [
    "Similar to lists, we can update the value for a given key:"
   ]
  },
  {
   "cell_type": "code",
   "execution_count": null,
   "metadata": {},
   "outputs": [],
   "source": [
    "user['first_name'] = 'Alice'\n",
    "print(user)"
   ]
  },
  {
   "cell_type": "markdown",
   "metadata": {},
   "source": [
    "We can also insert new key/value pairs by simply “updating” a key that\n",
    "doesn’t already exist in the dictionary:"
   ]
  },
  {
   "cell_type": "code",
   "execution_count": null,
   "metadata": {},
   "outputs": [],
   "source": [
    "user['middle_name'] = 'Mallory'\n",
    "print(user)"
   ]
  },
  {
   "cell_type": "markdown",
   "metadata": {},
   "source": [
    "We can also remove an item from the dictionary with the `del` statement:"
   ]
  },
  {
   "cell_type": "code",
   "execution_count": null,
   "metadata": {},
   "outputs": [],
   "source": [
    "del user['middle_name']\n",
    "print(user)"
   ]
  },
  {
   "cell_type": "markdown",
   "metadata": {},
   "source": [
    "Looping over a dictionary will loop over its keys:"
   ]
  },
  {
   "cell_type": "code",
   "execution_count": null,
   "metadata": {},
   "outputs": [],
   "source": [
    "for key in user:\n",
    "    print(key)"
   ]
  },
  {
   "cell_type": "markdown",
   "metadata": {},
   "source": [
    "It is more common to use `.items()` to loop over each key/value pair:"
   ]
  },
  {
   "cell_type": "code",
   "execution_count": null,
   "metadata": {},
   "outputs": [],
   "source": [
    "for key, value in user.items():\n",
    "    print(key, value)"
   ]
  },
  {
   "cell_type": "markdown",
   "metadata": {},
   "source": [
    "> Extra: We can also loop over the keys and values with `.keys()` and\n",
    "> `.values()` respectively. These methods return list-like *iterables*\n",
    "> that can be looped over, and can also be turned into proper lists by\n",
    "> wrapping them with the `list()` function.\n",
    "\n",
    "## Reducing code duplication with loops and list comprehensions\n",
    "\n",
    "-   Looping over lists can help us reduce code duplication.\n",
    "-   For example, take the following code that transforms several fields\n",
    "    of a dictionary to lowercase:"
   ]
  },
  {
   "cell_type": "code",
   "execution_count": null,
   "metadata": {},
   "outputs": [],
   "source": [
    "user['first_name'] = user['first_name'].lower()\n",
    "user['last_name'] = user['last_name'].lower()"
   ]
  },
  {
   "cell_type": "markdown",
   "metadata": {},
   "source": [
    "-   We can loop over a list of keys, meaning we only have to define the\n",
    "    transformation once.\n",
    "-   If we ever need to change the transformation, we only need to change\n",
    "    it in once place."
   ]
  },
  {
   "cell_type": "code",
   "execution_count": null,
   "metadata": {},
   "outputs": [],
   "source": [
    "text_keys = ['first_name', 'last_name']\n",
    "\n",
    "for text_key in text_keys:\n",
    "    user[text_key] = user[text_key].str.lower()"
   ]
  },
  {
   "cell_type": "markdown",
   "metadata": {},
   "source": [
    "-   It is quite common to want to transform one list of values into\n",
    "    another list of values.\n",
    "-   One way you might do that is as follows:"
   ]
  },
  {
   "cell_type": "code",
   "execution_count": null,
   "metadata": {},
   "outputs": [],
   "source": [
    "names = ['Alice', 'Bob', 'Mallory']\n",
    "\n",
    "name_lengths = []\n",
    "for name in names:\n",
    "    name_lengths.append(len(name))\n",
    "name_lengths"
   ]
  },
  {
   "cell_type": "markdown",
   "metadata": {},
   "source": [
    "Python’s *list comprehensions* provide a more **succinct** and\n",
    "**idiomatic** way to do this:"
   ]
  },
  {
   "cell_type": "code",
   "execution_count": null,
   "metadata": {},
   "outputs": [],
   "source": [
    "names = ['Alice', 'Bob', 'Mallory']\n",
    "\n",
    "name_lengths = [len(name) for name in names]\n",
    "name_lengths"
   ]
  },
  {
   "cell_type": "markdown",
   "metadata": {},
   "source": [
    "List comprehensions are particularly useful when we don’t even want to\n",
    "keep the list itself in a variable, but just to use it as an\n",
    "intermediate value in some computation:"
   ]
  },
  {
   "cell_type": "code",
   "execution_count": null,
   "metadata": {},
   "outputs": [],
   "source": [
    "names = ['Alice', 'Bob', 'Mallory']\n",
    "\n",
    "max_name_length = max([len(name) for name in names])\n",
    "max_name_length"
   ]
  },
  {
   "cell_type": "markdown",
   "metadata": {},
   "source": [
    "List comprehensions can also be used to *filter out* items from a list:"
   ]
  },
  {
   "cell_type": "code",
   "execution_count": null,
   "metadata": {},
   "outputs": [],
   "source": [
    "longest_names = [\n",
    "    name for name in names\n",
    "    if len(name) == max_name_length\n",
    "]\n",
    "longest_names"
   ]
  }
 ],
 "metadata": {
  "kernelspec": {
   "display_name": "Python (Pyodide)",
   "language": "python",
   "name": "python"
  },
  "language_info": {
   "codemirror_mode": {
    "name": "python",
    "version": "3"
   },
   "file_extension": ".py",
   "mimetype": "text/x-python",
   "name": "python",
   "nbconvert_exporter": "python",
   "pygments_lexer": "ipython3",
   "version": "3.8"
  }
 },
 "nbformat": 4,
 "nbformat_minor": 4
}
