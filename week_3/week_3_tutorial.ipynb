{
 "cells": [
  {
   "cell_type": "markdown",
   "metadata": {},
   "source": [
    "This week’s tutorial will cover:\n",
    "\n",
    "-   A review of functions\n",
    "-   Working with built-in and third party libraries\n",
    "-   Loading and exploring tabular data with Pandas\n",
    "\n",
    "It is based on:\n",
    "\n",
    "-   [swcarpentry.github.io/python-novice-gapminder/04-built-in.html](https://swcarpentry.github.io/python-novice-gapminder/04-built-in.html)\n",
    "-   [swcarpentry.github.io/python-novice-gapminder/06-libraries.html](https://swcarpentry.github.io/python-novice-gapminder/06-libraries.html)\n",
    "-   [swcarpentry.github.io/python-novice-gapminder/07-reading-tabular.html](https://swcarpentry.github.io/python-novice-gapminder/07-reading-tabular.html)\n",
    "-   [swcarpentry.github.io/python-novice-gapminder/08-data-frames.html](https://swcarpentry.github.io/python-novice-gapminder/08-data-frames.html)\n",
    "\n",
    "> DEMO-ONLY TUTORIAL BEGINS HERE\n",
    "\n",
    "## Functions\n",
    "\n",
    "We’ve used functions in previous tutorials, but we’re going to start\n",
    "using a lot more of them, so lets summarise their key facts:\n",
    "\n",
    "**Functions are *called* using parentheses**"
   ]
  },
  {
   "cell_type": "code",
   "execution_count": null,
   "metadata": {},
   "outputs": [],
   "source": [
    "print('hello')"
   ]
  },
  {
   "cell_type": "markdown",
   "metadata": {},
   "source": [
    "Using a function’s name without parentheses refers to the function\n",
    "itself *as* a value:"
   ]
  },
  {
   "cell_type": "code",
   "execution_count": null,
   "metadata": {},
   "outputs": [],
   "source": [
    "print"
   ]
  },
  {
   "cell_type": "markdown",
   "metadata": {},
   "source": [
    "**Functions attached to values are called *methods***"
   ]
  },
  {
   "cell_type": "code",
   "execution_count": null,
   "metadata": {},
   "outputs": [],
   "source": [
    "'hello'.upper()"
   ]
  },
  {
   "cell_type": "markdown",
   "metadata": {},
   "source": [
    "**Functions may take zero, one, or more arguments**"
   ]
  },
  {
   "cell_type": "code",
   "execution_count": null,
   "metadata": {},
   "outputs": [],
   "source": [
    "print('hello', 'world')"
   ]
  },
  {
   "cell_type": "markdown",
   "metadata": {},
   "source": [
    "Some functions require a minimum or specific number of arguments.\n",
    "\n",
    "**Every function returns a value**\n",
    "\n",
    "Even functions that don’t seem to return a value (like `print`) actually\n",
    "return a special value called `None` (similar to `null` in SQL or other\n",
    "languages):"
   ]
  },
  {
   "cell_type": "code",
   "execution_count": null,
   "metadata": {},
   "outputs": [],
   "source": [
    "returned_value = print('hello')"
   ]
  },
  {
   "cell_type": "code",
   "execution_count": null,
   "metadata": {},
   "outputs": [],
   "source": [
    "returned_value"
   ]
  },
  {
   "cell_type": "code",
   "execution_count": null,
   "metadata": {},
   "outputs": [],
   "source": [
    "type(returned_value)"
   ]
  },
  {
   "cell_type": "markdown",
   "metadata": {},
   "source": [
    "**Functions may have default values for some arguments**\n",
    "\n",
    "`round()` defaults to rounding a number to zero decimal places:"
   ]
  },
  {
   "cell_type": "code",
   "execution_count": null,
   "metadata": {},
   "outputs": [],
   "source": [
    "round(3.14159)"
   ]
  },
  {
   "cell_type": "markdown",
   "metadata": {},
   "source": [
    "We can pass a second argument to `round` to specify the number of\n",
    "decimal places:"
   ]
  },
  {
   "cell_type": "code",
   "execution_count": null,
   "metadata": {},
   "outputs": [],
   "source": [
    "round(3.14159, 2)"
   ]
  },
  {
   "cell_type": "markdown",
   "metadata": {},
   "source": [
    "**Functions accept named arguments (and some require it):**"
   ]
  },
  {
   "cell_type": "code",
   "execution_count": null,
   "metadata": {},
   "outputs": [],
   "source": [
    "round(3.14159, ndigits=2)"
   ]
  },
  {
   "cell_type": "markdown",
   "metadata": {},
   "source": [
    "**Use the built-in function help to get help for a function**"
   ]
  },
  {
   "cell_type": "code",
   "execution_count": null,
   "metadata": {},
   "outputs": [],
   "source": [
    "help(round)"
   ]
  },
  {
   "cell_type": "code",
   "execution_count": null,
   "metadata": {},
   "outputs": [],
   "source": [
    "help('hello'.upper)"
   ]
  },
  {
   "cell_type": "markdown",
   "metadata": {},
   "source": [
    "> Don’t worry about the underscored names\n",
    "\n",
    "**Use `dir()` and `dir(__builtins__)` to list available functions (and\n",
    "non-function variables)**"
   ]
  },
  {
   "cell_type": "code",
   "execution_count": null,
   "metadata": {},
   "outputs": [],
   "source": [
    "dir()"
   ]
  },
  {
   "cell_type": "code",
   "execution_count": null,
   "metadata": {},
   "outputs": [],
   "source": [
    "dir(__builtins__)"
   ]
  },
  {
   "cell_type": "markdown",
   "metadata": {},
   "source": [
    "**Use `dir(some_value)` to list methods (and non-function variables\n",
    "called attributes) of a value**"
   ]
  },
  {
   "cell_type": "code",
   "execution_count": null,
   "metadata": {},
   "outputs": [],
   "source": [
    "dir('hello')"
   ]
  },
  {
   "cell_type": "markdown",
   "metadata": {},
   "source": [
    "-   See\n",
    "    [docs.python.org/3/library/functions.html](https://docs.python.org/3/library/functions.html)\n",
    "    for more about functions that are built-in and always available in\n",
    "    Python.\n",
    "-   A key power of Python is that you can define your own functions as\n",
    "    Python code to execute when the function is called.\n",
    "\n",
    "## Libraries\n",
    "\n",
    "To get more functions (and other things) to use in Python, you can\n",
    "import collections of Python files (aka **modules**) from **libraries**.\n",
    "\n",
    "To use the contents of a library module, we must import it once (usually\n",
    "at the top of our notebook or script):"
   ]
  },
  {
   "cell_type": "code",
   "execution_count": null,
   "metadata": {},
   "outputs": [],
   "source": [
    "import math"
   ]
  },
  {
   "cell_type": "markdown",
   "metadata": {},
   "source": [
    "Then we can use functions and variables from it:"
   ]
  },
  {
   "cell_type": "code",
   "execution_count": null,
   "metadata": {},
   "outputs": [],
   "source": [
    "math.pi"
   ]
  },
  {
   "cell_type": "code",
   "execution_count": null,
   "metadata": {},
   "outputs": [],
   "source": [
    "math.log(math.e)"
   ]
  },
  {
   "cell_type": "markdown",
   "metadata": {},
   "source": [
    "We can use the `help()` function to find out what is available in a\n",
    "library:"
   ]
  },
  {
   "cell_type": "code",
   "execution_count": null,
   "metadata": {},
   "outputs": [],
   "source": [
    "help(math)"
   ]
  },
  {
   "cell_type": "markdown",
   "metadata": {},
   "source": [
    "Sometimes we want to import only certain functions or variables from a\n",
    "module…"
   ]
  },
  {
   "cell_type": "code",
   "execution_count": null,
   "metadata": {},
   "outputs": [],
   "source": [
    "from math import pi, e"
   ]
  },
  {
   "cell_type": "markdown",
   "metadata": {},
   "source": [
    "Or import the module under an aliased name…"
   ]
  },
  {
   "cell_type": "code",
   "execution_count": null,
   "metadata": {},
   "outputs": [],
   "source": [
    "import pandas as pd"
   ]
  },
  {
   "cell_type": "markdown",
   "metadata": {},
   "source": [
    "-   `math` is one of the many modules in Python’s **standard library**,\n",
    "    which is well known for its extensive functionality.\n",
    "    -   You can find out about the libraries available to import more\n",
    "        modules more about at:\n",
    "        [docs.python.org/3/library](https://docs.python.org/3/library/index.html)\n",
    "-   Python is also well known for its many **3rd party libraries** which\n",
    "    must be downloaded before they can be imported.\n",
    "    -   You can search for available Python packages at:\n",
    "        [pypi.org](https://pypi.org/)\n",
    "\n",
    "3rd party Python libraries can be downloaded with `pip`, which can be\n",
    "run as follows in JupyterLite:"
   ]
  },
  {
   "cell_type": "code",
   "execution_count": null,
   "metadata": {},
   "outputs": [],
   "source": [
    "%pip install pandas"
   ]
  },
  {
   "cell_type": "markdown",
   "metadata": {},
   "source": [
    "> **Anyone** can publish a 3rd party library, so it’s prudent to ask the\n",
    "> following questions before installing a library:\n",
    ">\n",
    "> -   Has someone you trust recommended this library?\n",
    "> -   Is there concrete evidence of an active user base for this\n",
    ">     library?\n",
    "> -   Am I sure I am spelling the library’s name correctly? (malicious\n",
    ">     users have been known to publish “typo-squatting” libraries with\n",
    ">     similar names to popular libraries)\n",
    "\n",
    "The webpage for a library on `pypi.org` will often have links to:\n",
    "\n",
    "-   A **GitHub (or similar) page** where you can read the library’s\n",
    "    code, report issues, and contribute improvements.\n",
    "-   A **quick start** to briefly demonstrate you how to use the library\n",
    "-   More extensive **documentation** or an **API reference** that\n",
    "    documents all the functions and capabilities of the library.\n",
    "\n",
    "For example, check out:\n",
    "[pypi.org/project/pandas](https://pypi.org/project/pandas/)\n",
    "\n",
    "> FOLLOW-ALONG TUTORIAL BEGINS HERE\n",
    "\n",
    "## Setup\n",
    "\n",
    "-   Make a new notebook for this week\n",
    "-   What’s the first thing to do? RENAME IT!\n",
    "-   Name it `week3.ipynb`\n",
    "\n",
    "## Pandas DataFrames\n",
    "\n",
    "We can use the `pandas` library to work with tabular data in Python.\n",
    "\n",
    "-   Pandas is based on a lower-level maths library called `numpy`\n",
    "-   Pandas DataFrames are similar to R’s DataFrames"
   ]
  },
  {
   "cell_type": "code",
   "execution_count": null,
   "metadata": {},
   "outputs": [],
   "source": [
    "import pandas as pd"
   ]
  },
  {
   "cell_type": "markdown",
   "metadata": {},
   "source": [
    "Let’s get a CSV of data to load:\n",
    "\n",
    "1.  Download `inside_airbnb_listings_nz_2023_09.csv` from\n",
    "    [pynoon.github.io/schedule](https://pynoon.github.io/schedule/).\n",
    "    -   Look at the data dictionary linked to from that page to learn\n",
    "        what each column means.\n",
    "2.  Upload the file into JupyterLite\n",
    "    -   Use the upload button above the file browser, or drag and drop\n",
    "        the file into JupyterLite.\n",
    "3.  Double-click on the file in the file browser to view it in\n",
    "    JupyterLite.\n",
    "\n",
    "To load the CSV into a DataFrame:"
   ]
  },
  {
   "cell_type": "code",
   "execution_count": null,
   "metadata": {},
   "outputs": [],
   "source": [
    "listings_df = pd.read_csv('inside_airbnb_listings_nz_2023_09.csv')"
   ]
  },
  {
   "cell_type": "markdown",
   "metadata": {},
   "source": [
    "-   `df` is a *conventional* variable suffix for a DataFrame.\n",
    "-   Pandas has many different `read_*` functions for reading from\n",
    "    different types of files (e.g. `read_excel()`).\n",
    "\n",
    "Let’s look at the DataFrame:"
   ]
  },
  {
   "cell_type": "code",
   "execution_count": null,
   "metadata": {},
   "outputs": [],
   "source": [
    "listings_df"
   ]
  },
  {
   "cell_type": "markdown",
   "metadata": {},
   "source": [
    "> Only a few rows from the top and bottom of the DataFrame are shown\n",
    "\n",
    "-   The first “column” is the *index*, which defaults to incrementing\n",
    "    integers\n",
    "-   Like how each column has a name, the *index* is the “name” of each\n",
    "    row\n",
    "-   We can assign a column to be the index of a DataFrame:"
   ]
  },
  {
   "cell_type": "code",
   "execution_count": null,
   "metadata": {},
   "outputs": [],
   "source": [
    "listings_df = listings_df.set_index('id')"
   ]
  },
  {
   "cell_type": "code",
   "execution_count": null,
   "metadata": {},
   "outputs": [],
   "source": [
    "listings_df"
   ]
  },
  {
   "cell_type": "markdown",
   "metadata": {},
   "source": [
    "Why do we need to assign the result of `set_index()`?\n",
    "\n",
    "-   Calling `.set_index()` does not change the original DataFrame value\n",
    "-   Calling `.set_index()` returns a **new DataFrame value** with the\n",
    "    index changed, which we then assign to the original variable.\n",
    "-   Most Pandas methods return a new value rather than changing the\n",
    "    original value.\n",
    "\n",
    "Another example is sorting the DataFrame by a column:"
   ]
  },
  {
   "cell_type": "code",
   "execution_count": null,
   "metadata": {},
   "outputs": [],
   "source": [
    "listings_df = listings_df.sort_values(by='host_name')"
   ]
  },
  {
   "cell_type": "markdown",
   "metadata": {},
   "source": [
    "### DataFrame Indexing and Slicing\n",
    "\n",
    "**We can perform indexing and slicing on DataFrames using `.iloc`:**\n",
    "\n",
    "To get the first row:"
   ]
  },
  {
   "cell_type": "code",
   "execution_count": null,
   "metadata": {},
   "outputs": [],
   "source": [
    "listings_df.iloc[0]"
   ]
  },
  {
   "cell_type": "markdown",
   "metadata": {},
   "source": [
    "> The type of a single column or row from a Pandas `DataFrame` is a\n",
    "> `Series`\n",
    "\n",
    "To get the second column in the first row:"
   ]
  },
  {
   "cell_type": "code",
   "execution_count": null,
   "metadata": {},
   "outputs": [],
   "source": [
    "listings_df.iloc[0, 1]"
   ]
  },
  {
   "cell_type": "markdown",
   "metadata": {},
   "source": [
    "To get the second column of the first five rows:"
   ]
  },
  {
   "cell_type": "code",
   "execution_count": null,
   "metadata": {},
   "outputs": [],
   "source": [
    "listings_df.iloc[0:5, 1]"
   ]
  },
  {
   "cell_type": "markdown",
   "metadata": {},
   "source": [
    "To get the second column of all rows:"
   ]
  },
  {
   "cell_type": "code",
   "execution_count": null,
   "metadata": {},
   "outputs": [],
   "source": [
    "listings_df.iloc[:, 1]"
   ]
  },
  {
   "cell_type": "markdown",
   "metadata": {},
   "source": [
    "**We can also index and slice rows and columns by their names:**\n",
    "\n",
    "To get a single row by it’s name in the index:"
   ]
  },
  {
   "cell_type": "code",
   "execution_count": null,
   "metadata": {},
   "outputs": [],
   "source": [
    "listings_df.loc['l9995141']"
   ]
  },
  {
   "cell_type": "markdown",
   "metadata": {},
   "source": [
    "To get several rows by their names:"
   ]
  },
  {
   "cell_type": "code",
   "execution_count": null,
   "metadata": {},
   "outputs": [],
   "source": [
    "listings_df.loc[['l9995141', 'l12026015', 'l44688136']]"
   ]
  },
  {
   "cell_type": "markdown",
   "metadata": {},
   "source": [
    "> While you can use `:` slicing to specify a start and end names for a\n",
    "> range, it is more common to specify a list of names.\n",
    "\n",
    "To get the `name` column of all rows:"
   ]
  },
  {
   "cell_type": "code",
   "execution_count": null,
   "metadata": {},
   "outputs": [],
   "source": [
    "listings_df.loc[:, 'name']"
   ]
  },
  {
   "cell_type": "markdown",
   "metadata": {},
   "source": [
    "Because we so commonly want to access columns, there is a shorthand:"
   ]
  },
  {
   "cell_type": "code",
   "execution_count": null,
   "metadata": {},
   "outputs": [],
   "source": [
    "listings_df['name']"
   ]
  },
  {
   "cell_type": "markdown",
   "metadata": {},
   "source": [
    "Also handy to get a new DataFrame that only contains a subset of\n",
    "columns:"
   ]
  },
  {
   "cell_type": "code",
   "execution_count": null,
   "metadata": {},
   "outputs": [],
   "source": [
    "listings_df[['name', 'region_name', 'region_parent_name']]"
   ]
  },
  {
   "cell_type": "markdown",
   "metadata": {},
   "source": [
    "### Column Types and Data Preparation\n",
    "\n",
    "Every column has a type of value stored in it:"
   ]
  },
  {
   "cell_type": "code",
   "execution_count": null,
   "metadata": {},
   "outputs": [],
   "source": [
    "listings_df.info()"
   ]
  },
  {
   "cell_type": "markdown",
   "metadata": {},
   "source": [
    "-   Numeric types have been automatically inferred by Pandas\n",
    "-   Non-numeric types like strings are listed as `object` (we only have\n",
    "    strings here)\n",
    "-   Some types aren’t what we want\n",
    "\n",
    "We can convert date columns from strings to dates:"
   ]
  },
  {
   "cell_type": "code",
   "execution_count": null,
   "metadata": {},
   "outputs": [],
   "source": [
    "pd.to_datetime(listings_df['host_since'])"
   ]
  },
  {
   "cell_type": "markdown",
   "metadata": {},
   "source": [
    "We must assign the transformed columns to replace the original columns:"
   ]
  },
  {
   "cell_type": "code",
   "execution_count": null,
   "metadata": {},
   "outputs": [],
   "source": [
    "listings_df['host_since'] = pd.to_datetime(listings_df['host_since'])\n",
    "listings_df['last_review'] = pd.to_datetime(listings_df['last_review'])"
   ]
  },
  {
   "cell_type": "code",
   "execution_count": null,
   "metadata": {},
   "outputs": [],
   "source": [
    "listings_df.info()"
   ]
  },
  {
   "cell_type": "code",
   "execution_count": null,
   "metadata": {},
   "outputs": [],
   "source": [
    "listings_df"
   ]
  },
  {
   "cell_type": "markdown",
   "metadata": {},
   "source": [
    "We can also remove the dollar sign from each price:"
   ]
  },
  {
   "cell_type": "code",
   "execution_count": null,
   "metadata": {},
   "outputs": [],
   "source": [
    "listings_df['price'].str.replace('$', '', regex=False)"
   ]
  },
  {
   "cell_type": "markdown",
   "metadata": {},
   "source": [
    "We can “chain” additional method calls on the results of previous method\n",
    "calls to replace commas and convert the column data type from string to\n",
    "float:"
   ]
  },
  {
   "cell_type": "code",
   "execution_count": null,
   "metadata": {},
   "outputs": [],
   "source": [
    "listings_df['price'].str.replace('$', '', regex=False).str.replace(',', '', regex=False).astype(float)"
   ]
  },
  {
   "cell_type": "code",
   "execution_count": null,
   "metadata": {},
   "outputs": [],
   "source": [
    "listings_df['price'] = listings_df['price'].str.replace('$', '', regex=False).str.replace(',', '', regex=False).astype(float)"
   ]
  },
  {
   "cell_type": "code",
   "execution_count": null,
   "metadata": {},
   "outputs": [],
   "source": [
    "listings_df.info()"
   ]
  },
  {
   "cell_type": "code",
   "execution_count": null,
   "metadata": {},
   "outputs": [],
   "source": [
    "listings_df"
   ]
  },
  {
   "cell_type": "markdown",
   "metadata": {},
   "source": [
    "### Summary Statistics\n",
    "\n",
    "We can get summary statistics for all numeric columns:"
   ]
  },
  {
   "cell_type": "code",
   "execution_count": null,
   "metadata": {},
   "outputs": [],
   "source": [
    "listings_df.describe()"
   ]
  },
  {
   "cell_type": "markdown",
   "metadata": {},
   "source": [
    "And we can get specific summary statistics for column’s individually:"
   ]
  },
  {
   "cell_type": "code",
   "execution_count": null,
   "metadata": {},
   "outputs": [],
   "source": [
    "listings_df['last_review'].max()"
   ]
  },
  {
   "cell_type": "code",
   "execution_count": null,
   "metadata": {},
   "outputs": [],
   "source": [
    "listings_df['review_scores_rating'].mean()"
   ]
  }
 ],
 "metadata": {
  "kernelspec": {
   "display_name": "Python (Pyodide)",
   "language": "python",
   "name": "python"
  },
  "language_info": {
   "codemirror_mode": {
    "name": "python",
    "version": "3"
   },
   "file_extension": ".py",
   "mimetype": "text/x-python",
   "name": "python",
   "nbconvert_exporter": "python",
   "pygments_lexer": "ipython3",
   "version": "3.8"
  }
 },
 "nbformat": 4,
 "nbformat_minor": 4
}
