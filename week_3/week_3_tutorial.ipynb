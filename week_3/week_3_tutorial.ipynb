{
 "cells": [
  {
   "cell_type": "markdown",
   "metadata": {},
   "source": [
    "This week’s tutorial will cover:\n",
    "\n",
    "-   A review of functions\n",
    "-   Working with built-in and third party libraries\n",
    "-   Loading and exploring tabular data with Pandas\n",
    "\n",
    "It is based on:\n",
    "\n",
    "-   [swcarpentry.github.io/python-novice-gapminder/04-built-in.html](https://swcarpentry.github.io/python-novice-gapminder/04-built-in.html)\n",
    "-   [swcarpentry.github.io/python-novice-gapminder/06-libraries.html](https://swcarpentry.github.io/python-novice-gapminder/06-libraries.html)\n",
    "-   [swcarpentry.github.io/python-novice-gapminder/07-reading-tabular.html](https://swcarpentry.github.io/python-novice-gapminder/07-reading-tabular.html)\n",
    "-   [swcarpentry.github.io/python-novice-gapminder/08-data-frames.html](https://swcarpentry.github.io/python-novice-gapminder/08-data-frames.html)\n",
    "\n",
    "> DEMO-ONLY TUTORIAL BEGINS HERE\n",
    "\n",
    "## Functions\n",
    "\n",
    "We’ve used functions in previous tutorials, but we’re going to start\n",
    "using a lot more of them, so lets summarise their key facts:\n",
    "\n",
    "**Functions are like small Python scripts that we can *call* to perform\n",
    "some operation or return some value.**\n",
    "\n",
    "**Functions are *called* using parentheses, with *arguments* inside the\n",
    "parentheses.**"
   ]
  },
  {
   "cell_type": "code",
   "execution_count": null,
   "metadata": {},
   "outputs": [],
   "source": [
    "print('hello')"
   ]
  },
  {
   "cell_type": "markdown",
   "metadata": {},
   "source": [
    "Using a function’s name without parentheses refers to the function\n",
    "itself *as* a value:"
   ]
  },
  {
   "cell_type": "code",
   "execution_count": null,
   "metadata": {},
   "outputs": [],
   "source": [
    "print"
   ]
  },
  {
   "cell_type": "markdown",
   "metadata": {},
   "source": [
    "**Functions attached to values are called *methods***"
   ]
  },
  {
   "cell_type": "code",
   "execution_count": null,
   "metadata": {},
   "outputs": [],
   "source": [
    "'hello'.upper()"
   ]
  },
  {
   "cell_type": "markdown",
   "metadata": {},
   "source": [
    "**Some functions take multiple arguments**"
   ]
  },
  {
   "cell_type": "code",
   "execution_count": null,
   "metadata": {},
   "outputs": [],
   "source": [
    "round(3.14159, 2)"
   ]
  },
  {
   "cell_type": "markdown",
   "metadata": {},
   "source": [
    "**Functions may have default values for some arguments**\n",
    "\n",
    "`round()` defaults to rounding a number to zero decimal places:"
   ]
  },
  {
   "cell_type": "code",
   "execution_count": null,
   "metadata": {},
   "outputs": [],
   "source": [
    "round(3.14159)"
   ]
  },
  {
   "cell_type": "markdown",
   "metadata": {},
   "source": [
    "**Every function returns a value**\n",
    "\n",
    "Even functions that don’t seem to return a value (like `print`) actually\n",
    "return a special value called `None` (similar to `null` in SQL or other\n",
    "languages):"
   ]
  },
  {
   "cell_type": "code",
   "execution_count": null,
   "metadata": {},
   "outputs": [],
   "source": [
    "returned_value = print('hello')"
   ]
  },
  {
   "cell_type": "code",
   "execution_count": null,
   "metadata": {},
   "outputs": [],
   "source": [
    "returned_value"
   ]
  },
  {
   "cell_type": "code",
   "execution_count": null,
   "metadata": {},
   "outputs": [],
   "source": [
    "type(returned_value)"
   ]
  },
  {
   "cell_type": "markdown",
   "metadata": {},
   "source": [
    "**Functions accept named arguments (and some require it):**"
   ]
  },
  {
   "cell_type": "code",
   "execution_count": null,
   "metadata": {},
   "outputs": [],
   "source": [
    "round(3.14159, ndigits=2)"
   ]
  },
  {
   "cell_type": "markdown",
   "metadata": {},
   "source": [
    "**Use the built-in function help to get help for a function**"
   ]
  },
  {
   "cell_type": "code",
   "execution_count": null,
   "metadata": {},
   "outputs": [],
   "source": [
    "help(round)"
   ]
  },
  {
   "cell_type": "code",
   "execution_count": null,
   "metadata": {},
   "outputs": [],
   "source": [
    "help('hello'.upper)"
   ]
  },
  {
   "cell_type": "markdown",
   "metadata": {},
   "source": [
    "**Use `dir()` and `dir(__builtins__)` to list available functions (and\n",
    "non-function variables)**"
   ]
  },
  {
   "cell_type": "code",
   "execution_count": null,
   "metadata": {},
   "outputs": [],
   "source": [
    "dir()"
   ]
  },
  {
   "cell_type": "code",
   "execution_count": null,
   "metadata": {},
   "outputs": [],
   "source": [
    "dir(__builtins__)"
   ]
  },
  {
   "cell_type": "markdown",
   "metadata": {},
   "source": [
    "> Don’t worry about the underscored names\n",
    "\n",
    "**Use `dir(some_value)` to list methods (and non-function variables\n",
    "called attributes) of a value**"
   ]
  },
  {
   "cell_type": "code",
   "execution_count": null,
   "metadata": {},
   "outputs": [],
   "source": [
    "dir('hello')"
   ]
  },
  {
   "cell_type": "markdown",
   "metadata": {},
   "source": [
    "-   See\n",
    "    [docs.python.org/3/library/functions.html](https://docs.python.org/3/library/functions.html)\n",
    "    for more about functions that are built-in and always available in\n",
    "    Python.\n",
    "-   A key power of Python is that you can define your own functions as\n",
    "    Python code to execute when the function is called.\n",
    "\n",
    "## Modules and Libraries\n",
    "\n",
    "To get more functions (and other things) to use in Python, you can\n",
    "import **modules**, which are just files of Python code.\n",
    "\n",
    "To use the contents of a module, we must import it once (usually at the\n",
    "top of our notebook or script):"
   ]
  },
  {
   "cell_type": "code",
   "execution_count": null,
   "metadata": {},
   "outputs": [],
   "source": [
    "import math"
   ]
  },
  {
   "cell_type": "markdown",
   "metadata": {},
   "source": [
    "Then we can use functions and variables from the module:"
   ]
  },
  {
   "cell_type": "code",
   "execution_count": null,
   "metadata": {},
   "outputs": [],
   "source": [
    "math.pi"
   ]
  },
  {
   "cell_type": "code",
   "execution_count": null,
   "metadata": {},
   "outputs": [],
   "source": [
    "math.sqrt(4)"
   ]
  },
  {
   "cell_type": "markdown",
   "metadata": {},
   "source": [
    "We can use the `help()` function to find out what is available in a\n",
    "module:"
   ]
  },
  {
   "cell_type": "code",
   "execution_count": null,
   "metadata": {},
   "outputs": [],
   "source": [
    "help(math)"
   ]
  },
  {
   "cell_type": "markdown",
   "metadata": {},
   "source": [
    "Sometimes we want to import only certain functions or variables from a\n",
    "module…"
   ]
  },
  {
   "cell_type": "code",
   "execution_count": null,
   "metadata": {},
   "outputs": [],
   "source": [
    "from math import pi, e"
   ]
  },
  {
   "cell_type": "markdown",
   "metadata": {},
   "source": [
    "Or import the module under an aliased name…"
   ]
  },
  {
   "cell_type": "code",
   "execution_count": null,
   "metadata": {},
   "outputs": [],
   "source": [
    "import pandas as pd"
   ]
  },
  {
   "cell_type": "markdown",
   "metadata": {},
   "source": [
    "-   `math` is one of the many modules in Python’s **standard library**,\n",
    "    which is well known for its extensive functionality.\n",
    "    -   You can find out more about the modules available at:\n",
    "        [docs.python.org/3/library](https://docs.python.org/3/library/index.html)\n",
    "-   Python is also well known for its many **3rd party libraries** that\n",
    "    provide more modules, but before they can be imported they must be\n",
    "    downloaded to your computer.\n",
    "    -   You can search for available Python libraries at:\n",
    "        [pypi.org](https://pypi.org/)\n",
    "\n",
    "3rd party Python libraries can be downloaded with `pip`, which can be\n",
    "run as follows in a notebook:"
   ]
  },
  {
   "cell_type": "code",
   "execution_count": null,
   "metadata": {},
   "outputs": [],
   "source": [
    "%pip install pandas"
   ]
  },
  {
   "cell_type": "markdown",
   "metadata": {},
   "source": [
    "> **Anyone** can publish a 3rd party library, so it’s prudent to ask the\n",
    "> following questions before installing a library:\n",
    ">\n",
    "> -   Has someone you trust recommended this library?\n",
    "> -   Is there concrete evidence of an active user base for this\n",
    ">     library?\n",
    "> -   Am I sure I am spelling the library’s name correctly? (malicious\n",
    ">     users have been known to publish “typo-squatting” libraries with\n",
    ">     similar names to popular libraries)\n",
    "\n",
    "The webpage for a library on `pypi.org` will often have links to:\n",
    "\n",
    "-   A **GitHub (or similar) page** where you can read the library’s\n",
    "    code, report issues, and contribute improvements.\n",
    "-   A **quick start** to briefly demonstrate you how to use the library\n",
    "-   More extensive **documentation** or an **API reference** that\n",
    "    documents all the functions and capabilities of the library.\n",
    "\n",
    "For example, check out:\n",
    "[pypi.org/project/pandas](https://pypi.org/project/pandas/)\n",
    "\n",
    "> FOLLOW-ALONG TUTORIAL BEGINS HERE\n",
    "\n",
    "## Setup\n",
    "\n",
    "<!--\n",
    "Let's start by getting some data to analyse:\n",
    "\n",
    "1. MAKE A BACKUP OF YOUR EXISTING NOTEBOOKS\n",
    "   * I have observed a bug with JupyterLite deleting files when\n",
    "     working with CSV files\n",
    "2. Use the link on\n",
    "   [pynoon.github.io/schedule](https://pynoon.github.io/schedule/) to\n",
    "   open `inside_airbnb_listings_nz_2023_09.csv`\n",
    "   * Look at the data dictionary linked to from that page to learn\n",
    "     what each column means.\n",
    "3. Double-click on the file in the file browser to view it in\n",
    "   JupyterLite.\n",
    "-->\n",
    "\n",
    "1.  Make a new notebook for this week\n",
    "2.  What’s the first thing to do? RENAME IT!\n",
    "3.  Name it `week3.ipynb`\n",
    "\n",
    "Let’s look at the data we’re going to analyse:\n",
    "\n",
    "Use the link\n",
    "on[pynoon.github.io/schedule](https://pynoon.github.io/schedule/) to\n",
    "open `inside_airbnb_listings_nz_2023_09.csv`\n",
    "\n",
    "-   Look at the data dictionary linked to from that page to learn what\n",
    "    each column means.\n",
    "\n",
    "## Pandas DataFrames\n",
    "\n",
    "We can use the `pandas` library to work with tabular data in Python.\n",
    "\n",
    "-   Pandas is based on a lower-level maths library called `numpy`\n",
    "-   Pandas DataFrames are similar to R’s DataFrames"
   ]
  },
  {
   "cell_type": "code",
   "execution_count": null,
   "metadata": {},
   "outputs": [],
   "source": [
    "import pandas as pd"
   ]
  },
  {
   "cell_type": "markdown",
   "metadata": {},
   "source": [
    "> Importing Pandas as the alias `pd` is conventional, and saves us\n",
    "> typing out `pandas` everytime we want to use it.\n",
    "\n",
    "To load the CSV into a DataFrame:"
   ]
  },
  {
   "cell_type": "code",
   "execution_count": null,
   "metadata": {},
   "outputs": [],
   "source": [
    "listings_df = pd.read_csv('https://raw.githubusercontent.com/pynoon/curriculum/main/week_3/inside_airbnb_listings_nz_2023_09.csv')"
   ]
  },
  {
   "cell_type": "markdown",
   "metadata": {},
   "source": [
    "-   `df` is a *conventional* variable suffix for a DataFrame.\n",
    "-   Pandas has many different `read_*` functions for reading from\n",
    "    different types of files (e.g. `read_excel()`, `read_parquet()`)."
   ]
  },
  {
   "cell_type": "code",
   "execution_count": null,
   "metadata": {},
   "outputs": [],
   "source": [
    "type(listings_df)"
   ]
  },
  {
   "cell_type": "markdown",
   "metadata": {},
   "source": [
    "Let’s look at the DataFrame:"
   ]
  },
  {
   "cell_type": "code",
   "execution_count": null,
   "metadata": {},
   "outputs": [],
   "source": [
    "listings_df"
   ]
  },
  {
   "cell_type": "markdown",
   "metadata": {},
   "source": [
    "> Only a few rows from the top and bottom of the DataFrame are shown\n",
    "\n",
    "We can sort the DataFrame by a column:"
   ]
  },
  {
   "cell_type": "code",
   "execution_count": null,
   "metadata": {},
   "outputs": [],
   "source": [
    "listings_df.sort_values('review_scores_rating')"
   ]
  },
  {
   "cell_type": "markdown",
   "metadata": {},
   "source": [
    "> Note: This doesn’t change the original DataFrame, it produced a new\n",
    "> DataFrame that is sorted\n",
    "\n",
    "We can extract a single column from the DataFrame:"
   ]
  },
  {
   "cell_type": "code",
   "execution_count": null,
   "metadata": {},
   "outputs": [],
   "source": [
    "listings_df['name']"
   ]
  },
  {
   "cell_type": "markdown",
   "metadata": {},
   "source": [
    "The type of a single column or row from a Pandas `DataFrame` is a\n",
    "`Series`:"
   ]
  },
  {
   "cell_type": "code",
   "execution_count": null,
   "metadata": {},
   "outputs": [],
   "source": [
    "type(listings_df['name'])"
   ]
  },
  {
   "cell_type": "markdown",
   "metadata": {},
   "source": [
    "Also handy to get a new DataFrame that only contains a subset of\n",
    "columns:"
   ]
  },
  {
   "cell_type": "code",
   "execution_count": null,
   "metadata": {},
   "outputs": [],
   "source": [
    "listings_df[['latitude', 'longitude']]"
   ]
  },
  {
   "cell_type": "markdown",
   "metadata": {},
   "source": [
    "### Column Types and Data Preparation\n",
    "\n",
    "Every column has a type of value stored in it:"
   ]
  },
  {
   "cell_type": "code",
   "execution_count": null,
   "metadata": {},
   "outputs": [],
   "source": [
    "listings_df.info()"
   ]
  },
  {
   "cell_type": "markdown",
   "metadata": {},
   "source": [
    "-   Numeric types have been automatically inferred by Pandas\n",
    "-   Non-numeric types like strings are listed as `object` (we only have\n",
    "    strings here)\n",
    "-   Some types aren’t what we want\n",
    "\n",
    "We can convert date columns from strings to dates:"
   ]
  },
  {
   "cell_type": "code",
   "execution_count": null,
   "metadata": {},
   "outputs": [],
   "source": [
    "pd.to_datetime(listings_df['host_since'])"
   ]
  },
  {
   "cell_type": "markdown",
   "metadata": {},
   "source": [
    "We must assign the transformed columns to replace the original columns:"
   ]
  },
  {
   "cell_type": "code",
   "execution_count": null,
   "metadata": {},
   "outputs": [],
   "source": [
    "listings_df['host_since'] = pd.to_datetime(listings_df['host_since'])\n",
    "listings_df['last_review'] = pd.to_datetime(listings_df['last_review'])"
   ]
  },
  {
   "cell_type": "code",
   "execution_count": null,
   "metadata": {},
   "outputs": [],
   "source": [
    "listings_df.info()"
   ]
  },
  {
   "cell_type": "code",
   "execution_count": null,
   "metadata": {},
   "outputs": [],
   "source": [
    "listings_df"
   ]
  },
  {
   "cell_type": "markdown",
   "metadata": {},
   "source": [
    "We can also remove the dollar sign from each price:"
   ]
  },
  {
   "cell_type": "code",
   "execution_count": null,
   "metadata": {},
   "outputs": [],
   "source": [
    "listings_df['price'].str.replace('$', '', regex=False)"
   ]
  },
  {
   "cell_type": "markdown",
   "metadata": {},
   "source": [
    "We can “chain” additional method calls on the results of previous method\n",
    "calls to replace commas and convert the column data type from string to\n",
    "float:"
   ]
  },
  {
   "cell_type": "code",
   "execution_count": null,
   "metadata": {},
   "outputs": [],
   "source": [
    "listings_df['price'].str.replace('$', '', regex=False).str.replace(',', '', regex=False).astype(float)"
   ]
  },
  {
   "cell_type": "code",
   "execution_count": null,
   "metadata": {},
   "outputs": [],
   "source": [
    "listings_df['price'] = listings_df['price'].str.replace('$', '', regex=False).str.replace(',', '', regex=False).astype(float)"
   ]
  },
  {
   "cell_type": "code",
   "execution_count": null,
   "metadata": {},
   "outputs": [],
   "source": [
    "listings_df.info()"
   ]
  },
  {
   "cell_type": "code",
   "execution_count": null,
   "metadata": {},
   "outputs": [],
   "source": [
    "listings_df"
   ]
  },
  {
   "cell_type": "markdown",
   "metadata": {},
   "source": [
    "### Summary Statistics\n",
    "\n",
    "We can get summary statistics for all numeric columns:"
   ]
  },
  {
   "cell_type": "code",
   "execution_count": null,
   "metadata": {},
   "outputs": [],
   "source": [
    "listings_df.describe()"
   ]
  },
  {
   "cell_type": "markdown",
   "metadata": {},
   "source": [
    "And we can get specific summary statistics for column’s individually:"
   ]
  },
  {
   "cell_type": "code",
   "execution_count": null,
   "metadata": {},
   "outputs": [],
   "source": [
    "listings_df['last_review'].max()"
   ]
  },
  {
   "cell_type": "code",
   "execution_count": null,
   "metadata": {},
   "outputs": [],
   "source": [
    "listings_df['review_scores_rating'].mean()"
   ]
  },
  {
   "cell_type": "markdown",
   "metadata": {},
   "source": [
    "### Plotting Demo\n",
    "\n",
    "As a quick demo of the power of DataFrames, we can install and use the\n",
    "Plotly library to create plots from DataFrame columns:"
   ]
  },
  {
   "cell_type": "code",
   "execution_count": null,
   "metadata": {},
   "outputs": [],
   "source": [
    "%pip install plotly nbformat"
   ]
  },
  {
   "cell_type": "code",
   "execution_count": null,
   "metadata": {},
   "outputs": [],
   "source": [
    "import plotly.express as px"
   ]
  },
  {
   "cell_type": "code",
   "execution_count": null,
   "metadata": {},
   "outputs": [],
   "source": [
    "px.scatter(listings_df, x='longitude, y='latitude')"
   ]
  },
  {
   "cell_type": "code",
   "execution_count": null,
   "metadata": {},
   "outputs": [],
   "source": [
    "px.histogram(listings_df, x='price')"
   ]
  },
  {
   "cell_type": "markdown",
   "metadata": {},
   "source": [
    "<!--\n",
    "### DataFrame Indexing and Slicing\n",
    "\n",
    "* The first \"column\" in the DataFrame is the *index*, which defaults to incrementing\n",
    "  integers\n",
    "* Like how each column has a name, the *index* is the \"name\" of each\n",
    "  row\n",
    "* We can assign a column to be the index of a DataFrame:\n",
    "\n",
    "```code\n",
    "listings_df = listings_df.set_index('id')\n",
    "```\n",
    "\n",
    "```code\n",
    "listings_df\n",
    "```\n",
    "\n",
    "Why do we need to assign the result of `set_index()`?\n",
    "\n",
    "* Calling `.set_index()` does not change the original DataFrame value\n",
    "* Calling `.set_index()` returns a **new DataFrame value** with the\n",
    "  index changed, which we then assign to the original variable.\n",
    "* Most Pandas methods return a new value rather than changing the\n",
    "  original value.\n",
    "\n",
    "\n",
    "**We can perform indexing and slicing on DataFrames using `.iloc`:**\n",
    "\n",
    "To get the first row:\n",
    "\n",
    "```code\n",
    "listings_df.iloc[0]\n",
    "```\n",
    "\n",
    "To get the second column in the first row:\n",
    "\n",
    "```code\n",
    "listings_df.iloc[0, 1]\n",
    "```\n",
    "\n",
    "To get the second column of the first five rows:\n",
    "\n",
    "```code\n",
    "listings_df.iloc[0:5, 1]\n",
    "```\n",
    "\n",
    "To get the second column of all rows:\n",
    "\n",
    "```code\n",
    "listings_df.iloc[:, 1]\n",
    "```\n",
    "\n",
    "**We can also index and slice rows and columns by their names:**\n",
    "\n",
    "To get a single row by it's name in the index:\n",
    "\n",
    "```code\n",
    "listings_df.loc['l9995141']\n",
    "```\n",
    "\n",
    "To get several rows by their names:\n",
    "\n",
    "```code\n",
    "listings_df.loc[['l9995141', 'l12026015', 'l44688136']]\n",
    "```\n",
    "\n",
    "> While you can use `:` slicing to specify a start and end names for a\n",
    "> range, it is more common to specify a list of names.\n",
    "\n",
    "To get the `name` column of all rows:\n",
    "\n",
    "```code\n",
    "listings_df.loc[:, 'name']\n",
    "```\n",
    "-->"
   ]
  }
 ],
 "metadata": {
  "kernelspec": {
   "display_name": "Python (Pyodide)",
   "language": "python",
   "name": "python"
  },
  "language_info": {
   "codemirror_mode": {
    "name": "python",
    "version": "3"
   },
   "file_extension": ".py",
   "mimetype": "text/x-python",
   "name": "python",
   "nbconvert_exporter": "python",
   "pygments_lexer": "ipython3",
   "version": "3.8"
  }
 },
 "nbformat": 4,
 "nbformat_minor": 4
}
