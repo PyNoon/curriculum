{
 "cells": [
  {
   "cell_type": "markdown",
   "metadata": {},
   "source": [
    "This week’s tutorial will cover use of AI models, loading data from text\n",
    "files, and constructing DataFrames.\n",
    "\n",
    "## Setup\n",
    "\n",
    "1.  Make a new notebook for this week\n",
    "2.  What’s the first thing to do? RENAME IT!\n",
    "3.  Name it `week9.ipynb`\n",
    "\n",
    "## Using AI models from Python\n",
    "\n",
    "-   Let’s use an AI model to assign a label to a string of text!\n",
    "-   [huggingface.co](https://huggingface.co/) has LOTS of AI models\n",
    "    available for different tasks that we can download and use.\n",
    "-   In this case, we’ll use a zero-shot classification model that picks\n",
    "    which of a provided list of labels best fits a text snippet we\n",
    "    provide.\n",
    "\n",
    "> Normally we’d have to install `transformers` and its dependency\n",
    "> `torch` using `pip`, but Colab already has these installed."
   ]
  },
  {
   "cell_type": "code",
   "execution_count": null,
   "metadata": {},
   "outputs": [],
   "source": [
    "from transformers import pipeline\n",
    "\n",
    "classifier = pipeline('zero-shot-classification', model='facebook/bart-large-mnli')\n",
    "\n",
    "text_to_classify = 'one day I will see the world'\n",
    "classifier(\n",
    "    text_to_classify,\n",
    "    candidate_labels=['travel', 'cooking', 'technology'],\n",
    ")"
   ]
  },
  {
   "cell_type": "markdown",
   "metadata": {},
   "source": [
    "-   We can see that the model thinks that `travel` is the best fit,\n",
    "    which seems reasonable.\n",
    "    -   Though AI models won’t always give reasonable responses!\n",
    "-   The output is given as a dictionary, which you’ll learn more about\n",
    "    in this week’s Futurecoder lesson.\n",
    "-   Let’s create a function that we can use to call the classifier with\n",
    "    a single argument - the text to classify:"
   ]
  },
  {
   "cell_type": "code",
   "execution_count": null,
   "metadata": {},
   "outputs": [],
   "source": [
    "from transformers import pipeline\n",
    "\n",
    "classifier = pipeline('zero-shot-classification', model='facebook/bart-large-mnli')\n",
    "\n",
    "def classify_text(text_to_classify):\n",
    "    result = classifier(\n",
    "        text_to_classify,\n",
    "        candidate_labels=['travel', 'cooking', 'dancing'],\n",
    "    )\n",
    "    return result['labels'][0]\n",
    "\n",
    "classify_text('one day I will see the world')"
   ]
  },
  {
   "cell_type": "markdown",
   "metadata": {},
   "source": [
    "## Converting a file of addresses to a DataFrame of address details\n",
    "\n",
    "-   Now let’s classify a text file of blog post titles to produce a\n",
    "    DataFrame of classification labels\n",
    "\n",
    "-   Download `titles.txt` from:\n",
    "    [pynoon.github.io/curriculum/week_9/titles.txt](https://pynoon.github.io/curriculum/week_9/titles.txt)\n",
    "\n",
    "-   Click the folder icon on the left side of the Colab interface, then\n",
    "    use the upload button to upload `titles.txt`\n",
    "\n",
    "-   Now, we can use `open()` to load\n",
    "\n",
    "-   `open()` should be used with a `with` statement so that the file is\n",
    "    automatically closed when we’re finished with it:"
   ]
  },
  {
   "cell_type": "code",
   "execution_count": null,
   "metadata": {},
   "outputs": [],
   "source": [
    "with open(titles.txt') as titles_file:\n",
    "    titles = titles_file.readlines()"
   ]
  },
  {
   "cell_type": "markdown",
   "metadata": {},
   "source": [
    "`.readlines()` has provided us with a list of strings representing each\n",
    "line in the file:"
   ]
  },
  {
   "cell_type": "code",
   "execution_count": null,
   "metadata": {},
   "outputs": [],
   "source": [
    "titles"
   ]
  },
  {
   "cell_type": "markdown",
   "metadata": {},
   "source": [
    "We can use a list comprehension to transform each value in a list:"
   ]
  },
  {
   "cell_type": "code",
   "execution_count": null,
   "metadata": {},
   "outputs": [],
   "source": [
    "[len(title) for title in titles]"
   ]
  },
  {
   "cell_type": "markdown",
   "metadata": {},
   "source": [
    "We can use a list comprehension to construct a list of dictionaries,\n",
    "where each dictionary contains the title and its label:"
   ]
  },
  {
   "cell_type": "code",
   "execution_count": null,
   "metadata": {},
   "outputs": [],
   "source": [
    "title_details = [\n",
    "    {\n",
    "        'title': title,\n",
    "        'label': classify_text(title),\n",
    "    }\n",
    "    for title in titles\n",
    "]"
   ]
  },
  {
   "cell_type": "markdown",
   "metadata": {},
   "source": [
    "-   `pd.DataFrame` can be used to construct a DataFrame from a list of\n",
    "    dictionaries like `title_details`.\n",
    "-   Each dictionary should represent the values for each column in a\n",
    "    given row."
   ]
  },
  {
   "cell_type": "code",
   "execution_count": null,
   "metadata": {},
   "outputs": [],
   "source": [
    "import pandas as pd\n",
    "\n",
    "title_df = pd.DataFrame(title_details)\n",
    "title_df"
   ]
  },
  {
   "cell_type": "markdown",
   "metadata": {},
   "source": [
    "-   Processing a text file line-by-line to construct a DataFrame like\n",
    "    this is a common pattern that is useful in many situations."
   ]
  }
 ],
 "metadata": {
  "kernelspec": {
   "display_name": "Python (Pyodide)",
   "language": "python",
   "name": "python"
  },
  "language_info": {
   "codemirror_mode": {
    "name": "python",
    "version": "3"
   },
   "file_extension": ".py",
   "mimetype": "text/x-python",
   "name": "python",
   "nbconvert_exporter": "python",
   "pygments_lexer": "ipython3",
   "version": "3.8"
  }
 },
 "nbformat": 4,
 "nbformat_minor": 4
}
