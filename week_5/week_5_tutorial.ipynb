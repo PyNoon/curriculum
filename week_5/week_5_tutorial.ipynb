{
 "cells": [
  {
   "cell_type": "markdown",
   "metadata": {},
   "source": [
    "This week’s tutorial will cover grouping and summarising data with\n",
    "Pandas and Plotly, and handling missing data with Pandas.\n",
    "\n",
    "It is based on:\n",
    "\n",
    "-   [swcarpentry.github.io/python-novice-gapminder/08-data-frames.html](https://swcarpentry.github.io/python-novice-gapminder/08-data-frames.html)\n",
    "-   [swcarpentry.github.io/python-novice-gapminder/09-plotting.html](https://swcarpentry.github.io/python-novice-gapminder/09-plotting.html)\n",
    "\n",
    "## Setup\n",
    "\n",
    "1.  Make a new notebook for this week\n",
    "2.  What’s the first thing to do? RENAME IT!\n",
    "3.  Name it `week5.ipynb`\n",
    "\n",
    "## Load Data into Pandas\n",
    "\n",
    "As we did last week, let’s load the Pandas and Plotly libraries, and\n",
    "load our AirBnB listings data into Pandas:"
   ]
  },
  {
   "cell_type": "code",
   "execution_count": null,
   "metadata": {},
   "outputs": [],
   "source": [
    "import pandas as pd\n",
    "import plotly.express as px"
   ]
  },
  {
   "cell_type": "code",
   "execution_count": null,
   "metadata": {},
   "outputs": [],
   "source": [
    "listings_df = pd.read_csv('https://pynoon.github.io/data/inside_airbnb_listings_nz_2023_09.csv')\n",
    "listings_df"
   ]
  },
  {
   "cell_type": "markdown",
   "metadata": {},
   "source": [
    "We can see how big the DataFrame is using `.shape`:\n",
    "\n",
    "    listing_groups_df.shape\n",
    "\n",
    "We can also see what columns we have available to work with:"
   ]
  },
  {
   "cell_type": "code",
   "execution_count": null,
   "metadata": {},
   "outputs": [],
   "source": [
    "listings_df.columns"
   ]
  },
  {
   "cell_type": "markdown",
   "metadata": {},
   "source": [
    "## Grouping Data in Plotly\n",
    "\n",
    "When analysing data, we often want to compare different groups.\n",
    "\n",
    "One simple way is to colour data points by a categorical column when\n",
    "plotting. For example, colouring listings by their room type:"
   ]
  },
  {
   "cell_type": "code",
   "execution_count": null,
   "metadata": {},
   "outputs": [],
   "source": [
    "px.geo_scatter(listings_df, x='longitude', y='latitude', color='room_type')"
   ]
  },
  {
   "cell_type": "markdown",
   "metadata": {},
   "source": [
    "We can also specify a categorical column as a `facet_row` or `facet_col`\n",
    "to generate a separate graph for data points having each “facet” value.\n",
    "\n",
    "In the plot below, note that we:\n",
    "\n",
    "-   Sort the data by the `accommodates`, so that the facet plots are\n",
    "    sorted by value.\n",
    "-   Increase the height of the output to better view the large number of\n",
    "    plots.\n",
    "-   Set `histnorm='percent'` so that groups with few data points still\n",
    "    have a “full size” plot."
   ]
  },
  {
   "cell_type": "code",
   "execution_count": null,
   "metadata": {},
   "outputs": [],
   "source": [
    "px.histogram(\n",
    "    listings_df.sort_values(by='accommodates'),\n",
    "    x='price_nzd',\n",
    "    facet_row='accommodates',\n",
    "    height=2000,\n",
    "    histnorm='percent',\n",
    ")"
   ]
  },
  {
   "cell_type": "markdown",
   "metadata": {},
   "source": [
    "It can be useful to compute our own categorical columns, such as to\n",
    "compare one category against all others:"
   ]
  },
  {
   "cell_type": "code",
   "execution_count": null,
   "metadata": {},
   "outputs": [],
   "source": [
    "listings_df['is_queenstown'] = listings_df['region_parent_name'] == 'Queenstown-Lakes District'\n",
    "px.histogram(\n",
    "    listings_df,\n",
    "    x='price_nzd',\n",
    "    facet_row='is_queenstown',\n",
    "    histnorm='percent',\n",
    ")"
   ]
  },
  {
   "cell_type": "markdown",
   "metadata": {},
   "source": [
    "## Grouping Data in Pandas\n",
    "\n",
    "We can also use Pandas’ `groupby()` to split up a DataFrame according to\n",
    "a categorical attribute:"
   ]
  },
  {
   "cell_type": "code",
   "execution_count": null,
   "metadata": {},
   "outputs": [],
   "source": [
    "for accommodates, accommodates_group_df in listings_df.groupby('accommodates'):\n",
    "    print('Accommodates:', accommodates)\n",
    "    display(accommodates_group_df)"
   ]
  },
  {
   "cell_type": "markdown",
   "metadata": {},
   "source": [
    "`groupby()` can also be used to produce a DataFrame of aggregate\n",
    "statistics for each group. In the following, see how we:\n",
    "\n",
    "-   Specify the columns from which to create a group for each\n",
    "    combinations of values (`['accommodates', 'room_type']`)\n",
    "-   Use indexing to select a list of columns to calculate the statistic\n",
    "    for (`['price_nzd', 'review_scores_rating']`)\n",
    "-   Choose a statistic to calculate: `mean()`\n",
    "    -   You can also compute `sum()`, `std()`, and more."
   ]
  },
  {
   "cell_type": "code",
   "execution_count": null,
   "metadata": {},
   "outputs": [],
   "source": [
    "listings_df.groupby(['accommodates', 'room_type'])[['price_nzd', 'review_scores_rating']].mean()"
   ]
  },
  {
   "cell_type": "markdown",
   "metadata": {},
   "source": [
    "Note that `groupby()` turns the group columns into an *index*. We can\n",
    "turn it back into a regular column with `reset_index()`:"
   ]
  },
  {
   "cell_type": "code",
   "execution_count": null,
   "metadata": {},
   "outputs": [],
   "source": [
    "listing_groups_df = listings_df.groupby(['accommodates', 'room_type'])[['price_nzd', 'review_scores_rating']].mean().reset_index()\n",
    "listing_groups_df"
   ]
  },
  {
   "cell_type": "markdown",
   "metadata": {},
   "source": [
    "Such DataFrames produced with `groupby()` can be very useful for\n",
    "producing plots of statistics, like bar charts:\n",
    "\n",
    "    px.bar(\n",
    "        listing_groups_df,\n",
    "        x='accommodates',\n",
    "        y='price_nzd',\n",
    "        color='room_type',\n",
    "        barmode='group',\n",
    "        title='Mean Price',\n",
    "    )\n",
    "\n",
    "We can also export our new DataFrame to a CSV file:\n",
    "\n",
    "    listing_groups_df.to_csv('listing_groups.csv')\n",
    "\n",
    "## Handling Missing Data in Pandas\n",
    "\n",
    "We can also use `.count()` to count the number of rows in each group,\n",
    "but notice that the count for the rating column is less than the price\n",
    "column:\n",
    "\n",
    "    listings_df.groupby('accommodates')[['price_nzd', 'review_scores_rating']].count().reset_index()\n",
    "\n",
    "This is because there are `missing` (aka `null`, aka `NA`) values in the\n",
    "rating column that are ignored by `count()`.\n",
    "\n",
    "We can use `isna()` to get a mask of rows where a value is missing:\n",
    "\n",
    "    listings_df['review_scores_rating'].isna()\n",
    "\n",
    "    listings_df[listings_df['review_scores_rating'].isna()]\n",
    "\n",
    "We can then invert the mask with `~` and filter out rows with missing\n",
    "values:\n",
    "\n",
    "    listings_df[~listings_df['review_scores_rating'].isna()]\n",
    "\n",
    "Alternatively, we can use `fillna()` to replace missing values with a\n",
    "fixed value. For example, we make want to consider un-reviewed listings\n",
    "with a mid-point rating:\n",
    "\n",
    "    listings_df['review_scores_rating_filled'] = listings_df['review_scores_rating'].fillna(2.5)\n",
    "\n",
    "Finally, `dropna()` on a DataFrame can be used to simply remove any rows\n",
    "where any column contains a missing value:\n",
    "\n",
    "    listings_df.dropna()"
   ]
  }
 ],
 "metadata": {
  "kernelspec": {
   "display_name": "Python (Pyodide)",
   "language": "python",
   "name": "python"
  },
  "language_info": {
   "codemirror_mode": {
    "name": "python",
    "version": "3"
   },
   "file_extension": ".py",
   "mimetype": "text/x-python",
   "name": "python",
   "nbconvert_exporter": "python",
   "pygments_lexer": "ipython3",
   "version": "3.8"
  }
 },
 "nbformat": 4,
 "nbformat_minor": 4
}
