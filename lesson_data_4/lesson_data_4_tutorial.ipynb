{
 "cells": [
  {
   "cell_type": "markdown",
   "metadata": {},
   "source": [
    "This tutorial will cover defining and using your own functions, and\n",
    "reducing duplication in your code.\n",
    "\n",
    "It is based on:\n",
    "\n",
    "-   [swcarpentry.github.io/python-novice-gapminder/16-writing-functions.html](https://swcarpentry.github.io/python-novice-gapminder/16-writing-functions.html)\n",
    "\n",
    "## Setup\n",
    "\n",
    "1.  Make a new notebook for this lesson\n",
    "2.  What’s the first thing to do? RENAME IT!\n",
    "3.  Name it `pynoon_starter_3.ipynb`\n",
    "\n",
    "## Short aside: F-Strings\n",
    "\n",
    "-   F-strings allow us to insert the value of a Python variable or\n",
    "    expression into a string:"
   ]
  },
  {
   "cell_type": "code",
   "execution_count": null,
   "metadata": {},
   "outputs": [],
   "source": [
    "name = 'Ben'\n",
    "print(f'Hello {name}')\n",
    "print(f'Hello {name.upper()}')"
   ]
  },
  {
   "cell_type": "markdown",
   "metadata": {},
   "source": [
    "## Defining Functions\n",
    "\n",
    "-   One of the key ways to reduce duplication of code in our projects is\n",
    "    to define our own re-usable functions.\n",
    "-   In Python, we can use the `def` keyword to define our own functions.\n",
    "-   Any number of lines of code after the `def` line that are *indented*\n",
    "    make up the *body* of the function that is executed when the\n",
    "    function is called."
   ]
  },
  {
   "cell_type": "code",
   "execution_count": null,
   "metadata": {},
   "outputs": [],
   "source": [
    "def print_greeting():\n",
    "    print('Hello World!')\n",
    "    print('How are you?')"
   ]
  },
  {
   "cell_type": "markdown",
   "metadata": {},
   "source": [
    "Defining the function does not execute the code inside it, but we can\n",
    "call the function just like any other function:"
   ]
  },
  {
   "cell_type": "code",
   "execution_count": null,
   "metadata": {},
   "outputs": [],
   "source": [
    "print_greeting()"
   ]
  },
  {
   "cell_type": "markdown",
   "metadata": {},
   "source": [
    "-   We can write functions that accept arguments.\n",
    "-   The argument can be used just like any other variable in the\n",
    "    function’s body."
   ]
  },
  {
   "cell_type": "code",
   "execution_count": null,
   "metadata": {},
   "outputs": [],
   "source": [
    "def print_greeting(name):\n",
    "    print(f'Hello {name}!')\n",
    "    print('How are you?')"
   ]
  },
  {
   "cell_type": "code",
   "execution_count": null,
   "metadata": {},
   "outputs": [],
   "source": [
    "print_greeting('Cooper')"
   ]
  },
  {
   "cell_type": "markdown",
   "metadata": {},
   "source": [
    "-   We can write functions that return values using the `return`\n",
    "    statement.\n",
    "-   The function will immediately exit as soon as it hits any `return`\n",
    "    statement.\n",
    "-   If a function does not `return` a value, it implicitly returns the\n",
    "    value `None`."
   ]
  },
  {
   "cell_type": "code",
   "execution_count": null,
   "metadata": {},
   "outputs": [],
   "source": [
    "def shorten_description(description, max_length):\n",
    "    if len(description) > max_length:\n",
    "        short_description = description[:max_length] + '...'\n",
    "        return short_description\n",
    "    return description"
   ]
  },
  {
   "cell_type": "code",
   "execution_count": null,
   "metadata": {},
   "outputs": [],
   "source": [
    "short_description = shorten_description('This is a very long description', 10)\n",
    "short_description"
   ]
  },
  {
   "cell_type": "markdown",
   "metadata": {},
   "source": [
    "-   A benefit of functions is that we can test that they return the\n",
    "    values we expect for a variety of argument combinations.\n",
    "-   For example, let’s test that `shorten_description` returns the\n",
    "    `description` unchanged if it is equal to the `max_length`:"
   ]
  },
  {
   "cell_type": "code",
   "execution_count": null,
   "metadata": {},
   "outputs": [],
   "source": [
    "shorten_description('12345', 5) == '12345'"
   ]
  },
  {
   "cell_type": "markdown",
   "metadata": {},
   "source": [
    "-   An `assert` statement will raise an error if the Boolean expression\n",
    "    given to it returns `False`:"
   ]
  },
  {
   "cell_type": "code",
   "execution_count": null,
   "metadata": {},
   "outputs": [],
   "source": [
    "assert shorten_description('12345', 5) == '12345'"
   ]
  },
  {
   "cell_type": "markdown",
   "metadata": {},
   "source": [
    "Now let’s test that the `description` is limited to the given\n",
    "`max_length`:"
   ]
  },
  {
   "cell_type": "code",
   "execution_count": null,
   "metadata": {},
   "outputs": [],
   "source": [
    "assert shorten_description('123456789', 5) == '12...'"
   ]
  },
  {
   "cell_type": "markdown",
   "metadata": {},
   "source": [
    "Hmmm, why did that fail?"
   ]
  },
  {
   "cell_type": "code",
   "execution_count": null,
   "metadata": {},
   "outputs": [],
   "source": [
    "shorten_description('123456789', 5)"
   ]
  },
  {
   "cell_type": "markdown",
   "metadata": {},
   "source": [
    "Aha! we need take into account the length of the ellipsis:"
   ]
  },
  {
   "cell_type": "code",
   "execution_count": null,
   "metadata": {},
   "outputs": [],
   "source": [
    "def shorten_description(description, max_length):\n",
    "    if len(description) > max_length:\n",
    "        ellipsis = '...'\n",
    "        return description[:(max_length - len(ellipsis))] + ellipsis\n",
    "    return description"
   ]
  },
  {
   "cell_type": "markdown",
   "metadata": {},
   "source": [
    "## Applying functions to DataFrames\n",
    "\n",
    "-   We can apply functions to each value in a Pandas DataFrame.\n",
    "-   Let’s load our AirBnB listings data into Pandas:"
   ]
  },
  {
   "cell_type": "code",
   "execution_count": null,
   "metadata": {},
   "outputs": [],
   "source": [
    "import pandas as pd"
   ]
  },
  {
   "cell_type": "code",
   "execution_count": null,
   "metadata": {},
   "outputs": [],
   "source": [
    "listings_df = pd.read_csv('https://pynoon.github.io/data/inside_airbnb_listings_nz_2023_09.csv')\n",
    "listings_df"
   ]
  },
  {
   "cell_type": "markdown",
   "metadata": {},
   "source": [
    "To transform a listing ID into a URL, we can do the following:\n",
    "\n",
    "    id = 'l11909616'\n",
    "    f'https://www.airbnb.co.nz/rooms/{id[1:]}'\n",
    "\n",
    "Let’s define a function to transform a listing ID into a URL:"
   ]
  },
  {
   "cell_type": "code",
   "execution_count": null,
   "metadata": {},
   "outputs": [],
   "source": [
    "def id_to_url(id):\n",
    "    return f'https://www.airbnb.co.nz/rooms/{id[1:]}'"
   ]
  },
  {
   "cell_type": "code",
   "execution_count": null,
   "metadata": {},
   "outputs": [],
   "source": [
    "id_to_url('l11909616')"
   ]
  },
  {
   "cell_type": "markdown",
   "metadata": {},
   "source": [
    "Calling `.apply(id_to_url)` on a single column Series passes each item\n",
    "in the Series to the function and returns a new Series where each value\n",
    "is the corresponding value returned by the function. We can then assign\n",
    "the resulting Series into a new `url` column:"
   ]
  },
  {
   "cell_type": "code",
   "execution_count": null,
   "metadata": {},
   "outputs": [],
   "source": [
    "listings_df['url'] = listings_df['id'].apply(id_to_url)\n",
    "listings_df"
   ]
  },
  {
   "cell_type": "markdown",
   "metadata": {},
   "source": [
    "We can also use `.apply()` with `axis='index'` on an entire DataFrame to\n",
    "pass an entire row at a time to the function:"
   ]
  },
  {
   "cell_type": "code",
   "execution_count": null,
   "metadata": {},
   "outputs": [],
   "source": [
    "def listing_to_description(row):\n",
    "    room_type = row['room_type']\n",
    "    host_name = row['host_name']\n",
    "    return f'{room_type} by {host_name}'\n",
    "\n",
    "listings_df['description'] = listings_df.apply(listing_to_description, axis='columns')\n",
    "listings_df"
   ]
  },
  {
   "cell_type": "markdown",
   "metadata": {},
   "source": [
    "## Organising code with functions\n",
    "\n",
    "-   Consider the following two blocks of code that look for “above\n",
    "    average” listings.\n",
    "-   You can copy the code from:\n",
    "    [pynoon.github.io/curriculum/lesson_data_4/duplication_example.py](https://pynoon.github.io/curriculum/lesson_data_4/duplication_example.py)"
   ]
  },
  {
   "cell_type": "code",
   "execution_count": null,
   "metadata": {},
   "outputs": [],
   "source": [
    "akl_listings_df = listings_df[listings_df['region_parent_name'] == 'Auckland']\n",
    "akl_average_price = akl_listings_df['price_nzd'].median()\n",
    "akl_above_average_price_df = akl_listings_df[akl_listings_df['price_nzd'] > akl_median_price]\n",
    "display(akl_above_average_price_df)\n",
    "\n",
    "wlg_listings_df = listings_df[listings_df['region_parent_name'] == 'Wellington City']\n",
    "wlg_average_rating = wlg_listings_df['review_scores_rating'].median()\n",
    "wlg_above_average_rating_df = wlg_listings_df[wlg_listings_df['review_scores_rating'] > wlg_average_rating]\n",
    "display(wlg_above_average_rating_df)"
   ]
  },
  {
   "cell_type": "markdown",
   "metadata": {},
   "source": [
    "-   We can define a re-usable function to reduce code duplication here.\n",
    "-   First, let’s identify the differences between the blocks of code:\n",
    "    -   One looks at Auckland, the other Wellington\n",
    "    -   One considers price, the other rating\n",
    "-   These points of difference determine the arguments to our function.\n",
    "-   We also add a **docstring** to document what our function does."
   ]
  },
  {
   "cell_type": "code",
   "execution_count": null,
   "metadata": {},
   "outputs": [],
   "source": [
    "def get_above_average_listings_df(listings_df, comparison_column):\n",
    "    \"\"\"Returns the subset of the given listings_df that is above average\n",
    "    according to the given comparison_column.\"\"\"\n",
    "    average_value = listings_df[comparison_column].median()\n",
    "    return listings_df[listings_df[comparison_column] > average_value]"
   ]
  },
  {
   "cell_type": "code",
   "execution_count": null,
   "metadata": {},
   "outputs": [],
   "source": [
    "akl_above_average_price_df = get_above_average_listings_df(\n",
    "    listings_df=listings_df[listings_df['region_parent_name'] == 'Wellington City'],\n",
    "    comparison_column='price_nzd',\n",
    ")\n",
    "wlg_above_average_rating_df = get_above_average_listings_df(\n",
    "    listings_df=listings_df[listings_df['region_parent_name'] == 'Wellington City'],\n",
    "    comparison_column='review_scores_rating',\n",
    ")"
   ]
  },
  {
   "cell_type": "markdown",
   "metadata": {},
   "source": [
    "-   Naming our arguments when calling the function makes it easier to\n",
    "    read the function calls.\n",
    "-   While we could accept a `parent_region_name` argument, we instead\n",
    "    accept a `listings_df`\n",
    "    -   Because it is listed as an argument, the `listings_df` *local*\n",
    "        variable inside the function is separate to the `listings_df`\n",
    "        *global* variable we have been using outside the function.\n",
    "    -   It is also good practice to avoid depending on global variables\n",
    "        in functions - it makes them more versatile for re-use.\n",
    "    -   Accepting a `listings_df` is more versatile, because we are not\n",
    "        restricted to just filtering by region - we can pass in any\n",
    "        filtered (or even unfiltered) DataFrame of listings.\n",
    "-   Whenever *refactoring* code to make it more readable, maintainable,\n",
    "    or re-usable - it is important to make sure that we have *NOT*\n",
    "    changed it’s behaviour.\n",
    "-   Writing tests is a great way to check that code produces the same\n",
    "    results.\n",
    "    -   That will be part of this lesson’s exercise"
   ]
  }
 ],
 "metadata": {
  "kernelspec": {
   "display_name": "Python (Pyodide)",
   "language": "python",
   "name": "python3"
  },
  "language_info": {
   "codemirror_mode": {
    "name": "python",
    "version": "3"
   },
   "file_extension": ".py",
   "mimetype": "text/x-python",
   "name": "python",
   "nbconvert_exporter": "python",
   "pygments_lexer": "ipython3",
   "version": "3.8"
  }
 },
 "nbformat": 4,
 "nbformat_minor": 4
}
